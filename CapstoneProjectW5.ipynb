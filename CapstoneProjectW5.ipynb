{
 "cells": [
  {
   "cell_type": "markdown",
   "metadata": {},
   "source": [
    "# Capstone Project - The Battle of Neighborhoods (Week 2)"
   ]
  },
  {
   "cell_type": "markdown",
   "metadata": {},
   "source": [
    "### Applied Data Science Capstone by IBM/Coursera"
   ]
  },
  {
   "cell_type": "markdown",
   "metadata": {},
   "source": [
    "## Table of contents\n",
    "- [Introduction](#introduction)\n",
    "- [Data Description](#data)\n",
    "- [Methodology](#methodology)\n",
    "- [Analysis](#analysis)\n",
    "- [Results and Discussion](#result)\n",
    "- [Conclusion](#conclusion)\n",
    "- [Reference](#reference)\n"
   ]
  },
  {
   "cell_type": "markdown",
   "metadata": {},
   "source": [
    "## **Introduction**<a name=\"introduction\"></a>"
   ]
  },
  {
   "cell_type": "markdown",
   "metadata": {},
   "source": [
    "### **Discussion of the background and Description of the problem:**"
   ]
  },
  {
   "cell_type": "markdown",
   "metadata": {},
   "source": [
    "Toronto, the capital of the province of Ontario, is the largest city of Canada with population over 2,826,498, and it is one of the most multicultural cities in the world, with immigrants bringing in their traditions, languages and especially their food culture into the city. **[1]**\n",
    "\n",
    "Therefore, food service industry is one of the very important and yet competitive industries in Toronto to serve this highly populated and diversified city.  And finding of the best places for opening up new restaurants in Toronto are particularly important for restaurant investors to minimize their risk when entering into the restaurant food service sector.\n",
    "\n",
    "However, due to Toronto’s historical immigration reasons and multicultural nature, different ethnic groups would have established their own ethnic community areas and preferred activity neighborhoods; this might affect new restaurants’ success and might add risks for the investors if restaurant location to their target restaurant clients are not matching properly.\n",
    "\n",
    "So, we would like to use the tools of Data Science to find the best possible successful location for a new restaurant for particular ethic style restaurant (in this case, location for a new Chinese restaurant).   We would like to use data analysis to consider the proposed restaurant locations’ population, and locations’ existing ethic food preference in recommendation of new restaurant locations.\n",
    "\n"
   ]
  },
  {
   "cell_type": "markdown",
   "metadata": {},
   "source": [
    " "
   ]
  },
  {
   "cell_type": "markdown",
   "metadata": {},
   "source": [
    "## **Data Description and how these data will be used to solve the problem:** <a name=\"data\"></a>\n"
   ]
  },
  {
   "cell_type": "markdown",
   "metadata": {},
   "source": [
    "#### **Data Analysis (i.e. Data Requirement and Data Collection):**"
   ]
  },
  {
   "cell_type": "markdown",
   "metadata": {},
   "source": [
    "Data from the Government of Canadia Census 2016 data for Toronto, the venue exploration data from the Foursquare API, as well as Geometric data would be utilized for this new restaurant location search."
   ]
  },
  {
   "cell_type": "markdown",
   "metadata": {},
   "source": [
    "**1)**  **Pseudo-Household Demographic Distribution data from the Government of Canada Open Government site** (i.e. https://open.canada.ca/data/en/dataset/b3a1d603-19ca-466c-ae95-b5185e56addf ) would be used as population information source for the proposed location data.  **__[2]__**\n",
    "\n",
    "The Pseudo-Household Demographic Distribution is a geospatial representative distribution of demographic data (population and households) derived from the Canadian Census from Statistics Canada.  \n",
    "\n",
    "Pseudo-household demographics are currently used to calculate broadband Internet service availability, but are equally applicable to other disciplines requiring a spatial distribution of households or population.   And in our case, we would utilize this population data in help to search for new best restaurant location candidates.\n",
    "\n",
    "We would use _Python Pandas_ package’s read_csv function to read in specific Pseudo-Household Demographic Distribution data .csv format file.   \n",
    "\n",
    "Due to the large size of the original Government Canada Pseudo-Household Demographic Distribution .csv file for the whole Ontario, we would first remove extra unnecessary data outside of Toronto and would focus analysis on Toronto related data.\n"
   ]
  },
  {
   "cell_type": "markdown",
   "metadata": {},
   "source": [
    "**2)**  **FourSquare API data** would be used to get existing restaurant ethnic style information from Foursquare database for various restaurant location candidates in Toronto. **__[3]__**"
   ]
  },
  {
   "cell_type": "markdown",
   "metadata": {},
   "source": [
    "**3)** Python geopy geocoder classes for the **OpenStreetMap Nominatim database** would be used to handle geometric data lookup on getting the actual physical proposed restaurant locations from the final location candidates. **[4]**"
   ]
  },
  {
   "cell_type": "markdown",
   "metadata": {},
   "source": [
    " "
   ]
  },
  {
   "cell_type": "markdown",
   "metadata": {},
   "source": [
    "## **Methodlogy:** <a name=\"methodlogy\"></a>"
   ]
  },
  {
   "cell_type": "markdown",
   "metadata": {},
   "source": [
    "#### **Methodlogy on Data Understanding and Data Preparation:**"
   ]
  },
  {
   "cell_type": "markdown",
   "metadata": {},
   "source": [
    "##### **1. Descriptive statistics:**"
   ]
  },
  {
   "cell_type": "markdown",
   "metadata": {},
   "source": [
    "In order to better understand the above data sources on population and location venues if there were any relationship to restaurant location and to access their data quality, we would use _Python Pandas, Numpy and Matplotlib libraries_ to perform descriptive statistics such as **Univariate statistics** (i.e. mean, minimum, maximum and standard deviation) and to see how variables are distributed and what sorts of data preparation may be needed to make variables more useful in model.\n"
   ]
  },
  {
   "cell_type": "markdown",
   "metadata": {},
   "source": [
    "##### **2. Feature Engineering:**"
   ]
  },
  {
   "cell_type": "markdown",
   "metadata": {},
   "source": [
    "We would use our domain knowledge of restaurant operation and understanding of data sources form above descriptive statistics analysis to perform Feature Engineering and to create features that make the machine learning algorithms work. \n"
   ]
  },
  {
   "cell_type": "markdown",
   "metadata": {},
   "source": [
    "##### **3. Model Evaluation:**"
   ]
  },
  {
   "cell_type": "markdown",
   "metadata": {},
   "source": [
    "Since we are trying to find possible location grouping for restaurant, we would use the _Python SKLearn package_ to model **Unsupervised Learning method K-Means**.  And we would perform **Statistical Significance Testing** to tune and optimize the K-Means model.\n"
   ]
  },
  {
   "cell_type": "markdown",
   "metadata": {},
   "source": [
    "##### **4. Data Visualization:**"
   ]
  },
  {
   "cell_type": "markdown",
   "metadata": {},
   "source": [
    "We would use **Histogram** to analysis and  _Python Folium library_ for map visualization of the final proposed restaurant locations in a Toronto map.  And we would use _Python geopy geocoder classes for the OpenStreetMap Nominatim_ to get their actual physical location addresses.\n",
    "\n"
   ]
  },
  {
   "cell_type": "markdown",
   "metadata": {},
   "source": [
    " "
   ]
  },
  {
   "cell_type": "markdown",
   "metadata": {},
   "source": [
    "#### **A) Coding on Data preparation for Toronto Census Population Data:**"
   ]
  },
  {
   "cell_type": "code",
   "execution_count": 1,
   "metadata": {},
   "outputs": [
    {
     "name": "stdout",
     "output_type": "stream",
     "text": [
      "Libraries imported.\n"
     ]
    }
   ],
   "source": [
    "import numpy as np # library to handle data in a vectorized manner\n",
    "import pandas as pd # library for data analsysis\n",
    "pd.set_option('display.max_columns', None)\n",
    "pd.set_option('display.max_rows', None)\n",
    "\n",
    "import json # library to handle JSON files\n",
    "import requests # library to handle requests\n",
    "from pandas.io.json import json_normalize # tranform JSON file into a pandas dataframe\n",
    "\n",
    "#!conda install -c conda-forge geopy --yes # uncomment this line if you haven't completed the Foursquare API lab\n",
    "from geopy.geocoders import Nominatim # convert an address into latitude and longitude values\n",
    "\n",
    "# Matplotlib and associated plotting modules\n",
    "import matplotlib.cm as cm\n",
    "import matplotlib.colors as colors\n",
    "\n",
    "# import k-means from clustering stage\n",
    "from sklearn.cluster import KMeans\n",
    "\n",
    "import folium # map rendering library\n",
    "import matplotlib.pyplot as plt\n",
    "print('Libraries imported.')\n",
    "\n"
   ]
  },
  {
   "cell_type": "markdown",
   "metadata": {},
   "source": [
    "#### Get Toronto's Pseudo-Household Demographic Distribution from government site:\n",
    "Due to the large size of the original Government Canada Pseudo-Household Demographic Distribution .csv file for the whole Ontario, we would first remove extra unnecessary data outside of Toronto and would focus analysis on Toronto related data."
   ]
  },
  {
   "cell_type": "code",
   "execution_count": 2,
   "metadata": {},
   "outputs": [
    {
     "name": "stdout",
     "output_type": "stream",
     "text": [
      "(40845, 10)\n"
     ]
    },
    {
     "data": {
      "text/html": [
       "<div>\n",
       "<style scoped>\n",
       "    .dataframe tbody tr th:only-of-type {\n",
       "        vertical-align: middle;\n",
       "    }\n",
       "\n",
       "    .dataframe tbody tr th {\n",
       "        vertical-align: top;\n",
       "    }\n",
       "\n",
       "    .dataframe thead th {\n",
       "        text-align: right;\n",
       "    }\n",
       "</style>\n",
       "<table border=\"1\" class=\"dataframe\">\n",
       "  <thead>\n",
       "    <tr style=\"text-align: right;\">\n",
       "      <th></th>\n",
       "      <th>PHH_ID</th>\n",
       "      <th>Type</th>\n",
       "      <th>POP</th>\n",
       "      <th>TDwell2016_TLog2016</th>\n",
       "      <th>URDwell2016_RH2016</th>\n",
       "      <th>DBUID_Ididu</th>\n",
       "      <th>HEXUID_IdUHEX</th>\n",
       "      <th>Pruid_Pridu</th>\n",
       "      <th>Latitude</th>\n",
       "      <th>Longitude</th>\n",
       "    </tr>\n",
       "  </thead>\n",
       "  <tbody>\n",
       "    <tr>\n",
       "      <th>0</th>\n",
       "      <td>1798025</td>\n",
       "      <td>6</td>\n",
       "      <td>25.900000</td>\n",
       "      <td>5.900000</td>\n",
       "      <td>5.650000</td>\n",
       "      <td>35203509002</td>\n",
       "      <td>ON43690793</td>\n",
       "      <td>35</td>\n",
       "      <td>43.692913</td>\n",
       "      <td>-79.280054</td>\n",
       "    </tr>\n",
       "    <tr>\n",
       "      <th>1</th>\n",
       "      <td>1744786</td>\n",
       "      <td>3</td>\n",
       "      <td>32.777778</td>\n",
       "      <td>21.555556</td>\n",
       "      <td>21.333333</td>\n",
       "      <td>35200647003</td>\n",
       "      <td>ON43690793</td>\n",
       "      <td>35</td>\n",
       "      <td>43.683868</td>\n",
       "      <td>-79.280067</td>\n",
       "    </tr>\n",
       "    <tr>\n",
       "      <th>2</th>\n",
       "      <td>1798613</td>\n",
       "      <td>1</td>\n",
       "      <td>0.000000</td>\n",
       "      <td>0.000000</td>\n",
       "      <td>0.000000</td>\n",
       "      <td>35203532009</td>\n",
       "      <td>ON43740793</td>\n",
       "      <td>35</td>\n",
       "      <td>43.731089</td>\n",
       "      <td>-79.280076</td>\n",
       "    </tr>\n",
       "    <tr>\n",
       "      <th>3</th>\n",
       "      <td>1793069</td>\n",
       "      <td>4</td>\n",
       "      <td>19.600000</td>\n",
       "      <td>7.000000</td>\n",
       "      <td>7.000000</td>\n",
       "      <td>35203246007</td>\n",
       "      <td>ON43690793</td>\n",
       "      <td>35</td>\n",
       "      <td>43.684816</td>\n",
       "      <td>-79.280076</td>\n",
       "    </tr>\n",
       "    <tr>\n",
       "      <th>4</th>\n",
       "      <td>1798099</td>\n",
       "      <td>3</td>\n",
       "      <td>33.250000</td>\n",
       "      <td>11.000000</td>\n",
       "      <td>10.750000</td>\n",
       "      <td>35203512003</td>\n",
       "      <td>ON43690793</td>\n",
       "      <td>35</td>\n",
       "      <td>43.695481</td>\n",
       "      <td>-79.280081</td>\n",
       "    </tr>\n",
       "  </tbody>\n",
       "</table>\n",
       "</div>"
      ],
      "text/plain": [
       "    PHH_ID  Type        POP  TDwell2016_TLog2016  URDwell2016_RH2016  \\\n",
       "0  1798025     6  25.900000             5.900000            5.650000   \n",
       "1  1744786     3  32.777778            21.555556           21.333333   \n",
       "2  1798613     1   0.000000             0.000000            0.000000   \n",
       "3  1793069     4  19.600000             7.000000            7.000000   \n",
       "4  1798099     3  33.250000            11.000000           10.750000   \n",
       "\n",
       "   DBUID_Ididu HEXUID_IdUHEX  Pruid_Pridu   Latitude  Longitude  \n",
       "0  35203509002    ON43690793           35  43.692913 -79.280054  \n",
       "1  35200647003    ON43690793           35  43.683868 -79.280067  \n",
       "2  35203532009    ON43740793           35  43.731089 -79.280076  \n",
       "3  35203246007    ON43690793           35  43.684816 -79.280076  \n",
       "4  35203512003    ON43690793           35  43.695481 -79.280081  "
      ]
     },
     "execution_count": 2,
     "metadata": {},
     "output_type": "execute_result"
    }
   ],
   "source": [
    "toronto_csv = pd.read_csv(\"PHH-ON_Toronto.csv\")\n",
    "print(toronto_csv.shape)\n",
    "toronto_csv.head()"
   ]
  },
  {
   "cell_type": "markdown",
   "metadata": {},
   "source": [
    "#### Based on the Data Dictionary of the fields from the government site, we cleaned up the dataset to remove unnecessary columns (eg. PHH_ID, Pruid_Pridu, TDwell2016_TLog2016) and renamed columns to get better column names:"
   ]
  },
  {
   "cell_type": "markdown",
   "metadata": {},
   "source": [
    "Field | Description\n",
    "--|--\n",
    "PHH_ID|Unique identifier for pseudo-household (PHH) representative point\n",
    "Type|PHH Type:\n",
    " |1 = Centroid of a 2016 Census dissemination block,\n",
    " |2 = Atlas of Canada Placename point, \n",
    " |3 = 2016 Census Road Network Address Range Left,\n",
    " |4 = 2016 Census Road Network Address Range Right,\n",
    " |5 = Previous representative point Left,\n",
    " |6 = Previous representative point Right \n",
    "Pop2016|PHH representative population\n",
    "TDwell2016_TLog2016|PHH representative total private dwellings\n",
    "URDwell2016_RH2016|PHH representative private dwellings occupied by usual residents\n",
    "DBUID_Ididu|2016 Census dissemination block \n",
    "HEXUID_IdUHEX|Hexagon identifier\n",
    "Pruid_Pridu|Province or territory name\n",
    "Latitude|Latitude for the PHH representative point\n",
    "Longitude|Longitude for the PHH representative point\n",
    "\n",
    "\n"
   ]
  },
  {
   "cell_type": "code",
   "execution_count": 3,
   "metadata": {},
   "outputs": [
    {
     "name": "stdout",
     "output_type": "stream",
     "text": [
      "(40845, 6)\n"
     ]
    },
    {
     "data": {
      "text/html": [
       "<div>\n",
       "<style scoped>\n",
       "    .dataframe tbody tr th:only-of-type {\n",
       "        vertical-align: middle;\n",
       "    }\n",
       "\n",
       "    .dataframe tbody tr th {\n",
       "        vertical-align: top;\n",
       "    }\n",
       "\n",
       "    .dataframe thead th {\n",
       "        text-align: right;\n",
       "    }\n",
       "</style>\n",
       "<table border=\"1\" class=\"dataframe\">\n",
       "  <thead>\n",
       "    <tr style=\"text-align: right;\">\n",
       "      <th></th>\n",
       "      <th>Type</th>\n",
       "      <th>population</th>\n",
       "      <th>res_dwelling</th>\n",
       "      <th>census_blk</th>\n",
       "      <th>Latitude</th>\n",
       "      <th>Longitude</th>\n",
       "    </tr>\n",
       "  </thead>\n",
       "  <tbody>\n",
       "    <tr>\n",
       "      <th>0</th>\n",
       "      <td>6</td>\n",
       "      <td>25.900000</td>\n",
       "      <td>5.650000</td>\n",
       "      <td>35203509002</td>\n",
       "      <td>43.692913</td>\n",
       "      <td>-79.280054</td>\n",
       "    </tr>\n",
       "    <tr>\n",
       "      <th>1</th>\n",
       "      <td>3</td>\n",
       "      <td>32.777778</td>\n",
       "      <td>21.333333</td>\n",
       "      <td>35200647003</td>\n",
       "      <td>43.683868</td>\n",
       "      <td>-79.280067</td>\n",
       "    </tr>\n",
       "    <tr>\n",
       "      <th>2</th>\n",
       "      <td>1</td>\n",
       "      <td>0.000000</td>\n",
       "      <td>0.000000</td>\n",
       "      <td>35203532009</td>\n",
       "      <td>43.731089</td>\n",
       "      <td>-79.280076</td>\n",
       "    </tr>\n",
       "    <tr>\n",
       "      <th>3</th>\n",
       "      <td>4</td>\n",
       "      <td>19.600000</td>\n",
       "      <td>7.000000</td>\n",
       "      <td>35203246007</td>\n",
       "      <td>43.684816</td>\n",
       "      <td>-79.280076</td>\n",
       "    </tr>\n",
       "    <tr>\n",
       "      <th>4</th>\n",
       "      <td>3</td>\n",
       "      <td>33.250000</td>\n",
       "      <td>10.750000</td>\n",
       "      <td>35203512003</td>\n",
       "      <td>43.695481</td>\n",
       "      <td>-79.280081</td>\n",
       "    </tr>\n",
       "  </tbody>\n",
       "</table>\n",
       "</div>"
      ],
      "text/plain": [
       "   Type  population  res_dwelling   census_blk   Latitude  Longitude\n",
       "0     6   25.900000      5.650000  35203509002  43.692913 -79.280054\n",
       "1     3   32.777778     21.333333  35200647003  43.683868 -79.280067\n",
       "2     1    0.000000      0.000000  35203532009  43.731089 -79.280076\n",
       "3     4   19.600000      7.000000  35203246007  43.684816 -79.280076\n",
       "4     3   33.250000     10.750000  35203512003  43.695481 -79.280081"
      ]
     },
     "execution_count": 3,
     "metadata": {},
     "output_type": "execute_result"
    }
   ],
   "source": [
    "df_toronto = toronto_csv.drop(['PHH_ID', 'TDwell2016_TLog2016', 'Pruid_Pridu', 'HEXUID_IdUHEX'], axis=1)\n",
    "df_toronto.rename(columns={'POP':'population', 'URDwell2016_RH2016':'res_dwelling', 'DBUID_Ididu':'census_blk', 'HEXUID_IdUHEX':'hex_id'} , inplace=True)\n",
    "print(df_toronto.shape)\n",
    "df_toronto.head()"
   ]
  },
  {
   "cell_type": "markdown",
   "metadata": {},
   "source": [
    "#### Get the centroid location of census block groups as the location of each census block."
   ]
  },
  {
   "cell_type": "code",
   "execution_count": 4,
   "metadata": {},
   "outputs": [
    {
     "name": "stdout",
     "output_type": "stream",
     "text": [
      "(5653, 3)\n"
     ]
    },
    {
     "data": {
      "text/html": [
       "<div>\n",
       "<style scoped>\n",
       "    .dataframe tbody tr th:only-of-type {\n",
       "        vertical-align: middle;\n",
       "    }\n",
       "\n",
       "    .dataframe tbody tr th {\n",
       "        vertical-align: top;\n",
       "    }\n",
       "\n",
       "    .dataframe thead th {\n",
       "        text-align: right;\n",
       "    }\n",
       "</style>\n",
       "<table border=\"1\" class=\"dataframe\">\n",
       "  <thead>\n",
       "    <tr style=\"text-align: right;\">\n",
       "      <th></th>\n",
       "      <th>census_blk</th>\n",
       "      <th>Latitude</th>\n",
       "      <th>Longitude</th>\n",
       "    </tr>\n",
       "  </thead>\n",
       "  <tbody>\n",
       "    <tr>\n",
       "      <th>0</th>\n",
       "      <td>35203532009</td>\n",
       "      <td>43.731089</td>\n",
       "      <td>-79.280076</td>\n",
       "    </tr>\n",
       "    <tr>\n",
       "      <th>1</th>\n",
       "      <td>35203482017</td>\n",
       "      <td>43.716151</td>\n",
       "      <td>-79.280262</td>\n",
       "    </tr>\n",
       "    <tr>\n",
       "      <th>2</th>\n",
       "      <td>35203540004</td>\n",
       "      <td>43.742792</td>\n",
       "      <td>-79.280296</td>\n",
       "    </tr>\n",
       "    <tr>\n",
       "      <th>3</th>\n",
       "      <td>35203246001</td>\n",
       "      <td>43.685849</td>\n",
       "      <td>-79.280398</td>\n",
       "    </tr>\n",
       "    <tr>\n",
       "      <th>4</th>\n",
       "      <td>35203482007</td>\n",
       "      <td>43.723537</td>\n",
       "      <td>-79.280427</td>\n",
       "    </tr>\n",
       "  </tbody>\n",
       "</table>\n",
       "</div>"
      ],
      "text/plain": [
       "    census_blk   Latitude  Longitude\n",
       "0  35203532009  43.731089 -79.280076\n",
       "1  35203482017  43.716151 -79.280262\n",
       "2  35203540004  43.742792 -79.280296\n",
       "3  35203246001  43.685849 -79.280398\n",
       "4  35203482007  43.723537 -79.280427"
      ]
     },
     "execution_count": 4,
     "metadata": {},
     "output_type": "execute_result"
    }
   ],
   "source": [
    "df_census_blk_locs = df_toronto.loc[ toronto_csv.loc[:, \"Type\"] == 1, ['census_blk', 'Latitude', 'Longitude'] ]\n",
    "df_census_blk_locs.reset_index( inplace= True)\n",
    "df_census_blk_locs.drop(['index'], axis=1, inplace=True)\n",
    "print(df_census_blk_locs.shape)\n",
    "df_census_blk_locs.head()"
   ]
  },
  {
   "cell_type": "markdown",
   "metadata": {},
   "source": [
    "#### Remove data rows with no population or dwelling (i.e. highway or parks).  We are only interested in areas where there are population with needs for restaurant."
   ]
  },
  {
   "cell_type": "code",
   "execution_count": 5,
   "metadata": {},
   "outputs": [
    {
     "name": "stdout",
     "output_type": "stream",
     "text": [
      "(34706, 6)\n"
     ]
    }
   ],
   "source": [
    "indexNoPopNoDwell = df_toronto[ (df_toronto['population'] == 0) | (df_toronto['res_dwelling'] == 0)].index\n",
    "df_toronto.drop(indexNoPopNoDwell , inplace=True)\n",
    "\n",
    "# reset index after dropped rows\n",
    "df_toronto.reset_index(drop=True, inplace=True)\n",
    "print(df_toronto.shape)"
   ]
  },
  {
   "cell_type": "markdown",
   "metadata": {},
   "source": [
    "#### Find the population and dwelling sum on each census block."
   ]
  },
  {
   "cell_type": "code",
   "execution_count": 6,
   "metadata": {},
   "outputs": [
    {
     "data": {
      "text/html": [
       "<div>\n",
       "<style scoped>\n",
       "    .dataframe tbody tr th:only-of-type {\n",
       "        vertical-align: middle;\n",
       "    }\n",
       "\n",
       "    .dataframe tbody tr th {\n",
       "        vertical-align: top;\n",
       "    }\n",
       "\n",
       "    .dataframe thead th {\n",
       "        text-align: right;\n",
       "    }\n",
       "</style>\n",
       "<table border=\"1\" class=\"dataframe\">\n",
       "  <thead>\n",
       "    <tr style=\"text-align: right;\">\n",
       "      <th></th>\n",
       "      <th>census_blk</th>\n",
       "      <th>population_sum</th>\n",
       "      <th>res_dwelling_sum</th>\n",
       "    </tr>\n",
       "  </thead>\n",
       "  <tbody>\n",
       "    <tr>\n",
       "      <th>0</th>\n",
       "      <td>35200374002</td>\n",
       "      <td>54.000000</td>\n",
       "      <td>21.000000</td>\n",
       "    </tr>\n",
       "    <tr>\n",
       "      <th>1</th>\n",
       "      <td>35200374003</td>\n",
       "      <td>238.000000</td>\n",
       "      <td>99.000000</td>\n",
       "    </tr>\n",
       "    <tr>\n",
       "      <th>2</th>\n",
       "      <td>35200374004</td>\n",
       "      <td>96.615385</td>\n",
       "      <td>36.923077</td>\n",
       "    </tr>\n",
       "    <tr>\n",
       "      <th>3</th>\n",
       "      <td>35200375005</td>\n",
       "      <td>73.000000</td>\n",
       "      <td>29.000000</td>\n",
       "    </tr>\n",
       "    <tr>\n",
       "      <th>4</th>\n",
       "      <td>35200375006</td>\n",
       "      <td>86.142857</td>\n",
       "      <td>33.428571</td>\n",
       "    </tr>\n",
       "  </tbody>\n",
       "</table>\n",
       "</div>"
      ],
      "text/plain": [
       "    census_blk  population_sum  res_dwelling_sum\n",
       "0  35200374002       54.000000         21.000000\n",
       "1  35200374003      238.000000         99.000000\n",
       "2  35200374004       96.615385         36.923077\n",
       "3  35200375005       73.000000         29.000000\n",
       "4  35200375006       86.142857         33.428571"
      ]
     },
     "execution_count": 6,
     "metadata": {},
     "output_type": "execute_result"
    }
   ],
   "source": [
    "df_census_pop = df_toronto.groupby('census_blk').agg({\"population\" :['sum'], \"res_dwelling\" :['sum']})\n",
    "df_census_pop.columns = [\"_\".join(x) for x in df_census_pop.columns.ravel()]\n",
    "df_census_pop.reset_index( inplace= True)\n",
    "df_census_pop.head()"
   ]
  },
  {
   "cell_type": "markdown",
   "metadata": {},
   "source": [
    "#### Merge census blocks population and location information together, and verify results."
   ]
  },
  {
   "cell_type": "code",
   "execution_count": 7,
   "metadata": {},
   "outputs": [
    {
     "name": "stdout",
     "output_type": "stream",
     "text": [
      "(4906, 5)\n"
     ]
    },
    {
     "data": {
      "text/html": [
       "<div>\n",
       "<style scoped>\n",
       "    .dataframe tbody tr th:only-of-type {\n",
       "        vertical-align: middle;\n",
       "    }\n",
       "\n",
       "    .dataframe tbody tr th {\n",
       "        vertical-align: top;\n",
       "    }\n",
       "\n",
       "    .dataframe thead th {\n",
       "        text-align: right;\n",
       "    }\n",
       "</style>\n",
       "<table border=\"1\" class=\"dataframe\">\n",
       "  <thead>\n",
       "    <tr style=\"text-align: right;\">\n",
       "      <th></th>\n",
       "      <th>census_blk</th>\n",
       "      <th>population_sum</th>\n",
       "      <th>res_dwelling_sum</th>\n",
       "      <th>Latitude</th>\n",
       "      <th>Longitude</th>\n",
       "    </tr>\n",
       "  </thead>\n",
       "  <tbody>\n",
       "    <tr>\n",
       "      <th>0</th>\n",
       "      <td>35200374002</td>\n",
       "      <td>54.0</td>\n",
       "      <td>21.0</td>\n",
       "      <td>43.750348</td>\n",
       "      <td>-79.380589</td>\n",
       "    </tr>\n",
       "    <tr>\n",
       "      <th>1</th>\n",
       "      <td>35200374003</td>\n",
       "      <td>238.0</td>\n",
       "      <td>99.0</td>\n",
       "      <td>43.749567</td>\n",
       "      <td>-79.382978</td>\n",
       "    </tr>\n",
       "    <tr>\n",
       "      <th>2</th>\n",
       "      <td>35200375005</td>\n",
       "      <td>73.0</td>\n",
       "      <td>29.0</td>\n",
       "      <td>43.750505</td>\n",
       "      <td>-79.383083</td>\n",
       "    </tr>\n",
       "    <tr>\n",
       "      <th>3</th>\n",
       "      <td>35200376001</td>\n",
       "      <td>426.0</td>\n",
       "      <td>130.0</td>\n",
       "      <td>43.746556</td>\n",
       "      <td>-79.377856</td>\n",
       "    </tr>\n",
       "    <tr>\n",
       "      <th>4</th>\n",
       "      <td>35200376002</td>\n",
       "      <td>59.0</td>\n",
       "      <td>19.0</td>\n",
       "      <td>43.748757</td>\n",
       "      <td>-79.378210</td>\n",
       "    </tr>\n",
       "  </tbody>\n",
       "</table>\n",
       "</div>"
      ],
      "text/plain": [
       "    census_blk  population_sum  res_dwelling_sum   Latitude  Longitude\n",
       "0  35200374002            54.0              21.0  43.750348 -79.380589\n",
       "1  35200374003           238.0              99.0  43.749567 -79.382978\n",
       "2  35200375005            73.0              29.0  43.750505 -79.383083\n",
       "3  35200376001           426.0             130.0  43.746556 -79.377856\n",
       "4  35200376002            59.0              19.0  43.748757 -79.378210"
      ]
     },
     "execution_count": 7,
     "metadata": {},
     "output_type": "execute_result"
    }
   ],
   "source": [
    "df_census_blks = pd.merge(df_census_pop, df_census_blk_locs, on='census_blk')\n",
    "print(df_census_blks.shape)\n",
    "df_census_blks.head()"
   ]
  },
  {
   "cell_type": "code",
   "execution_count": 8,
   "metadata": {},
   "outputs": [
    {
     "data": {
      "text/plain": [
       "True     4906\n",
       "False     747\n",
       "Name: census_blk, dtype: int64"
      ]
     },
     "execution_count": 8,
     "metadata": {},
     "output_type": "execute_result"
    }
   ],
   "source": [
    "# Verify result on the merge operation - 1\n",
    "df_census_blk_locs['census_blk'].isin(df_census_pop['census_blk']).value_counts()"
   ]
  },
  {
   "cell_type": "code",
   "execution_count": 9,
   "metadata": {},
   "outputs": [
    {
     "data": {
      "text/plain": [
       "True     4906\n",
       "False      67\n",
       "Name: census_blk, dtype: int64"
      ]
     },
     "execution_count": 9,
     "metadata": {},
     "output_type": "execute_result"
    }
   ],
   "source": [
    "# Verify result of the merge operation - 2\n",
    "df_census_pop['census_blk'].isin(df_census_blk_locs['census_blk']).value_counts()"
   ]
  },
  {
   "cell_type": "markdown",
   "metadata": {},
   "source": [
    "#### The Merging operation seems ok.  Noticed that there are some census block population data rows which does not have matching location rows and vice versa.  This probably due to non-populated areas (i.e. highway and parks) which we removed earlier, or related to locations around the city boundaries.   Thus, that’s ok.\n"
   ]
  },
  {
   "cell_type": "markdown",
   "metadata": {},
   "source": [
    "##### We would now perform some initial Descriptive Statistics to the Population and Residental Dwelling data."
   ]
  },
  {
   "cell_type": "code",
   "execution_count": 10,
   "metadata": {},
   "outputs": [
    {
     "data": {
      "image/png": "[encoded data removed]",
      "text/plain": [
       "<Figure size 576x432 with 1 Axes>"
      ]
     },
     "metadata": {
      "needs_background": "light"
     },
     "output_type": "display_data"
    }
   ],
   "source": [
    "### BoxPlot on Population of all Toronto census blocks\n",
    "\n",
    "df_census_blks.iloc[ : ,[1] ].plot(kind='box', figsize=(8, 6))\n",
    "plt.title('Box plot of 2016 Population of Toronto census blocks')\n",
    "plt.ylabel('Population')\n",
    "plt.show()"
   ]
  },
  {
   "cell_type": "code",
   "execution_count": 11,
   "metadata": {},
   "outputs": [
    {
     "data": {
      "image/png": "[encoded data removed]",
      "text/plain": [
       "<Figure size 576x432 with 1 Axes>"
      ]
     },
     "metadata": {
      "needs_background": "light"
     },
     "output_type": "display_data"
    }
   ],
   "source": [
    "### BoxPlot on Resident dwelling of all Toronto selected census blocks\n",
    "\n",
    "df_census_blks.iloc[ : ,[2] ].plot(kind='box', figsize=(8, 6))\n",
    "plt.title('Box plot of 2016 resident dwelling  of all Toronto census blocks')\n",
    "plt.ylabel('Number of resident dwelling')\n",
    "plt.show()"
   ]
  },
  {
   "cell_type": "code",
   "execution_count": 12,
   "metadata": {},
   "outputs": [
    {
     "data": {
      "image/png": "[encoded data removed]",
      "text/plain": [
       "<Figure size 720x432 with 1 Axes>"
      ]
     },
     "metadata": {
      "needs_background": "light"
     },
     "output_type": "display_data"
    }
   ],
   "source": [
    "df_census_blks.plot(kind='scatter', x='res_dwelling_sum', y='population_sum', figsize=(10, 6), color='darkblue')\n",
    "plt.title('Population vs Residental Dwelling')\n",
    "plt.xlabel('Amount of Residental Dwelling')\n",
    "plt.ylabel('Population')\n",
    "plt.show()"
   ]
  },
  {
   "cell_type": "markdown",
   "metadata": {},
   "source": [
    "#### From the above Box and Scatter plots, notices that population are not evenly distributed among census blocks within city Toronto.   Most census block areas are having very modest population (below 500), and there are a number of outliers that are having very high population, to as high as over 7000 population within the block.  \n",
    "\n",
    "#### Since one of the successful factors for successful new restaurant is the number of potential customers, so higher the population among the restaurant's neighborhood would be the better.  So, we would focus our further analysis on block areas with population greater than 2500. "
   ]
  },
  {
   "cell_type": "code",
   "execution_count": 13,
   "metadata": {},
   "outputs": [
    {
     "name": "stdout",
     "output_type": "stream",
     "text": [
      "(25, 5)\n"
     ]
    },
    {
     "data": {
      "text/html": [
       "<div>\n",
       "<style scoped>\n",
       "    .dataframe tbody tr th:only-of-type {\n",
       "        vertical-align: middle;\n",
       "    }\n",
       "\n",
       "    .dataframe tbody tr th {\n",
       "        vertical-align: top;\n",
       "    }\n",
       "\n",
       "    .dataframe thead th {\n",
       "        text-align: right;\n",
       "    }\n",
       "</style>\n",
       "<table border=\"1\" class=\"dataframe\">\n",
       "  <thead>\n",
       "    <tr style=\"text-align: right;\">\n",
       "      <th></th>\n",
       "      <th>census_blk</th>\n",
       "      <th>population_sum</th>\n",
       "      <th>res_dwelling_sum</th>\n",
       "      <th>Latitude</th>\n",
       "      <th>Longitude</th>\n",
       "    </tr>\n",
       "  </thead>\n",
       "  <tbody>\n",
       "    <tr>\n",
       "      <th>4565</th>\n",
       "      <td>35204567001</td>\n",
       "      <td>7244.000000</td>\n",
       "      <td>3240.0</td>\n",
       "      <td>43.668674</td>\n",
       "      <td>-79.371902</td>\n",
       "    </tr>\n",
       "    <tr>\n",
       "      <th>4102</th>\n",
       "      <td>35204074001</td>\n",
       "      <td>5498.000000</td>\n",
       "      <td>1463.0</td>\n",
       "      <td>43.701554</td>\n",
       "      <td>-79.341123</td>\n",
       "    </tr>\n",
       "    <tr>\n",
       "      <th>4800</th>\n",
       "      <td>35204819002</td>\n",
       "      <td>5410.000000</td>\n",
       "      <td>2985.0</td>\n",
       "      <td>43.640416</td>\n",
       "      <td>-79.397862</td>\n",
       "    </tr>\n",
       "    <tr>\n",
       "      <th>4087</th>\n",
       "      <td>35204049014</td>\n",
       "      <td>5190.999999</td>\n",
       "      <td>2875.0</td>\n",
       "      <td>43.731038</td>\n",
       "      <td>-79.327276</td>\n",
       "    </tr>\n",
       "    <tr>\n",
       "      <th>4101</th>\n",
       "      <td>35204073006</td>\n",
       "      <td>4849.000001</td>\n",
       "      <td>1434.0</td>\n",
       "      <td>43.705947</td>\n",
       "      <td>-79.339509</td>\n",
       "    </tr>\n",
       "  </tbody>\n",
       "</table>\n",
       "</div>"
      ],
      "text/plain": [
       "       census_blk  population_sum  res_dwelling_sum   Latitude  Longitude\n",
       "4565  35204567001     7244.000000            3240.0  43.668674 -79.371902\n",
       "4102  35204074001     5498.000000            1463.0  43.701554 -79.341123\n",
       "4800  35204819002     5410.000000            2985.0  43.640416 -79.397862\n",
       "4087  35204049014     5190.999999            2875.0  43.731038 -79.327276\n",
       "4101  35204073006     4849.000001            1434.0  43.705947 -79.339509"
      ]
     },
     "execution_count": 13,
     "metadata": {},
     "output_type": "execute_result"
    }
   ],
   "source": [
    "# Areas with population greater than 2500\n",
    "df_census_blks_GT25 = pd.DataFrame(df_census_blks.loc[df_census_blks.loc[:, 'population_sum'] >  2500,  : ])\n",
    "\n",
    "# Sort census block based on population density\n",
    "df_census_blks_GT25.sort_values(['population_sum'], ascending=False, inplace=True)\n",
    "\n",
    "print(df_census_blks_GT25.shape)\n",
    "df_census_blks_GT25.head()"
   ]
  },
  {
   "cell_type": "markdown",
   "metadata": {},
   "source": [
    "#### Perform Descriptive Statistics again to these 25 blocks with Population greater than 2500."
   ]
  },
  {
   "cell_type": "code",
   "execution_count": 14,
   "metadata": {},
   "outputs": [
    {
     "data": {
      "image/png": "[encoded data removed]",
      "text/plain": [
       "<Figure size 576x432 with 1 Axes>"
      ]
     },
     "metadata": {
      "needs_background": "light"
     },
     "output_type": "display_data"
    }
   ],
   "source": [
    "### BoxPlot on population of the selected 25 census blocks\n",
    "\n",
    "df_census_blks_GT25.iloc[ : ,[1] ].plot(kind='box', figsize=(8, 6))\n",
    "\n",
    "plt.title('Box plot of 2016 Population of Toronto census blocks with population over 2500')\n",
    "plt.ylabel('Population')\n",
    "\n",
    "plt.show()"
   ]
  },
  {
   "cell_type": "code",
   "execution_count": 15,
   "metadata": {},
   "outputs": [
    {
     "data": {
      "image/png": "[encoded data removed]",
      "text/plain": [
       "<Figure size 720x432 with 1 Axes>"
      ]
     },
     "metadata": {
      "needs_background": "light"
     },
     "output_type": "display_data"
    }
   ],
   "source": [
    "df_census_blks_GT25.plot(kind='scatter', x='res_dwelling_sum', y='population_sum', figsize=(10, 6), color='darkblue')\n",
    "\n",
    "plt.title('Population vs Residental Dwelling')\n",
    "plt.xlabel('Amount of Residental Dwelling')\n",
    "plt.ylabel('Population')\n",
    "\n",
    "plt.show()"
   ]
  },
  {
   "cell_type": "markdown",
   "metadata": {},
   "source": [
    "#### Good! These looks better.\n",
    "#### Now, we would use Foursquare to see sample data with venue information related to these 25 selected areas. "
   ]
  },
  {
   "cell_type": "markdown",
   "metadata": {},
   "source": [
    "#### **B) Coding on Data preparation for Foursquare Venue Data:**"
   ]
  },
  {
   "cell_type": "markdown",
   "metadata": {},
   "source": [
    "#### Define Foursquare Credentials and Version"
   ]
  },
  {
   "cell_type": "code",
   "execution_count": 16,
   "metadata": {},
   "outputs": [
    {
     "name": "stdout",
     "output_type": "stream",
     "text": [
      "Credentails:\n",
      "CLIENT_ID: EIXAIKKXGND2YFYGL2YCMFTFHXC1BCUXULBNCPMCW3PR2NEP\n",
      "CLIENT_SECRET:E55GTLP2MO4KGK3CLZ3GL2XZ21DUUZUQXI32ODPZPUC2PDOH\n"
     ]
    }
   ],
   "source": [
    "CLIENT_ID = 'EIXAIKKXGND2YFYGL2YCMFTFHXC1BCUXULBNCPMCW3PR2NEP' # your Foursquare ID\n",
    "CLIENT_SECRET = 'E55GTLP2MO4KGK3CLZ3GL2XZ21DUUZUQXI32ODPZPUC2PDOH' # your Foursquare Secret\n",
    "VERSION = '20180605' # Foursquare API version\n",
    "\n",
    "print('Credentails:')\n",
    "print('CLIENT_ID: ' + CLIENT_ID)\n",
    "print('CLIENT_SECRET:' + CLIENT_SECRET)"
   ]
  },
  {
   "cell_type": "markdown",
   "metadata": {},
   "source": [
    "#### Define function to extract category of the venue"
   ]
  },
  {
   "cell_type": "code",
   "execution_count": 17,
   "metadata": {},
   "outputs": [],
   "source": [
    "#### Define function to extract category of the venue\n",
    "# function that extracts the category of the venue\n",
    "def get_category_type(row):\n",
    "    try:\n",
    "        categories_list = row['categories']\n",
    "    except:\n",
    "        categories_list = row['venue.categories']\n",
    "        \n",
    "    if len(categories_list) == 0:\n",
    "        return None\n",
    "    else:\n",
    "        return categories_list[0]['name']\n",
    "\n",
    "    \n",
    "def getNearbyVenues(names, latitudes, longitudes, radius=500):\n",
    "    \n",
    "    venues_list=[]\n",
    "    for name, lat, lng in zip(names, latitudes, longitudes):\n",
    "        print(name)\n",
    "            \n",
    "        # create the API request URL\n",
    "        url = 'https://api.foursquare.com/v2/venues/explore?&client_id={}&client_secret={}&v={}&ll={},{}&radius={}&limit={}'.format(\n",
    "            CLIENT_ID, \n",
    "            CLIENT_SECRET, \n",
    "            VERSION, \n",
    "            lat, \n",
    "            lng, \n",
    "            radius, \n",
    "            LIMIT)\n",
    "            \n",
    "        # make the GET request\n",
    "        results = requests.get(url).json()[\"response\"]['groups'][0]['items']\n",
    "        \n",
    "        # return only relevant information for each nearby venue\n",
    "        venues_list.append([(\n",
    "            name, \n",
    "            lat, \n",
    "            lng, \n",
    "            v['venue']['name'], \n",
    "            v['venue']['location']['lat'], \n",
    "            v['venue']['location']['lng'],  \n",
    "            v['venue']['categories'][0]['name']) for v in results])\n",
    "\n",
    "    nearby_venues = pd.DataFrame([item for venue_list in venues_list for item in venue_list])\n",
    "    nearby_venues.columns = ['Neighborhood', \n",
    "                  'Neighborhood Latitude', \n",
    "                  'Neighborhood Longitude', \n",
    "                  'Venue', \n",
    "                  'Venue Latitude', \n",
    "                  'Venue Longitude', \n",
    "                  'Venue Category']\n",
    "    \n",
    "    return(nearby_venues)"
   ]
  },
  {
   "cell_type": "markdown",
   "metadata": {},
   "source": [
    "#### Set up Foursquare LIMIT and radius\n",
    "#### Write code to run the above function on each of the 25 most populated census block and create a new dataframe called *toronto_venues*."
   ]
  },
  {
   "cell_type": "code",
   "execution_count": 18,
   "metadata": {},
   "outputs": [
    {
     "name": "stdout",
     "output_type": "stream",
     "text": [
      "35204567001\n",
      "35204074001\n",
      "35204819002\n",
      "35204049014\n",
      "35204073006\n",
      "35204606002\n",
      "35204371001\n",
      "35204676002\n",
      "35204872001\n",
      "35204004002\n",
      "35204464001\n",
      "35204564001\n",
      "35204588001\n",
      "35204900009\n",
      "35204653009\n",
      "35204367001\n",
      "35204024001\n",
      "35204072006\n",
      "35204796001\n",
      "35204826004\n",
      "35204380001\n",
      "35204666003\n",
      "35204650006\n",
      "35203520005\n",
      "35204578001\n"
     ]
    }
   ],
   "source": [
    "LIMIT = 100 # limit of number of venues returned by Foursquare API\n",
    "radius = 1000 # define radius\n",
    "\n",
    "toronto_venues = getNearbyVenues(names=df_census_blks_GT25['census_blk'],\n",
    "                                   latitudes=df_census_blks_GT25['Latitude'],\n",
    "                                   longitudes=df_census_blks_GT25['Longitude']\n",
    "                                  )"
   ]
  },
  {
   "cell_type": "markdown",
   "metadata": {},
   "source": [
    "#### Let's check the size of the resulting dataframe"
   ]
  },
  {
   "cell_type": "code",
   "execution_count": 19,
   "metadata": {},
   "outputs": [
    {
     "name": "stdout",
     "output_type": "stream",
     "text": [
      "(1033, 7)\n"
     ]
    },
    {
     "data": {
      "text/html": [
       "<div>\n",
       "<style scoped>\n",
       "    .dataframe tbody tr th:only-of-type {\n",
       "        vertical-align: middle;\n",
       "    }\n",
       "\n",
       "    .dataframe tbody tr th {\n",
       "        vertical-align: top;\n",
       "    }\n",
       "\n",
       "    .dataframe thead th {\n",
       "        text-align: right;\n",
       "    }\n",
       "</style>\n",
       "<table border=\"1\" class=\"dataframe\">\n",
       "  <thead>\n",
       "    <tr style=\"text-align: right;\">\n",
       "      <th></th>\n",
       "      <th>Neighborhood</th>\n",
       "      <th>Neighborhood Latitude</th>\n",
       "      <th>Neighborhood Longitude</th>\n",
       "      <th>Venue</th>\n",
       "      <th>Venue Latitude</th>\n",
       "      <th>Venue Longitude</th>\n",
       "      <th>Venue Category</th>\n",
       "    </tr>\n",
       "  </thead>\n",
       "  <tbody>\n",
       "    <tr>\n",
       "      <th>0</th>\n",
       "      <td>35204567001</td>\n",
       "      <td>43.668674</td>\n",
       "      <td>-79.371902</td>\n",
       "      <td>Cranberries</td>\n",
       "      <td>43.667843</td>\n",
       "      <td>-79.369407</td>\n",
       "      <td>Diner</td>\n",
       "    </tr>\n",
       "    <tr>\n",
       "      <th>1</th>\n",
       "      <td>35204567001</td>\n",
       "      <td>43.668674</td>\n",
       "      <td>-79.371902</td>\n",
       "      <td>Mr. Jerk</td>\n",
       "      <td>43.667328</td>\n",
       "      <td>-79.373389</td>\n",
       "      <td>Caribbean Restaurant</td>\n",
       "    </tr>\n",
       "    <tr>\n",
       "      <th>2</th>\n",
       "      <td>35204567001</td>\n",
       "      <td>43.668674</td>\n",
       "      <td>-79.371902</td>\n",
       "      <td>F'Amelia</td>\n",
       "      <td>43.667536</td>\n",
       "      <td>-79.368613</td>\n",
       "      <td>Italian Restaurant</td>\n",
       "    </tr>\n",
       "    <tr>\n",
       "      <th>3</th>\n",
       "      <td>35204567001</td>\n",
       "      <td>43.668674</td>\n",
       "      <td>-79.371902</td>\n",
       "      <td>Butter Chicken Factory</td>\n",
       "      <td>43.667072</td>\n",
       "      <td>-79.369184</td>\n",
       "      <td>Indian Restaurant</td>\n",
       "    </tr>\n",
       "    <tr>\n",
       "      <th>4</th>\n",
       "      <td>35204567001</td>\n",
       "      <td>43.668674</td>\n",
       "      <td>-79.371902</td>\n",
       "      <td>Murgatroid</td>\n",
       "      <td>43.667381</td>\n",
       "      <td>-79.369311</td>\n",
       "      <td>Restaurant</td>\n",
       "    </tr>\n",
       "  </tbody>\n",
       "</table>\n",
       "</div>"
      ],
      "text/plain": [
       "   Neighborhood  Neighborhood Latitude  Neighborhood Longitude  \\\n",
       "0   35204567001              43.668674              -79.371902   \n",
       "1   35204567001              43.668674              -79.371902   \n",
       "2   35204567001              43.668674              -79.371902   \n",
       "3   35204567001              43.668674              -79.371902   \n",
       "4   35204567001              43.668674              -79.371902   \n",
       "\n",
       "                    Venue  Venue Latitude  Venue Longitude  \\\n",
       "0             Cranberries       43.667843       -79.369407   \n",
       "1                Mr. Jerk       43.667328       -79.373389   \n",
       "2                F'Amelia       43.667536       -79.368613   \n",
       "3  Butter Chicken Factory       43.667072       -79.369184   \n",
       "4              Murgatroid       43.667381       -79.369311   \n",
       "\n",
       "         Venue Category  \n",
       "0                 Diner  \n",
       "1  Caribbean Restaurant  \n",
       "2    Italian Restaurant  \n",
       "3     Indian Restaurant  \n",
       "4            Restaurant  "
      ]
     },
     "execution_count": 19,
     "metadata": {},
     "output_type": "execute_result"
    }
   ],
   "source": [
    "print(toronto_venues.shape)\n",
    "toronto_venues.head()"
   ]
  },
  {
   "cell_type": "markdown",
   "metadata": {},
   "source": [
    "#### Analyze each selected populated census block, with specific focus on information related to Restaurant."
   ]
  },
  {
   "cell_type": "code",
   "execution_count": 20,
   "metadata": {},
   "outputs": [
    {
     "data": {
      "text/html": [
       "<div>\n",
       "<style scoped>\n",
       "    .dataframe tbody tr th:only-of-type {\n",
       "        vertical-align: middle;\n",
       "    }\n",
       "\n",
       "    .dataframe tbody tr th {\n",
       "        vertical-align: top;\n",
       "    }\n",
       "\n",
       "    .dataframe thead th {\n",
       "        text-align: right;\n",
       "    }\n",
       "</style>\n",
       "<table border=\"1\" class=\"dataframe\">\n",
       "  <thead>\n",
       "    <tr style=\"text-align: right;\">\n",
       "      <th></th>\n",
       "      <th>Neighborhood</th>\n",
       "      <th>Afghan Restaurant</th>\n",
       "      <th>American Restaurant</th>\n",
       "      <th>Asian Restaurant</th>\n",
       "      <th>Belgian Restaurant</th>\n",
       "      <th>Caribbean Restaurant</th>\n",
       "      <th>Chinese Restaurant</th>\n",
       "      <th>Comfort Food Restaurant</th>\n",
       "      <th>Eastern European Restaurant</th>\n",
       "      <th>Ethiopian Restaurant</th>\n",
       "      <th>Falafel Restaurant</th>\n",
       "      <th>Fast Food Restaurant</th>\n",
       "      <th>Filipino Restaurant</th>\n",
       "      <th>French Restaurant</th>\n",
       "      <th>Greek Restaurant</th>\n",
       "      <th>Indian Restaurant</th>\n",
       "      <th>Italian Restaurant</th>\n",
       "      <th>Japanese Restaurant</th>\n",
       "      <th>Korean Restaurant</th>\n",
       "      <th>Mediterranean Restaurant</th>\n",
       "      <th>Mexican Restaurant</th>\n",
       "      <th>Middle Eastern Restaurant</th>\n",
       "      <th>Modern European Restaurant</th>\n",
       "      <th>Molecular Gastronomy Restaurant</th>\n",
       "      <th>New American Restaurant</th>\n",
       "      <th>Peruvian Restaurant</th>\n",
       "      <th>Portuguese Restaurant</th>\n",
       "      <th>Ramen Restaurant</th>\n",
       "      <th>Restaurant</th>\n",
       "      <th>Seafood Restaurant</th>\n",
       "      <th>Sushi Restaurant</th>\n",
       "      <th>Tapas Restaurant</th>\n",
       "      <th>Thai Restaurant</th>\n",
       "      <th>Theme Restaurant</th>\n",
       "      <th>Turkish Restaurant</th>\n",
       "      <th>Vegetarian / Vegan Restaurant</th>\n",
       "      <th>Vietnamese Restaurant</th>\n",
       "    </tr>\n",
       "  </thead>\n",
       "  <tbody>\n",
       "    <tr>\n",
       "      <th>0</th>\n",
       "      <td>35204567001</td>\n",
       "      <td>0</td>\n",
       "      <td>0</td>\n",
       "      <td>0</td>\n",
       "      <td>0</td>\n",
       "      <td>0</td>\n",
       "      <td>0</td>\n",
       "      <td>0</td>\n",
       "      <td>0</td>\n",
       "      <td>0</td>\n",
       "      <td>0</td>\n",
       "      <td>0</td>\n",
       "      <td>0</td>\n",
       "      <td>0</td>\n",
       "      <td>0</td>\n",
       "      <td>0</td>\n",
       "      <td>0</td>\n",
       "      <td>0</td>\n",
       "      <td>0</td>\n",
       "      <td>0</td>\n",
       "      <td>0</td>\n",
       "      <td>0</td>\n",
       "      <td>0</td>\n",
       "      <td>0</td>\n",
       "      <td>0</td>\n",
       "      <td>0</td>\n",
       "      <td>0</td>\n",
       "      <td>0</td>\n",
       "      <td>0</td>\n",
       "      <td>0</td>\n",
       "      <td>0</td>\n",
       "      <td>0</td>\n",
       "      <td>0</td>\n",
       "      <td>0</td>\n",
       "      <td>0</td>\n",
       "      <td>0</td>\n",
       "      <td>0</td>\n",
       "    </tr>\n",
       "    <tr>\n",
       "      <th>1</th>\n",
       "      <td>35204567001</td>\n",
       "      <td>0</td>\n",
       "      <td>0</td>\n",
       "      <td>0</td>\n",
       "      <td>0</td>\n",
       "      <td>1</td>\n",
       "      <td>0</td>\n",
       "      <td>0</td>\n",
       "      <td>0</td>\n",
       "      <td>0</td>\n",
       "      <td>0</td>\n",
       "      <td>0</td>\n",
       "      <td>0</td>\n",
       "      <td>0</td>\n",
       "      <td>0</td>\n",
       "      <td>0</td>\n",
       "      <td>0</td>\n",
       "      <td>0</td>\n",
       "      <td>0</td>\n",
       "      <td>0</td>\n",
       "      <td>0</td>\n",
       "      <td>0</td>\n",
       "      <td>0</td>\n",
       "      <td>0</td>\n",
       "      <td>0</td>\n",
       "      <td>0</td>\n",
       "      <td>0</td>\n",
       "      <td>0</td>\n",
       "      <td>0</td>\n",
       "      <td>0</td>\n",
       "      <td>0</td>\n",
       "      <td>0</td>\n",
       "      <td>0</td>\n",
       "      <td>0</td>\n",
       "      <td>0</td>\n",
       "      <td>0</td>\n",
       "      <td>0</td>\n",
       "    </tr>\n",
       "    <tr>\n",
       "      <th>2</th>\n",
       "      <td>35204567001</td>\n",
       "      <td>0</td>\n",
       "      <td>0</td>\n",
       "      <td>0</td>\n",
       "      <td>0</td>\n",
       "      <td>0</td>\n",
       "      <td>0</td>\n",
       "      <td>0</td>\n",
       "      <td>0</td>\n",
       "      <td>0</td>\n",
       "      <td>0</td>\n",
       "      <td>0</td>\n",
       "      <td>0</td>\n",
       "      <td>0</td>\n",
       "      <td>0</td>\n",
       "      <td>0</td>\n",
       "      <td>1</td>\n",
       "      <td>0</td>\n",
       "      <td>0</td>\n",
       "      <td>0</td>\n",
       "      <td>0</td>\n",
       "      <td>0</td>\n",
       "      <td>0</td>\n",
       "      <td>0</td>\n",
       "      <td>0</td>\n",
       "      <td>0</td>\n",
       "      <td>0</td>\n",
       "      <td>0</td>\n",
       "      <td>0</td>\n",
       "      <td>0</td>\n",
       "      <td>0</td>\n",
       "      <td>0</td>\n",
       "      <td>0</td>\n",
       "      <td>0</td>\n",
       "      <td>0</td>\n",
       "      <td>0</td>\n",
       "      <td>0</td>\n",
       "    </tr>\n",
       "    <tr>\n",
       "      <th>3</th>\n",
       "      <td>35204567001</td>\n",
       "      <td>0</td>\n",
       "      <td>0</td>\n",
       "      <td>0</td>\n",
       "      <td>0</td>\n",
       "      <td>0</td>\n",
       "      <td>0</td>\n",
       "      <td>0</td>\n",
       "      <td>0</td>\n",
       "      <td>0</td>\n",
       "      <td>0</td>\n",
       "      <td>0</td>\n",
       "      <td>0</td>\n",
       "      <td>0</td>\n",
       "      <td>0</td>\n",
       "      <td>1</td>\n",
       "      <td>0</td>\n",
       "      <td>0</td>\n",
       "      <td>0</td>\n",
       "      <td>0</td>\n",
       "      <td>0</td>\n",
       "      <td>0</td>\n",
       "      <td>0</td>\n",
       "      <td>0</td>\n",
       "      <td>0</td>\n",
       "      <td>0</td>\n",
       "      <td>0</td>\n",
       "      <td>0</td>\n",
       "      <td>0</td>\n",
       "      <td>0</td>\n",
       "      <td>0</td>\n",
       "      <td>0</td>\n",
       "      <td>0</td>\n",
       "      <td>0</td>\n",
       "      <td>0</td>\n",
       "      <td>0</td>\n",
       "      <td>0</td>\n",
       "    </tr>\n",
       "    <tr>\n",
       "      <th>4</th>\n",
       "      <td>35204567001</td>\n",
       "      <td>0</td>\n",
       "      <td>0</td>\n",
       "      <td>0</td>\n",
       "      <td>0</td>\n",
       "      <td>0</td>\n",
       "      <td>0</td>\n",
       "      <td>0</td>\n",
       "      <td>0</td>\n",
       "      <td>0</td>\n",
       "      <td>0</td>\n",
       "      <td>0</td>\n",
       "      <td>0</td>\n",
       "      <td>0</td>\n",
       "      <td>0</td>\n",
       "      <td>0</td>\n",
       "      <td>0</td>\n",
       "      <td>0</td>\n",
       "      <td>0</td>\n",
       "      <td>0</td>\n",
       "      <td>0</td>\n",
       "      <td>0</td>\n",
       "      <td>0</td>\n",
       "      <td>0</td>\n",
       "      <td>0</td>\n",
       "      <td>0</td>\n",
       "      <td>0</td>\n",
       "      <td>0</td>\n",
       "      <td>1</td>\n",
       "      <td>0</td>\n",
       "      <td>0</td>\n",
       "      <td>0</td>\n",
       "      <td>0</td>\n",
       "      <td>0</td>\n",
       "      <td>0</td>\n",
       "      <td>0</td>\n",
       "      <td>0</td>\n",
       "    </tr>\n",
       "  </tbody>\n",
       "</table>\n",
       "</div>"
      ],
      "text/plain": [
       "   Neighborhood  Afghan Restaurant  American Restaurant  Asian Restaurant  \\\n",
       "0   35204567001                  0                    0                 0   \n",
       "1   35204567001                  0                    0                 0   \n",
       "2   35204567001                  0                    0                 0   \n",
       "3   35204567001                  0                    0                 0   \n",
       "4   35204567001                  0                    0                 0   \n",
       "\n",
       "   Belgian Restaurant  Caribbean Restaurant  Chinese Restaurant  \\\n",
       "0                   0                     0                   0   \n",
       "1                   0                     1                   0   \n",
       "2                   0                     0                   0   \n",
       "3                   0                     0                   0   \n",
       "4                   0                     0                   0   \n",
       "\n",
       "   Comfort Food Restaurant  Eastern European Restaurant  Ethiopian Restaurant  \\\n",
       "0                        0                            0                     0   \n",
       "1                        0                            0                     0   \n",
       "2                        0                            0                     0   \n",
       "3                        0                            0                     0   \n",
       "4                        0                            0                     0   \n",
       "\n",
       "   Falafel Restaurant  Fast Food Restaurant  Filipino Restaurant  \\\n",
       "0                   0                     0                    0   \n",
       "1                   0                     0                    0   \n",
       "2                   0                     0                    0   \n",
       "3                   0                     0                    0   \n",
       "4                   0                     0                    0   \n",
       "\n",
       "   French Restaurant  Greek Restaurant  Indian Restaurant  Italian Restaurant  \\\n",
       "0                  0                 0                  0                   0   \n",
       "1                  0                 0                  0                   0   \n",
       "2                  0                 0                  0                   1   \n",
       "3                  0                 0                  1                   0   \n",
       "4                  0                 0                  0                   0   \n",
       "\n",
       "   Japanese Restaurant  Korean Restaurant  Mediterranean Restaurant  \\\n",
       "0                    0                  0                         0   \n",
       "1                    0                  0                         0   \n",
       "2                    0                  0                         0   \n",
       "3                    0                  0                         0   \n",
       "4                    0                  0                         0   \n",
       "\n",
       "   Mexican Restaurant  Middle Eastern Restaurant  Modern European Restaurant  \\\n",
       "0                   0                          0                           0   \n",
       "1                   0                          0                           0   \n",
       "2                   0                          0                           0   \n",
       "3                   0                          0                           0   \n",
       "4                   0                          0                           0   \n",
       "\n",
       "   Molecular Gastronomy Restaurant  New American Restaurant  \\\n",
       "0                                0                        0   \n",
       "1                                0                        0   \n",
       "2                                0                        0   \n",
       "3                                0                        0   \n",
       "4                                0                        0   \n",
       "\n",
       "   Peruvian Restaurant  Portuguese Restaurant  Ramen Restaurant  Restaurant  \\\n",
       "0                    0                      0                 0           0   \n",
       "1                    0                      0                 0           0   \n",
       "2                    0                      0                 0           0   \n",
       "3                    0                      0                 0           0   \n",
       "4                    0                      0                 0           1   \n",
       "\n",
       "   Seafood Restaurant  Sushi Restaurant  Tapas Restaurant  Thai Restaurant  \\\n",
       "0                   0                 0                 0                0   \n",
       "1                   0                 0                 0                0   \n",
       "2                   0                 0                 0                0   \n",
       "3                   0                 0                 0                0   \n",
       "4                   0                 0                 0                0   \n",
       "\n",
       "   Theme Restaurant  Turkish Restaurant  Vegetarian / Vegan Restaurant  \\\n",
       "0                 0                   0                              0   \n",
       "1                 0                   0                              0   \n",
       "2                 0                   0                              0   \n",
       "3                 0                   0                              0   \n",
       "4                 0                   0                              0   \n",
       "\n",
       "   Vietnamese Restaurant  \n",
       "0                      0  \n",
       "1                      0  \n",
       "2                      0  \n",
       "3                      0  \n",
       "4                      0  "
      ]
     },
     "execution_count": 20,
     "metadata": {},
     "output_type": "execute_result"
    }
   ],
   "source": [
    "toronto_onehot = pd.get_dummies(toronto_venues[['Venue Category']], prefix=\"\", prefix_sep=\"\")\n",
    "\n",
    "restaurant_cols = [col for col in toronto_onehot.columns if 'Restaurant' in col]\n",
    "toronto_restaurants = pd.merge(toronto_venues['Neighborhood'] , toronto_onehot[restaurant_cols], right_index=True, left_index=True)\n",
    "toronto_restaurants.head()\n"
   ]
  },
  {
   "cell_type": "markdown",
   "metadata": {},
   "source": [
    "#### And we would like to see the locations of these 25 most populated blocks in Toronto."
   ]
  },
  {
   "cell_type": "markdown",
   "metadata": {},
   "source": [
    "#### We use geopy library to get the latitude and longitude values of City Toronto, Ontario."
   ]
  },
  {
   "cell_type": "code",
   "execution_count": 21,
   "metadata": {},
   "outputs": [
    {
     "name": "stdout",
     "output_type": "stream",
     "text": [
      "The geograpical coordinate of Toronto are 43.6781255, -79.6321235335026.\n"
     ]
    }
   ],
   "source": [
    "address = 'Toronto, ONT'\n",
    "\n",
    "geolocator = Nominatim(user_agent=\"ny_explorer\")\n",
    "location = geolocator.geocode(address)\n",
    "latitude = location.latitude\n",
    "longitude = location.longitude\n",
    "print('The geograpical coordinate of Toronto are {}, {}.'.format(latitude, longitude))"
   ]
  },
  {
   "cell_type": "markdown",
   "metadata": {},
   "source": [
    "#### Then we create a map of Toronto, Ontario with the top 25 most populated areas superimposed on top."
   ]
  },
  {
   "cell_type": "code",
   "execution_count": 22,
   "metadata": {},
   "outputs": [
    {
     "data": {
      "text/html": [
       "<div style=\"width:100%;\"><div style=\"position:relative;width:100%;height:0;padding-bottom:60%;\"><iframe src=\"data:text/html;charset=utf-8;base64,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\" style=\"position:absolute;width:100%;height:100%;left:0;top:0;border:none !important;\" allowfullscreen webkitallowfullscreen mozallowfullscreen></iframe></div></div>"
      ],
      "text/plain": [
       "<folium.folium.Map at 0x2365be3cd68>"
      ]
     },
     "execution_count": 22,
     "metadata": {},
     "output_type": "execute_result"
    }
   ],
   "source": [
    "# create map of New York using latitude and longitude values\n",
    "map_toronto = folium.Map(location=[latitude, longitude], zoom_start=10)\n",
    "\n",
    "# add markers to map\n",
    "for lat, lng, census_blk, population_sum in zip(df_census_blks_GT25['Latitude'], df_census_blks_GT25['Longitude'], df_census_blks_GT25['census_blk'], df_census_blks_GT25['population_sum']):\n",
    "    label = '{}, {}'.format(population_sum, census_blk)\n",
    "    label = folium.Popup(label, parse_html=True)\n",
    "    folium.CircleMarker(\n",
    "        [lat, lng],\n",
    "        radius=5,\n",
    "        popup=label,\n",
    "        color='blue',\n",
    "        fill=True,\n",
    "        fill_color='#3186cc',\n",
    "        fill_opacity=0.7,\n",
    "        parse_html=False).add_to(map_toronto)  \n",
    "    \n",
    "map_toronto"
   ]
  },
  {
   "cell_type": "markdown",
   "metadata": {},
   "source": [
    "#### Now we have done some initial analysis, data preparation and visualization of the 25 new restaurant location candidates.  \n",
    "#### We would do further analysis on location neighborhood's ethnic food style preference and modeling."
   ]
  },
  {
   "cell_type": "markdown",
   "metadata": {},
   "source": [
    "## **Analysis:** <a name=\"analysis\"></a>"
   ]
  },
  {
   "cell_type": "markdown",
   "metadata": {},
   "source": [
    "#### **A) Coding on Foursquare Venue Data Analysis:**"
   ]
  },
  {
   "cell_type": "markdown",
   "metadata": {},
   "source": [
    "#### Besides the number of potential customers (i.e.  population among the restaurant's neighborhood ), the matching of service to the target customer is another successful factors for successful new restaurant start up (i.e. matching of the Restaurant ethnic food style with the potential customers' food preference). \n",
    "\n",
    "#### We are looking for locations to open up a new Chinese restaurant in neighborhood locations that have an existing preference to ethic food style similar to Chinese food.\n",
    "\n",
    "#### Since Chinese food is considered to be in the Oriental-Food style category, with its food being prepared using recipes or in a style resembling that used in countries of East Asia, including Japanese, Tai, Korean etc; so, neighborhood locations having existing preference to Japanese, Tai, Korean as well as Chinese food would be better location candidates for new Chinese restaurant with more potential customers. \n",
    "\n",
    "#### For better further analysis to our restaurant location search, we are going to classify and focus on venue information related to the five main Oriental Food preference styles (i.e. Oriential Chinese, Oriential Japanese, Oriential Korean, Oriential Thai and Oriential Vietnamese).  \n",
    "\n"
   ]
  },
  {
   "cell_type": "code",
   "execution_count": 23,
   "metadata": {},
   "outputs": [],
   "source": [
    "resStyleDictionary = {  'Chinese Restaurant'            : 'Style Oriental Chinese'\n",
    "                      , 'Anhui Restaurant'              : 'Style Oriental Chinese'\n",
    "                      , 'Beijing Restaurant'            : 'Style Oriental Chinese'\n",
    "                      , 'Cantonese Restaurant'          : 'Style Oriental Chinese'\n",
    "                      , 'Chinese Aristocrat Restaurant' : 'Style Oriental Chinese'\n",
    "                      , 'Dim Sum Restaurant'            : 'Style Oriental Chinese'\n",
    "                      , 'Dongbei Restaurant'            : 'Style Oriental Chinese'\n",
    "                      , 'Dumpling Restaurant'           : 'Style Oriental Chinese'\n",
    "                      , 'Fujian Restaurant'             : 'Style Oriental Chinese'\n",
    "                      , 'Guizhou Restaurant'            : 'Style Oriental Chinese'\n",
    "                      , 'Hainan Restaurant'             : 'Style Oriental Chinese'\n",
    "                      , 'Hakka Restaurant'              : 'Style Oriental Chinese'\n",
    "                      , 'Henan Restaurant'              : 'Style Oriental Chinese'\n",
    "                      , 'Hong Kong Restaurant'          : 'Style Oriental Chinese'\n",
    "                      , 'Hotpot Restaurant'             : 'Style Oriental Chinese'\n",
    "                      , 'Huaiyang Restaurant'           : 'Style Oriental Chinese'\n",
    "                      , 'Hubei Restaurant'              : 'Style Oriental Chinese'\n",
    "                      , 'Hunan Restaurant'              : 'Style Oriental Chinese'\n",
    "                      , 'Imperial Restaurant'           : 'Style Oriental Chinese'\n",
    "                      , 'Jiangsu Restaurant'            : 'Style Oriental Chinese'\n",
    "                      , 'Jiangxi Restaurant'            : 'Style Oriental Chinese'\n",
    "                      , 'Macanese Restaurant'           : 'Style Oriental Chinese'\n",
    "                      , 'Manchu Restaurant'             : 'Style Oriental Chinese'\n",
    "                      , 'Peking Duck Restaurant'        : 'Style Oriental Chinese'\n",
    "                      , 'Shaanxi Restaurant'            : 'Style Oriental Chinese'\n",
    "                      , 'Shandong Restaurant'           : 'Style Oriental Chinese'\n",
    "                      , 'Shanghai Restaurant'           : 'Style Oriental Chinese'\n",
    "                      , 'Shanxi Restaurant'             : 'Style Oriental Chinese'\n",
    "                      , 'Szechuan Restaurant'           : 'Style Oriental Chinese'\n",
    "                      , 'Taiwanese Restaurant'          : 'Style Oriental Chinese'\n",
    "                      , 'Tianjin Restaurant'            : 'Style Oriental Chinese'\n",
    "                      , 'Xinjiang Restaurant'           : 'Style Oriental Chinese'\n",
    "                      , 'Yunnan Restaurant'             : 'Style Oriental Chinese'\n",
    "                      , 'Zhejiang Restaurant'           : 'Style Oriental Chinese'\n",
    "                      , 'Japanese Restaurant'           : 'Style Oriental Japanese'\n",
    "                      , 'Donburi Restaurant'            : 'Style Oriental Japanese'\n",
    "                      , 'Japanese Curry Restaurant'     : 'Style Oriental Japanese'\n",
    "                      , 'Kaiseki Restaurant'            : 'Style Oriental Japanese'\n",
    "                      , 'Kushikatsu Restaurant'         : 'Style Oriental Japanese'\n",
    "                      , 'Monjayaki Restaurant'          : 'Style Oriental Japanese'\n",
    "                      , 'Nabe Restaurant'               : 'Style Oriental Japanese'\n",
    "                      , 'Okonomiyaki Restaurant'        : 'Style Oriental Japanese'\n",
    "                      , 'Ramen Restaurant'              : 'Style Oriental Japanese'\n",
    "                      , 'Shabu-Shabu Restaurant'        : 'Style Oriental Japanese'\n",
    "                      , 'Soba Restaurant'               : 'Style Oriental Japanese'\n",
    "                      , 'Sukiyaki Restaurant'           : 'Style Oriental Japanese'\n",
    "                      , 'Sushi Restaurant'              : 'Style Oriental Japanese'\n",
    "                      , 'Tempura Restaurant'            : 'Style Oriental Japanese'\n",
    "                      , 'Tonkatsu Restaurant'           : 'Style Oriental Japanese'\n",
    "                      , 'Udon Restaurant'               : 'Style Oriental Japanese'\n",
    "                      , 'Unagi Restaurant'              : 'Style Oriental Japanese'\n",
    "                      , 'Yakitori Restaurant'           : 'Style Oriental Japanese'\n",
    "                      , 'Yoshoku Restaurant'            : 'Style Oriental Japanese'\n",
    "                      , 'Korean Restaurant'             : 'Style Oriental Korean'\n",
    "                      , 'Bossam/Jokbal Restaurant'      : 'Style Oriental Korean'\n",
    "                      , 'Gukbap Restaurant'             : 'Style Oriental Korean'\n",
    "                      , 'Janguh Restaurant'             : 'Style Oriental Korean'\n",
    "                      , 'Samgyetang Restaurant'         : 'Style Oriental Korean'\n",
    "                      , 'Thai Restaurant'               : 'Style Oriental Thai'\n",
    "                      , 'Som Tum Restaurant'            : 'Style Oriental Thai'\n",
    "                      , 'Satay Restaurant'              : 'Style Oriental Thai'\n",
    "                      , 'Vietnamese Restaurant'         : 'Style Oriental Vietnamese'\n",
    "                     }\n",
    " "
   ]
  },
  {
   "cell_type": "markdown",
   "metadata": {},
   "source": [
    "#### We check onto the selected 25 Toronto's most populated census blocks on their venue information to get further information data on the neighborhoods' ethnic food preference."
   ]
  },
  {
   "cell_type": "code",
   "execution_count": 24,
   "metadata": {},
   "outputs": [
    {
     "name": "stdout",
     "output_type": "stream",
     "text": [
      "(1033, 5)\n"
     ]
    },
    {
     "data": {
      "text/html": [
       "<div>\n",
       "<style scoped>\n",
       "    .dataframe tbody tr th:only-of-type {\n",
       "        vertical-align: middle;\n",
       "    }\n",
       "\n",
       "    .dataframe tbody tr th {\n",
       "        vertical-align: top;\n",
       "    }\n",
       "\n",
       "    .dataframe thead th {\n",
       "        text-align: right;\n",
       "    }\n",
       "</style>\n",
       "<table border=\"1\" class=\"dataframe\">\n",
       "  <thead>\n",
       "    <tr style=\"text-align: right;\">\n",
       "      <th></th>\n",
       "      <th>Style Oriental Chinese</th>\n",
       "      <th>Style Oriental Japanese</th>\n",
       "      <th>Style Oriental Korean</th>\n",
       "      <th>Style Oriental Thai</th>\n",
       "      <th>Style Oriental Vietnamese</th>\n",
       "    </tr>\n",
       "  </thead>\n",
       "  <tbody>\n",
       "    <tr>\n",
       "      <th>0</th>\n",
       "      <td>0</td>\n",
       "      <td>0</td>\n",
       "      <td>0</td>\n",
       "      <td>0</td>\n",
       "      <td>0</td>\n",
       "    </tr>\n",
       "    <tr>\n",
       "      <th>1</th>\n",
       "      <td>0</td>\n",
       "      <td>0</td>\n",
       "      <td>0</td>\n",
       "      <td>0</td>\n",
       "      <td>0</td>\n",
       "    </tr>\n",
       "    <tr>\n",
       "      <th>2</th>\n",
       "      <td>0</td>\n",
       "      <td>0</td>\n",
       "      <td>0</td>\n",
       "      <td>0</td>\n",
       "      <td>0</td>\n",
       "    </tr>\n",
       "    <tr>\n",
       "      <th>3</th>\n",
       "      <td>0</td>\n",
       "      <td>0</td>\n",
       "      <td>0</td>\n",
       "      <td>0</td>\n",
       "      <td>0</td>\n",
       "    </tr>\n",
       "    <tr>\n",
       "      <th>4</th>\n",
       "      <td>0</td>\n",
       "      <td>0</td>\n",
       "      <td>0</td>\n",
       "      <td>0</td>\n",
       "      <td>0</td>\n",
       "    </tr>\n",
       "  </tbody>\n",
       "</table>\n",
       "</div>"
      ],
      "text/plain": [
       "   Style Oriental Chinese  Style Oriental Japanese  Style Oriental Korean  \\\n",
       "0                       0                        0                      0   \n",
       "1                       0                        0                      0   \n",
       "2                       0                        0                      0   \n",
       "3                       0                        0                      0   \n",
       "4                       0                        0                      0   \n",
       "\n",
       "   Style Oriental Thai  Style Oriental Vietnamese  \n",
       "0                    0                          0  \n",
       "1                    0                          0  \n",
       "2                    0                          0  \n",
       "3                    0                          0  \n",
       "4                    0                          0  "
      ]
     },
     "execution_count": 24,
     "metadata": {},
     "output_type": "execute_result"
    }
   ],
   "source": [
    "toronto_res_style = toronto_restaurants.groupby(resStyleDictionary, axis=1).sum(axis=1)\n",
    "print(toronto_res_style.shape)\n",
    "toronto_res_style.head()"
   ]
  },
  {
   "cell_type": "code",
   "execution_count": 25,
   "metadata": {},
   "outputs": [
    {
     "name": "stdout",
     "output_type": "stream",
     "text": [
      "(1033, 6)\n"
     ]
    },
    {
     "data": {
      "text/html": [
       "<div>\n",
       "<style scoped>\n",
       "    .dataframe tbody tr th:only-of-type {\n",
       "        vertical-align: middle;\n",
       "    }\n",
       "\n",
       "    .dataframe tbody tr th {\n",
       "        vertical-align: top;\n",
       "    }\n",
       "\n",
       "    .dataframe thead th {\n",
       "        text-align: right;\n",
       "    }\n",
       "</style>\n",
       "<table border=\"1\" class=\"dataframe\">\n",
       "  <thead>\n",
       "    <tr style=\"text-align: right;\">\n",
       "      <th></th>\n",
       "      <th>Neighborhood</th>\n",
       "      <th>Style Oriental Chinese</th>\n",
       "      <th>Style Oriental Japanese</th>\n",
       "      <th>Style Oriental Korean</th>\n",
       "      <th>Style Oriental Thai</th>\n",
       "      <th>Style Oriental Vietnamese</th>\n",
       "    </tr>\n",
       "  </thead>\n",
       "  <tbody>\n",
       "    <tr>\n",
       "      <th>0</th>\n",
       "      <td>35204567001</td>\n",
       "      <td>0</td>\n",
       "      <td>0</td>\n",
       "      <td>0</td>\n",
       "      <td>0</td>\n",
       "      <td>0</td>\n",
       "    </tr>\n",
       "    <tr>\n",
       "      <th>1</th>\n",
       "      <td>35204567001</td>\n",
       "      <td>0</td>\n",
       "      <td>0</td>\n",
       "      <td>0</td>\n",
       "      <td>0</td>\n",
       "      <td>0</td>\n",
       "    </tr>\n",
       "    <tr>\n",
       "      <th>2</th>\n",
       "      <td>35204567001</td>\n",
       "      <td>0</td>\n",
       "      <td>0</td>\n",
       "      <td>0</td>\n",
       "      <td>0</td>\n",
       "      <td>0</td>\n",
       "    </tr>\n",
       "    <tr>\n",
       "      <th>3</th>\n",
       "      <td>35204567001</td>\n",
       "      <td>0</td>\n",
       "      <td>0</td>\n",
       "      <td>0</td>\n",
       "      <td>0</td>\n",
       "      <td>0</td>\n",
       "    </tr>\n",
       "    <tr>\n",
       "      <th>4</th>\n",
       "      <td>35204567001</td>\n",
       "      <td>0</td>\n",
       "      <td>0</td>\n",
       "      <td>0</td>\n",
       "      <td>0</td>\n",
       "      <td>0</td>\n",
       "    </tr>\n",
       "  </tbody>\n",
       "</table>\n",
       "</div>"
      ],
      "text/plain": [
       "   Neighborhood  Style Oriental Chinese  Style Oriental Japanese  \\\n",
       "0   35204567001                       0                        0   \n",
       "1   35204567001                       0                        0   \n",
       "2   35204567001                       0                        0   \n",
       "3   35204567001                       0                        0   \n",
       "4   35204567001                       0                        0   \n",
       "\n",
       "   Style Oriental Korean  Style Oriental Thai  Style Oriental Vietnamese  \n",
       "0                      0                    0                          0  \n",
       "1                      0                    0                          0  \n",
       "2                      0                    0                          0  \n",
       "3                      0                    0                          0  \n",
       "4                      0                    0                          0  "
      ]
     },
     "execution_count": 25,
     "metadata": {},
     "output_type": "execute_result"
    }
   ],
   "source": [
    "#  Add back in Neighborhood/ census block to dataframe\n",
    "df_toronto_res_style = pd.merge(toronto_restaurants['Neighborhood'], toronto_res_style, right_index=True, left_index=True)\n",
    "\n",
    "print(df_toronto_res_style.shape)\n",
    "df_toronto_res_style.head()"
   ]
  },
  {
   "cell_type": "markdown",
   "metadata": {},
   "source": [
    "#### Group rows by neighborhood on the selected 25 locations, and by taking the mean of the frequency of occurrence of each Oriental Food Style category."
   ]
  },
  {
   "cell_type": "code",
   "execution_count": 26,
   "metadata": {},
   "outputs": [
    {
     "data": {
      "text/html": [
       "<div>\n",
       "<style scoped>\n",
       "    .dataframe tbody tr th:only-of-type {\n",
       "        vertical-align: middle;\n",
       "    }\n",
       "\n",
       "    .dataframe tbody tr th {\n",
       "        vertical-align: top;\n",
       "    }\n",
       "\n",
       "    .dataframe thead th {\n",
       "        text-align: right;\n",
       "    }\n",
       "</style>\n",
       "<table border=\"1\" class=\"dataframe\">\n",
       "  <thead>\n",
       "    <tr style=\"text-align: right;\">\n",
       "      <th></th>\n",
       "      <th>Neighborhood</th>\n",
       "      <th>Style Oriental Chinese</th>\n",
       "      <th>Style Oriental Japanese</th>\n",
       "      <th>Style Oriental Korean</th>\n",
       "      <th>Style Oriental Thai</th>\n",
       "      <th>Style Oriental Vietnamese</th>\n",
       "    </tr>\n",
       "  </thead>\n",
       "  <tbody>\n",
       "    <tr>\n",
       "      <th>0</th>\n",
       "      <td>35203520005</td>\n",
       "      <td>0.000000</td>\n",
       "      <td>0.000000</td>\n",
       "      <td>0.000000</td>\n",
       "      <td>0.000000</td>\n",
       "      <td>0.000000</td>\n",
       "    </tr>\n",
       "    <tr>\n",
       "      <th>1</th>\n",
       "      <td>35204004002</td>\n",
       "      <td>0.000000</td>\n",
       "      <td>0.089552</td>\n",
       "      <td>0.000000</td>\n",
       "      <td>0.014925</td>\n",
       "      <td>0.014925</td>\n",
       "    </tr>\n",
       "    <tr>\n",
       "      <th>2</th>\n",
       "      <td>35204024001</td>\n",
       "      <td>0.000000</td>\n",
       "      <td>0.000000</td>\n",
       "      <td>0.000000</td>\n",
       "      <td>0.000000</td>\n",
       "      <td>0.000000</td>\n",
       "    </tr>\n",
       "    <tr>\n",
       "      <th>3</th>\n",
       "      <td>35204049014</td>\n",
       "      <td>0.000000</td>\n",
       "      <td>0.000000</td>\n",
       "      <td>0.000000</td>\n",
       "      <td>0.000000</td>\n",
       "      <td>0.000000</td>\n",
       "    </tr>\n",
       "    <tr>\n",
       "      <th>4</th>\n",
       "      <td>35204072006</td>\n",
       "      <td>0.000000</td>\n",
       "      <td>0.000000</td>\n",
       "      <td>0.000000</td>\n",
       "      <td>0.000000</td>\n",
       "      <td>0.000000</td>\n",
       "    </tr>\n",
       "    <tr>\n",
       "      <th>5</th>\n",
       "      <td>35204073006</td>\n",
       "      <td>0.000000</td>\n",
       "      <td>0.000000</td>\n",
       "      <td>0.000000</td>\n",
       "      <td>0.000000</td>\n",
       "      <td>0.000000</td>\n",
       "    </tr>\n",
       "    <tr>\n",
       "      <th>6</th>\n",
       "      <td>35204074001</td>\n",
       "      <td>0.000000</td>\n",
       "      <td>0.000000</td>\n",
       "      <td>0.000000</td>\n",
       "      <td>0.000000</td>\n",
       "      <td>0.000000</td>\n",
       "    </tr>\n",
       "    <tr>\n",
       "      <th>7</th>\n",
       "      <td>35204367001</td>\n",
       "      <td>0.000000</td>\n",
       "      <td>0.000000</td>\n",
       "      <td>0.000000</td>\n",
       "      <td>0.000000</td>\n",
       "      <td>0.000000</td>\n",
       "    </tr>\n",
       "    <tr>\n",
       "      <th>8</th>\n",
       "      <td>35204371001</td>\n",
       "      <td>0.000000</td>\n",
       "      <td>0.000000</td>\n",
       "      <td>0.000000</td>\n",
       "      <td>0.000000</td>\n",
       "      <td>0.000000</td>\n",
       "    </tr>\n",
       "    <tr>\n",
       "      <th>9</th>\n",
       "      <td>35204380001</td>\n",
       "      <td>0.000000</td>\n",
       "      <td>0.027027</td>\n",
       "      <td>0.000000</td>\n",
       "      <td>0.000000</td>\n",
       "      <td>0.027027</td>\n",
       "    </tr>\n",
       "    <tr>\n",
       "      <th>10</th>\n",
       "      <td>35204464001</td>\n",
       "      <td>0.032258</td>\n",
       "      <td>0.032258</td>\n",
       "      <td>0.000000</td>\n",
       "      <td>0.000000</td>\n",
       "      <td>0.000000</td>\n",
       "    </tr>\n",
       "    <tr>\n",
       "      <th>11</th>\n",
       "      <td>35204564001</td>\n",
       "      <td>0.000000</td>\n",
       "      <td>0.029412</td>\n",
       "      <td>0.000000</td>\n",
       "      <td>0.000000</td>\n",
       "      <td>0.000000</td>\n",
       "    </tr>\n",
       "    <tr>\n",
       "      <th>12</th>\n",
       "      <td>35204567001</td>\n",
       "      <td>0.000000</td>\n",
       "      <td>0.026316</td>\n",
       "      <td>0.000000</td>\n",
       "      <td>0.000000</td>\n",
       "      <td>0.000000</td>\n",
       "    </tr>\n",
       "    <tr>\n",
       "      <th>13</th>\n",
       "      <td>35204578001</td>\n",
       "      <td>0.000000</td>\n",
       "      <td>0.095238</td>\n",
       "      <td>0.000000</td>\n",
       "      <td>0.015873</td>\n",
       "      <td>0.000000</td>\n",
       "    </tr>\n",
       "    <tr>\n",
       "      <th>14</th>\n",
       "      <td>35204588001</td>\n",
       "      <td>0.010000</td>\n",
       "      <td>0.080000</td>\n",
       "      <td>0.000000</td>\n",
       "      <td>0.010000</td>\n",
       "      <td>0.000000</td>\n",
       "    </tr>\n",
       "    <tr>\n",
       "      <th>15</th>\n",
       "      <td>35204606002</td>\n",
       "      <td>0.012658</td>\n",
       "      <td>0.075949</td>\n",
       "      <td>0.000000</td>\n",
       "      <td>0.012658</td>\n",
       "      <td>0.000000</td>\n",
       "    </tr>\n",
       "    <tr>\n",
       "      <th>16</th>\n",
       "      <td>35204650006</td>\n",
       "      <td>0.000000</td>\n",
       "      <td>0.000000</td>\n",
       "      <td>0.000000</td>\n",
       "      <td>0.013158</td>\n",
       "      <td>0.000000</td>\n",
       "    </tr>\n",
       "    <tr>\n",
       "      <th>17</th>\n",
       "      <td>35204653009</td>\n",
       "      <td>0.014706</td>\n",
       "      <td>0.014706</td>\n",
       "      <td>0.000000</td>\n",
       "      <td>0.000000</td>\n",
       "      <td>0.000000</td>\n",
       "    </tr>\n",
       "    <tr>\n",
       "      <th>18</th>\n",
       "      <td>35204666003</td>\n",
       "      <td>0.010309</td>\n",
       "      <td>0.020619</td>\n",
       "      <td>0.010309</td>\n",
       "      <td>0.000000</td>\n",
       "      <td>0.000000</td>\n",
       "    </tr>\n",
       "    <tr>\n",
       "      <th>19</th>\n",
       "      <td>35204676002</td>\n",
       "      <td>0.000000</td>\n",
       "      <td>0.058824</td>\n",
       "      <td>0.000000</td>\n",
       "      <td>0.000000</td>\n",
       "      <td>0.000000</td>\n",
       "    </tr>\n",
       "    <tr>\n",
       "      <th>20</th>\n",
       "      <td>35204796001</td>\n",
       "      <td>0.000000</td>\n",
       "      <td>0.000000</td>\n",
       "      <td>0.000000</td>\n",
       "      <td>0.000000</td>\n",
       "      <td>0.000000</td>\n",
       "    </tr>\n",
       "    <tr>\n",
       "      <th>21</th>\n",
       "      <td>35204819002</td>\n",
       "      <td>0.000000</td>\n",
       "      <td>0.051724</td>\n",
       "      <td>0.000000</td>\n",
       "      <td>0.000000</td>\n",
       "      <td>0.000000</td>\n",
       "    </tr>\n",
       "    <tr>\n",
       "      <th>22</th>\n",
       "      <td>35204826004</td>\n",
       "      <td>0.010000</td>\n",
       "      <td>0.030000</td>\n",
       "      <td>0.000000</td>\n",
       "      <td>0.000000</td>\n",
       "      <td>0.000000</td>\n",
       "    </tr>\n",
       "    <tr>\n",
       "      <th>23</th>\n",
       "      <td>35204872001</td>\n",
       "      <td>0.000000</td>\n",
       "      <td>0.000000</td>\n",
       "      <td>0.000000</td>\n",
       "      <td>0.000000</td>\n",
       "      <td>0.000000</td>\n",
       "    </tr>\n",
       "    <tr>\n",
       "      <th>24</th>\n",
       "      <td>35204900009</td>\n",
       "      <td>0.020833</td>\n",
       "      <td>0.020833</td>\n",
       "      <td>0.000000</td>\n",
       "      <td>0.000000</td>\n",
       "      <td>0.000000</td>\n",
       "    </tr>\n",
       "  </tbody>\n",
       "</table>\n",
       "</div>"
      ],
      "text/plain": [
       "    Neighborhood  Style Oriental Chinese  Style Oriental Japanese  \\\n",
       "0    35203520005                0.000000                 0.000000   \n",
       "1    35204004002                0.000000                 0.089552   \n",
       "2    35204024001                0.000000                 0.000000   \n",
       "3    35204049014                0.000000                 0.000000   \n",
       "4    35204072006                0.000000                 0.000000   \n",
       "5    35204073006                0.000000                 0.000000   \n",
       "6    35204074001                0.000000                 0.000000   \n",
       "7    35204367001                0.000000                 0.000000   \n",
       "8    35204371001                0.000000                 0.000000   \n",
       "9    35204380001                0.000000                 0.027027   \n",
       "10   35204464001                0.032258                 0.032258   \n",
       "11   35204564001                0.000000                 0.029412   \n",
       "12   35204567001                0.000000                 0.026316   \n",
       "13   35204578001                0.000000                 0.095238   \n",
       "14   35204588001                0.010000                 0.080000   \n",
       "15   35204606002                0.012658                 0.075949   \n",
       "16   35204650006                0.000000                 0.000000   \n",
       "17   35204653009                0.014706                 0.014706   \n",
       "18   35204666003                0.010309                 0.020619   \n",
       "19   35204676002                0.000000                 0.058824   \n",
       "20   35204796001                0.000000                 0.000000   \n",
       "21   35204819002                0.000000                 0.051724   \n",
       "22   35204826004                0.010000                 0.030000   \n",
       "23   35204872001                0.000000                 0.000000   \n",
       "24   35204900009                0.020833                 0.020833   \n",
       "\n",
       "    Style Oriental Korean  Style Oriental Thai  Style Oriental Vietnamese  \n",
       "0                0.000000             0.000000                   0.000000  \n",
       "1                0.000000             0.014925                   0.014925  \n",
       "2                0.000000             0.000000                   0.000000  \n",
       "3                0.000000             0.000000                   0.000000  \n",
       "4                0.000000             0.000000                   0.000000  \n",
       "5                0.000000             0.000000                   0.000000  \n",
       "6                0.000000             0.000000                   0.000000  \n",
       "7                0.000000             0.000000                   0.000000  \n",
       "8                0.000000             0.000000                   0.000000  \n",
       "9                0.000000             0.000000                   0.027027  \n",
       "10               0.000000             0.000000                   0.000000  \n",
       "11               0.000000             0.000000                   0.000000  \n",
       "12               0.000000             0.000000                   0.000000  \n",
       "13               0.000000             0.015873                   0.000000  \n",
       "14               0.000000             0.010000                   0.000000  \n",
       "15               0.000000             0.012658                   0.000000  \n",
       "16               0.000000             0.013158                   0.000000  \n",
       "17               0.000000             0.000000                   0.000000  \n",
       "18               0.010309             0.000000                   0.000000  \n",
       "19               0.000000             0.000000                   0.000000  \n",
       "20               0.000000             0.000000                   0.000000  \n",
       "21               0.000000             0.000000                   0.000000  \n",
       "22               0.000000             0.000000                   0.000000  \n",
       "23               0.000000             0.000000                   0.000000  \n",
       "24               0.000000             0.000000                   0.000000  "
      ]
     },
     "execution_count": 26,
     "metadata": {},
     "output_type": "execute_result"
    }
   ],
   "source": [
    "df_toronto_res_style_grouped = df_toronto_res_style.groupby('Neighborhood').mean().reset_index()\n",
    "df_toronto_res_style_grouped"
   ]
  },
  {
   "cell_type": "markdown",
   "metadata": {},
   "source": [
    "#### Now, we would like to setup a k-means model and see if there are any clustering or further information being reviewed relating to Orient Style Food preference."
   ]
  },
  {
   "cell_type": "markdown",
   "metadata": {},
   "source": [
    "#### **B) Coding on Modelling:**"
   ]
  },
  {
   "cell_type": "markdown",
   "metadata": {},
   "source": [
    "#### Run k-means to cluster the neighborhood into 3 clusters."
   ]
  },
  {
   "cell_type": "code",
   "execution_count": 27,
   "metadata": {},
   "outputs": [
    {
     "data": {
      "text/plain": [
       "array([2, 1, 2, 2, 2, 2, 2, 2, 2, 0, 0, 0, 0, 1, 1, 1, 2, 0, 0, 1, 2, 0,\n",
       "       0, 2, 0])"
      ]
     },
     "execution_count": 27,
     "metadata": {},
     "output_type": "execute_result"
    }
   ],
   "source": [
    "# set number of clusters\n",
    "kclusters = 3\n",
    "\n",
    "df_toronto_res_style_grouped_clustering = df_toronto_res_style_grouped.drop('Neighborhood', 1)\n",
    "\n",
    "# run k-means clustering\n",
    "kmeans = KMeans(n_clusters=kclusters, random_state=0).fit(df_toronto_res_style_grouped_clustering)\n",
    "\n",
    "# check cluster labels generated for each row in the dataframe\n",
    "kmeans.labels_[:] "
   ]
  },
  {
   "cell_type": "markdown",
   "metadata": {},
   "source": [
    "#### Create a new dataframe that includes the cluster as well as the restaurant style preference percentage."
   ]
  },
  {
   "cell_type": "code",
   "execution_count": 28,
   "metadata": {},
   "outputs": [
    {
     "data": {
      "text/html": [
       "<div>\n",
       "<style scoped>\n",
       "    .dataframe tbody tr th:only-of-type {\n",
       "        vertical-align: middle;\n",
       "    }\n",
       "\n",
       "    .dataframe tbody tr th {\n",
       "        vertical-align: top;\n",
       "    }\n",
       "\n",
       "    .dataframe thead th {\n",
       "        text-align: right;\n",
       "    }\n",
       "</style>\n",
       "<table border=\"1\" class=\"dataframe\">\n",
       "  <thead>\n",
       "    <tr style=\"text-align: right;\">\n",
       "      <th></th>\n",
       "      <th>census_blk</th>\n",
       "      <th>population_sum</th>\n",
       "      <th>res_dwelling_sum</th>\n",
       "      <th>Latitude</th>\n",
       "      <th>Longitude</th>\n",
       "      <th>Cluster Labels</th>\n",
       "      <th>Style Oriental Chinese</th>\n",
       "      <th>Style Oriental Japanese</th>\n",
       "      <th>Style Oriental Korean</th>\n",
       "      <th>Style Oriental Thai</th>\n",
       "      <th>Style Oriental Vietnamese</th>\n",
       "    </tr>\n",
       "  </thead>\n",
       "  <tbody>\n",
       "    <tr>\n",
       "      <th>4565</th>\n",
       "      <td>35204567001</td>\n",
       "      <td>7244.000000</td>\n",
       "      <td>3240.0</td>\n",
       "      <td>43.668674</td>\n",
       "      <td>-79.371902</td>\n",
       "      <td>0</td>\n",
       "      <td>0.0</td>\n",
       "      <td>0.026316</td>\n",
       "      <td>0.0</td>\n",
       "      <td>0.0</td>\n",
       "      <td>0.0</td>\n",
       "    </tr>\n",
       "    <tr>\n",
       "      <th>4102</th>\n",
       "      <td>35204074001</td>\n",
       "      <td>5498.000000</td>\n",
       "      <td>1463.0</td>\n",
       "      <td>43.701554</td>\n",
       "      <td>-79.341123</td>\n",
       "      <td>2</td>\n",
       "      <td>0.0</td>\n",
       "      <td>0.000000</td>\n",
       "      <td>0.0</td>\n",
       "      <td>0.0</td>\n",
       "      <td>0.0</td>\n",
       "    </tr>\n",
       "    <tr>\n",
       "      <th>4800</th>\n",
       "      <td>35204819002</td>\n",
       "      <td>5410.000000</td>\n",
       "      <td>2985.0</td>\n",
       "      <td>43.640416</td>\n",
       "      <td>-79.397862</td>\n",
       "      <td>0</td>\n",
       "      <td>0.0</td>\n",
       "      <td>0.051724</td>\n",
       "      <td>0.0</td>\n",
       "      <td>0.0</td>\n",
       "      <td>0.0</td>\n",
       "    </tr>\n",
       "    <tr>\n",
       "      <th>4087</th>\n",
       "      <td>35204049014</td>\n",
       "      <td>5190.999999</td>\n",
       "      <td>2875.0</td>\n",
       "      <td>43.731038</td>\n",
       "      <td>-79.327276</td>\n",
       "      <td>2</td>\n",
       "      <td>0.0</td>\n",
       "      <td>0.000000</td>\n",
       "      <td>0.0</td>\n",
       "      <td>0.0</td>\n",
       "      <td>0.0</td>\n",
       "    </tr>\n",
       "    <tr>\n",
       "      <th>4101</th>\n",
       "      <td>35204073006</td>\n",
       "      <td>4849.000001</td>\n",
       "      <td>1434.0</td>\n",
       "      <td>43.705947</td>\n",
       "      <td>-79.339509</td>\n",
       "      <td>2</td>\n",
       "      <td>0.0</td>\n",
       "      <td>0.000000</td>\n",
       "      <td>0.0</td>\n",
       "      <td>0.0</td>\n",
       "      <td>0.0</td>\n",
       "    </tr>\n",
       "  </tbody>\n",
       "</table>\n",
       "</div>"
      ],
      "text/plain": [
       "       census_blk  population_sum  res_dwelling_sum   Latitude  Longitude  \\\n",
       "4565  35204567001     7244.000000            3240.0  43.668674 -79.371902   \n",
       "4102  35204074001     5498.000000            1463.0  43.701554 -79.341123   \n",
       "4800  35204819002     5410.000000            2985.0  43.640416 -79.397862   \n",
       "4087  35204049014     5190.999999            2875.0  43.731038 -79.327276   \n",
       "4101  35204073006     4849.000001            1434.0  43.705947 -79.339509   \n",
       "\n",
       "      Cluster Labels  Style Oriental Chinese  Style Oriental Japanese  \\\n",
       "4565               0                     0.0                 0.026316   \n",
       "4102               2                     0.0                 0.000000   \n",
       "4800               0                     0.0                 0.051724   \n",
       "4087               2                     0.0                 0.000000   \n",
       "4101               2                     0.0                 0.000000   \n",
       "\n",
       "      Style Oriental Korean  Style Oriental Thai  Style Oriental Vietnamese  \n",
       "4565                    0.0                  0.0                        0.0  \n",
       "4102                    0.0                  0.0                        0.0  \n",
       "4800                    0.0                  0.0                        0.0  \n",
       "4087                    0.0                  0.0                        0.0  \n",
       "4101                    0.0                  0.0                        0.0  "
      ]
     },
     "execution_count": 28,
     "metadata": {},
     "output_type": "execute_result"
    }
   ],
   "source": [
    "# add clustering labels\n",
    "df_toronto_res_style_grouped.insert(0, 'Cluster Labels', kmeans.labels_)\n",
    "\n",
    "toronto_merged = df_census_blks_GT25\n",
    "\n",
    "# merge toronto_grouped with toronto_data to add latitude/longitude for each neighborhood\n",
    "toronto_merged = toronto_merged.join(df_toronto_res_style_grouped.set_index('Neighborhood'), on='census_blk')\n",
    "\n",
    "toronto_merged.head() # check the last columns!"
   ]
  },
  {
   "cell_type": "markdown",
   "metadata": {},
   "source": [
    "#### Visualize the resulting clusters."
   ]
  },
  {
   "cell_type": "code",
   "execution_count": 29,
   "metadata": {},
   "outputs": [
    {
     "data": {
      "text/html": [
       "<div style=\"width:100%;\"><div style=\"position:relative;width:100%;height:0;padding-bottom:60%;\"><iframe src=\"data:text/html;charset=utf-8;base64,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\" style=\"position:absolute;width:100%;height:100%;left:0;top:0;border:none !important;\" allowfullscreen webkitallowfullscreen mozallowfullscreen></iframe></div></div>"
      ],
      "text/plain": [
       "<folium.folium.Map at 0x2365bd3a358>"
      ]
     },
     "execution_count": 29,
     "metadata": {},
     "output_type": "execute_result"
    }
   ],
   "source": [
    "# create map\n",
    "map_clusters = folium.Map(location=[latitude, longitude], zoom_start=11)\n",
    "\n",
    "# set color scheme for the clusters\n",
    "x = np.arange(kclusters)\n",
    "ys = [i + x + (i*x)**2 for i in range(kclusters)]\n",
    "colors_array = cm.rainbow(np.linspace(0, 1, len(ys)))\n",
    "rainbow = [colors.rgb2hex(i) for i in colors_array]\n",
    "\n",
    "# add markers to the map\n",
    "markers_colors = []\n",
    "for lat, lon, poi, cluster in zip(toronto_merged['Latitude'], toronto_merged['Longitude'], toronto_merged['census_blk'], toronto_merged['Cluster Labels']):\n",
    "    label = folium.Popup(str(poi) + ' Cluster ' + str(cluster), parse_html=True)\n",
    "    folium.CircleMarker(\n",
    "        [lat, lon],\n",
    "        radius=5,\n",
    "        popup=label,\n",
    "        color=rainbow[int(cluster-1)],\n",
    "        fill=True,\n",
    "        fill_color=rainbow[int(cluster-1)],\n",
    "        fill_opacity=0.7).add_to(map_clusters)\n",
    "       \n",
    "map_clusters\n"
   ]
  },
  {
   "cell_type": "markdown",
   "metadata": {},
   "source": [
    "### Examine Clusters:"
   ]
  },
  {
   "cell_type": "markdown",
   "metadata": {},
   "source": [
    "#### Let's examine the k-means clustering result.\n",
    "#### We would print out the census block information related to each cluster and give a general description to each clusters on observation from the clustering results."
   ]
  },
  {
   "cell_type": "markdown",
   "metadata": {},
   "source": [
    "#### Cluster 0 :  This seems to be neighborhood with **MEDIUM** interest in Oriental sytle food in general.  \n",
    "##### There are some pockets or block areas with specifically higher interest to Chinese Style restaurant, which might be existing Chinese immigratant preferred neighborhoods (e.g. near China Town) that are possibly **OK** locations, but with **expected HIGHER Competition** from established Chinese restaurants; thus, may be more RISK for new Chinese Restaurant investors. "
   ]
  },
  {
   "cell_type": "code",
   "execution_count": 30,
   "metadata": {},
   "outputs": [
    {
     "data": {
      "text/html": [
       "<div>\n",
       "<style scoped>\n",
       "    .dataframe tbody tr th:only-of-type {\n",
       "        vertical-align: middle;\n",
       "    }\n",
       "\n",
       "    .dataframe tbody tr th {\n",
       "        vertical-align: top;\n",
       "    }\n",
       "\n",
       "    .dataframe thead th {\n",
       "        text-align: right;\n",
       "    }\n",
       "</style>\n",
       "<table border=\"1\" class=\"dataframe\">\n",
       "  <thead>\n",
       "    <tr style=\"text-align: right;\">\n",
       "      <th></th>\n",
       "      <th>res_dwelling_sum</th>\n",
       "      <th>Style Oriental Chinese</th>\n",
       "      <th>Style Oriental Japanese</th>\n",
       "      <th>Style Oriental Korean</th>\n",
       "      <th>Style Oriental Thai</th>\n",
       "      <th>Style Oriental Vietnamese</th>\n",
       "    </tr>\n",
       "    <tr>\n",
       "      <th>census_blk</th>\n",
       "      <th></th>\n",
       "      <th></th>\n",
       "      <th></th>\n",
       "      <th></th>\n",
       "      <th></th>\n",
       "      <th></th>\n",
       "    </tr>\n",
       "  </thead>\n",
       "  <tbody>\n",
       "    <tr>\n",
       "      <th>35204567001</th>\n",
       "      <td>3240.0</td>\n",
       "      <td>0.000000</td>\n",
       "      <td>0.026316</td>\n",
       "      <td>0.000000</td>\n",
       "      <td>0.0</td>\n",
       "      <td>0.000000</td>\n",
       "    </tr>\n",
       "    <tr>\n",
       "      <th>35204819002</th>\n",
       "      <td>2985.0</td>\n",
       "      <td>0.000000</td>\n",
       "      <td>0.051724</td>\n",
       "      <td>0.000000</td>\n",
       "      <td>0.0</td>\n",
       "      <td>0.000000</td>\n",
       "    </tr>\n",
       "    <tr>\n",
       "      <th>35204464001</th>\n",
       "      <td>1365.0</td>\n",
       "      <td>0.032258</td>\n",
       "      <td>0.032258</td>\n",
       "      <td>0.000000</td>\n",
       "      <td>0.0</td>\n",
       "      <td>0.000000</td>\n",
       "    </tr>\n",
       "    <tr>\n",
       "      <th>35204564001</th>\n",
       "      <td>1423.0</td>\n",
       "      <td>0.000000</td>\n",
       "      <td>0.029412</td>\n",
       "      <td>0.000000</td>\n",
       "      <td>0.0</td>\n",
       "      <td>0.000000</td>\n",
       "    </tr>\n",
       "    <tr>\n",
       "      <th>35204900009</th>\n",
       "      <td>1727.0</td>\n",
       "      <td>0.020833</td>\n",
       "      <td>0.020833</td>\n",
       "      <td>0.000000</td>\n",
       "      <td>0.0</td>\n",
       "      <td>0.000000</td>\n",
       "    </tr>\n",
       "    <tr>\n",
       "      <th>35204653009</th>\n",
       "      <td>1767.0</td>\n",
       "      <td>0.014706</td>\n",
       "      <td>0.014706</td>\n",
       "      <td>0.000000</td>\n",
       "      <td>0.0</td>\n",
       "      <td>0.000000</td>\n",
       "    </tr>\n",
       "    <tr>\n",
       "      <th>35204826004</th>\n",
       "      <td>1644.0</td>\n",
       "      <td>0.010000</td>\n",
       "      <td>0.030000</td>\n",
       "      <td>0.000000</td>\n",
       "      <td>0.0</td>\n",
       "      <td>0.000000</td>\n",
       "    </tr>\n",
       "    <tr>\n",
       "      <th>35204380001</th>\n",
       "      <td>1595.0</td>\n",
       "      <td>0.000000</td>\n",
       "      <td>0.027027</td>\n",
       "      <td>0.000000</td>\n",
       "      <td>0.0</td>\n",
       "      <td>0.027027</td>\n",
       "    </tr>\n",
       "    <tr>\n",
       "      <th>35204666003</th>\n",
       "      <td>1427.0</td>\n",
       "      <td>0.010309</td>\n",
       "      <td>0.020619</td>\n",
       "      <td>0.010309</td>\n",
       "      <td>0.0</td>\n",
       "      <td>0.000000</td>\n",
       "    </tr>\n",
       "  </tbody>\n",
       "</table>\n",
       "</div>"
      ],
      "text/plain": [
       "             res_dwelling_sum  Style Oriental Chinese  \\\n",
       "census_blk                                              \n",
       "35204567001            3240.0                0.000000   \n",
       "35204819002            2985.0                0.000000   \n",
       "35204464001            1365.0                0.032258   \n",
       "35204564001            1423.0                0.000000   \n",
       "35204900009            1727.0                0.020833   \n",
       "35204653009            1767.0                0.014706   \n",
       "35204826004            1644.0                0.010000   \n",
       "35204380001            1595.0                0.000000   \n",
       "35204666003            1427.0                0.010309   \n",
       "\n",
       "             Style Oriental Japanese  Style Oriental Korean  \\\n",
       "census_blk                                                    \n",
       "35204567001                 0.026316               0.000000   \n",
       "35204819002                 0.051724               0.000000   \n",
       "35204464001                 0.032258               0.000000   \n",
       "35204564001                 0.029412               0.000000   \n",
       "35204900009                 0.020833               0.000000   \n",
       "35204653009                 0.014706               0.000000   \n",
       "35204826004                 0.030000               0.000000   \n",
       "35204380001                 0.027027               0.000000   \n",
       "35204666003                 0.020619               0.010309   \n",
       "\n",
       "             Style Oriental Thai  Style Oriental Vietnamese  \n",
       "census_blk                                                   \n",
       "35204567001                  0.0                   0.000000  \n",
       "35204819002                  0.0                   0.000000  \n",
       "35204464001                  0.0                   0.000000  \n",
       "35204564001                  0.0                   0.000000  \n",
       "35204900009                  0.0                   0.000000  \n",
       "35204653009                  0.0                   0.000000  \n",
       "35204826004                  0.0                   0.000000  \n",
       "35204380001                  0.0                   0.027027  \n",
       "35204666003                  0.0                   0.000000  "
      ]
     },
     "execution_count": 30,
     "metadata": {},
     "output_type": "execute_result"
    }
   ],
   "source": [
    "toronto_merged.set_index('census_blk', inplace=True)\n",
    "toronto_merged.loc[toronto_merged['Cluster Labels'] == 0, toronto_merged.columns[[1] + list(range(5, toronto_merged.shape[1]))]]"
   ]
  },
  {
   "cell_type": "markdown",
   "metadata": {},
   "source": [
    "#### Cluster 1: This seems to be neighborhood with **HIGH** interest in Oriential sytle food with not as much existing Chinese Oriental style restaurant.\n",
    "\n",
    "##### There are some locations (e.g. blocks 35204004002, 35204578001) with Very Strong Preference to Oriental Style food with existing restaurants for other countries (Japanese, Thai or Vietnamese), but not with Oriental Chinese Style; thus, those locations might be the **BEST** location candidates for new Chinese Oriential Food restaurant. "
   ]
  },
  {
   "cell_type": "code",
   "execution_count": 31,
   "metadata": {},
   "outputs": [
    {
     "data": {
      "text/html": [
       "<div>\n",
       "<style scoped>\n",
       "    .dataframe tbody tr th:only-of-type {\n",
       "        vertical-align: middle;\n",
       "    }\n",
       "\n",
       "    .dataframe tbody tr th {\n",
       "        vertical-align: top;\n",
       "    }\n",
       "\n",
       "    .dataframe thead th {\n",
       "        text-align: right;\n",
       "    }\n",
       "</style>\n",
       "<table border=\"1\" class=\"dataframe\">\n",
       "  <thead>\n",
       "    <tr style=\"text-align: right;\">\n",
       "      <th></th>\n",
       "      <th>res_dwelling_sum</th>\n",
       "      <th>Style Oriental Chinese</th>\n",
       "      <th>Style Oriental Japanese</th>\n",
       "      <th>Style Oriental Korean</th>\n",
       "      <th>Style Oriental Thai</th>\n",
       "      <th>Style Oriental Vietnamese</th>\n",
       "    </tr>\n",
       "    <tr>\n",
       "      <th>census_blk</th>\n",
       "      <th></th>\n",
       "      <th></th>\n",
       "      <th></th>\n",
       "      <th></th>\n",
       "      <th></th>\n",
       "      <th></th>\n",
       "    </tr>\n",
       "  </thead>\n",
       "  <tbody>\n",
       "    <tr>\n",
       "      <th>35204606002</th>\n",
       "      <td>2333.0</td>\n",
       "      <td>0.012658</td>\n",
       "      <td>0.075949</td>\n",
       "      <td>0.0</td>\n",
       "      <td>0.012658</td>\n",
       "      <td>0.000000</td>\n",
       "    </tr>\n",
       "    <tr>\n",
       "      <th>35204676002</th>\n",
       "      <td>2302.0</td>\n",
       "      <td>0.000000</td>\n",
       "      <td>0.058824</td>\n",
       "      <td>0.0</td>\n",
       "      <td>0.000000</td>\n",
       "      <td>0.000000</td>\n",
       "    </tr>\n",
       "    <tr>\n",
       "      <th>35204004002</th>\n",
       "      <td>2168.0</td>\n",
       "      <td>0.000000</td>\n",
       "      <td>0.089552</td>\n",
       "      <td>0.0</td>\n",
       "      <td>0.014925</td>\n",
       "      <td>0.014925</td>\n",
       "    </tr>\n",
       "    <tr>\n",
       "      <th>35204588001</th>\n",
       "      <td>1704.0</td>\n",
       "      <td>0.010000</td>\n",
       "      <td>0.080000</td>\n",
       "      <td>0.0</td>\n",
       "      <td>0.010000</td>\n",
       "      <td>0.000000</td>\n",
       "    </tr>\n",
       "    <tr>\n",
       "      <th>35204578001</th>\n",
       "      <td>1625.0</td>\n",
       "      <td>0.000000</td>\n",
       "      <td>0.095238</td>\n",
       "      <td>0.0</td>\n",
       "      <td>0.015873</td>\n",
       "      <td>0.000000</td>\n",
       "    </tr>\n",
       "  </tbody>\n",
       "</table>\n",
       "</div>"
      ],
      "text/plain": [
       "             res_dwelling_sum  Style Oriental Chinese  \\\n",
       "census_blk                                              \n",
       "35204606002            2333.0                0.012658   \n",
       "35204676002            2302.0                0.000000   \n",
       "35204004002            2168.0                0.000000   \n",
       "35204588001            1704.0                0.010000   \n",
       "35204578001            1625.0                0.000000   \n",
       "\n",
       "             Style Oriental Japanese  Style Oriental Korean  \\\n",
       "census_blk                                                    \n",
       "35204606002                 0.075949                    0.0   \n",
       "35204676002                 0.058824                    0.0   \n",
       "35204004002                 0.089552                    0.0   \n",
       "35204588001                 0.080000                    0.0   \n",
       "35204578001                 0.095238                    0.0   \n",
       "\n",
       "             Style Oriental Thai  Style Oriental Vietnamese  \n",
       "census_blk                                                   \n",
       "35204606002             0.012658                   0.000000  \n",
       "35204676002             0.000000                   0.000000  \n",
       "35204004002             0.014925                   0.014925  \n",
       "35204588001             0.010000                   0.000000  \n",
       "35204578001             0.015873                   0.000000  "
      ]
     },
     "execution_count": 31,
     "metadata": {},
     "output_type": "execute_result"
    }
   ],
   "source": [
    "toronto_merged.loc[toronto_merged['Cluster Labels'] == 1, toronto_merged.columns[[1] + list(range(5, toronto_merged.shape[1]))]]"
   ]
  },
  {
   "cell_type": "markdown",
   "metadata": {},
   "source": [
    "#### Cluster 2: These seems to be neighborhood with **LOW** interest to Oriental Food; thus, they may NOT be good candidate to open up new Chinese Oriential food restaurant:"
   ]
  },
  {
   "cell_type": "code",
   "execution_count": 32,
   "metadata": {},
   "outputs": [
    {
     "data": {
      "text/html": [
       "<div>\n",
       "<style scoped>\n",
       "    .dataframe tbody tr th:only-of-type {\n",
       "        vertical-align: middle;\n",
       "    }\n",
       "\n",
       "    .dataframe tbody tr th {\n",
       "        vertical-align: top;\n",
       "    }\n",
       "\n",
       "    .dataframe thead th {\n",
       "        text-align: right;\n",
       "    }\n",
       "</style>\n",
       "<table border=\"1\" class=\"dataframe\">\n",
       "  <thead>\n",
       "    <tr style=\"text-align: right;\">\n",
       "      <th></th>\n",
       "      <th>res_dwelling_sum</th>\n",
       "      <th>Style Oriental Chinese</th>\n",
       "      <th>Style Oriental Japanese</th>\n",
       "      <th>Style Oriental Korean</th>\n",
       "      <th>Style Oriental Thai</th>\n",
       "      <th>Style Oriental Vietnamese</th>\n",
       "    </tr>\n",
       "    <tr>\n",
       "      <th>census_blk</th>\n",
       "      <th></th>\n",
       "      <th></th>\n",
       "      <th></th>\n",
       "      <th></th>\n",
       "      <th></th>\n",
       "      <th></th>\n",
       "    </tr>\n",
       "  </thead>\n",
       "  <tbody>\n",
       "    <tr>\n",
       "      <th>35204074001</th>\n",
       "      <td>1463.0</td>\n",
       "      <td>0.0</td>\n",
       "      <td>0.0</td>\n",
       "      <td>0.0</td>\n",
       "      <td>0.000000</td>\n",
       "      <td>0.0</td>\n",
       "    </tr>\n",
       "    <tr>\n",
       "      <th>35204049014</th>\n",
       "      <td>2875.0</td>\n",
       "      <td>0.0</td>\n",
       "      <td>0.0</td>\n",
       "      <td>0.0</td>\n",
       "      <td>0.000000</td>\n",
       "      <td>0.0</td>\n",
       "    </tr>\n",
       "    <tr>\n",
       "      <th>35204073006</th>\n",
       "      <td>1434.0</td>\n",
       "      <td>0.0</td>\n",
       "      <td>0.0</td>\n",
       "      <td>0.0</td>\n",
       "      <td>0.000000</td>\n",
       "      <td>0.0</td>\n",
       "    </tr>\n",
       "    <tr>\n",
       "      <th>35204371001</th>\n",
       "      <td>1307.0</td>\n",
       "      <td>0.0</td>\n",
       "      <td>0.0</td>\n",
       "      <td>0.0</td>\n",
       "      <td>0.000000</td>\n",
       "      <td>0.0</td>\n",
       "    </tr>\n",
       "    <tr>\n",
       "      <th>35204872001</th>\n",
       "      <td>2332.0</td>\n",
       "      <td>0.0</td>\n",
       "      <td>0.0</td>\n",
       "      <td>0.0</td>\n",
       "      <td>0.000000</td>\n",
       "      <td>0.0</td>\n",
       "    </tr>\n",
       "    <tr>\n",
       "      <th>35204367001</th>\n",
       "      <td>1017.0</td>\n",
       "      <td>0.0</td>\n",
       "      <td>0.0</td>\n",
       "      <td>0.0</td>\n",
       "      <td>0.000000</td>\n",
       "      <td>0.0</td>\n",
       "    </tr>\n",
       "    <tr>\n",
       "      <th>35204024001</th>\n",
       "      <td>1495.0</td>\n",
       "      <td>0.0</td>\n",
       "      <td>0.0</td>\n",
       "      <td>0.0</td>\n",
       "      <td>0.000000</td>\n",
       "      <td>0.0</td>\n",
       "    </tr>\n",
       "    <tr>\n",
       "      <th>35204072006</th>\n",
       "      <td>1229.0</td>\n",
       "      <td>0.0</td>\n",
       "      <td>0.0</td>\n",
       "      <td>0.0</td>\n",
       "      <td>0.000000</td>\n",
       "      <td>0.0</td>\n",
       "    </tr>\n",
       "    <tr>\n",
       "      <th>35204796001</th>\n",
       "      <td>744.0</td>\n",
       "      <td>0.0</td>\n",
       "      <td>0.0</td>\n",
       "      <td>0.0</td>\n",
       "      <td>0.000000</td>\n",
       "      <td>0.0</td>\n",
       "    </tr>\n",
       "    <tr>\n",
       "      <th>35204650006</th>\n",
       "      <td>1579.0</td>\n",
       "      <td>0.0</td>\n",
       "      <td>0.0</td>\n",
       "      <td>0.0</td>\n",
       "      <td>0.013158</td>\n",
       "      <td>0.0</td>\n",
       "    </tr>\n",
       "    <tr>\n",
       "      <th>35203520005</th>\n",
       "      <td>921.0</td>\n",
       "      <td>0.0</td>\n",
       "      <td>0.0</td>\n",
       "      <td>0.0</td>\n",
       "      <td>0.000000</td>\n",
       "      <td>0.0</td>\n",
       "    </tr>\n",
       "  </tbody>\n",
       "</table>\n",
       "</div>"
      ],
      "text/plain": [
       "             res_dwelling_sum  Style Oriental Chinese  \\\n",
       "census_blk                                              \n",
       "35204074001            1463.0                     0.0   \n",
       "35204049014            2875.0                     0.0   \n",
       "35204073006            1434.0                     0.0   \n",
       "35204371001            1307.0                     0.0   \n",
       "35204872001            2332.0                     0.0   \n",
       "35204367001            1017.0                     0.0   \n",
       "35204024001            1495.0                     0.0   \n",
       "35204072006            1229.0                     0.0   \n",
       "35204796001             744.0                     0.0   \n",
       "35204650006            1579.0                     0.0   \n",
       "35203520005             921.0                     0.0   \n",
       "\n",
       "             Style Oriental Japanese  Style Oriental Korean  \\\n",
       "census_blk                                                    \n",
       "35204074001                      0.0                    0.0   \n",
       "35204049014                      0.0                    0.0   \n",
       "35204073006                      0.0                    0.0   \n",
       "35204371001                      0.0                    0.0   \n",
       "35204872001                      0.0                    0.0   \n",
       "35204367001                      0.0                    0.0   \n",
       "35204024001                      0.0                    0.0   \n",
       "35204072006                      0.0                    0.0   \n",
       "35204796001                      0.0                    0.0   \n",
       "35204650006                      0.0                    0.0   \n",
       "35203520005                      0.0                    0.0   \n",
       "\n",
       "             Style Oriental Thai  Style Oriental Vietnamese  \n",
       "census_blk                                                   \n",
       "35204074001             0.000000                        0.0  \n",
       "35204049014             0.000000                        0.0  \n",
       "35204073006             0.000000                        0.0  \n",
       "35204371001             0.000000                        0.0  \n",
       "35204872001             0.000000                        0.0  \n",
       "35204367001             0.000000                        0.0  \n",
       "35204024001             0.000000                        0.0  \n",
       "35204072006             0.000000                        0.0  \n",
       "35204796001             0.000000                        0.0  \n",
       "35204650006             0.013158                        0.0  \n",
       "35203520005             0.000000                        0.0  "
      ]
     },
     "execution_count": 32,
     "metadata": {},
     "output_type": "execute_result"
    }
   ],
   "source": [
    "toronto_merged.loc[toronto_merged['Cluster Labels'] == 2, toronto_merged.columns[[1] + list(range(5, toronto_merged.shape[1]))]]"
   ]
  },
  {
   "cell_type": "markdown",
   "metadata": {},
   "source": [
    "#### Let's look into more details and create a Histogram for Cluster 1, neighborhoods with **HIGH** interest in Oriental style food with not as much existing Chinese Oriental style restaurant, and visualize on the cluster candidate locations' existing Oriental Style restaurant distribution comparison."
   ]
  },
  {
   "cell_type": "code",
   "execution_count": 33,
   "metadata": {},
   "outputs": [
    {
     "data": {
      "text/html": [
       "<div>\n",
       "<style scoped>\n",
       "    .dataframe tbody tr th:only-of-type {\n",
       "        vertical-align: middle;\n",
       "    }\n",
       "\n",
       "    .dataframe tbody tr th {\n",
       "        vertical-align: top;\n",
       "    }\n",
       "\n",
       "    .dataframe thead th {\n",
       "        text-align: right;\n",
       "    }\n",
       "</style>\n",
       "<table border=\"1\" class=\"dataframe\">\n",
       "  <thead>\n",
       "    <tr style=\"text-align: right;\">\n",
       "      <th></th>\n",
       "      <th>population_sum</th>\n",
       "      <th>res_dwelling_sum</th>\n",
       "      <th>Latitude</th>\n",
       "      <th>Longitude</th>\n",
       "      <th>Cluster Labels</th>\n",
       "      <th>Style Oriental Chinese</th>\n",
       "      <th>Style Oriental Japanese</th>\n",
       "      <th>Style Oriental Korean</th>\n",
       "      <th>Style Oriental Thai</th>\n",
       "      <th>Style Oriental Vietnamese</th>\n",
       "    </tr>\n",
       "    <tr>\n",
       "      <th>census_blk</th>\n",
       "      <th></th>\n",
       "      <th></th>\n",
       "      <th></th>\n",
       "      <th></th>\n",
       "      <th></th>\n",
       "      <th></th>\n",
       "      <th></th>\n",
       "      <th></th>\n",
       "      <th></th>\n",
       "      <th></th>\n",
       "    </tr>\n",
       "  </thead>\n",
       "  <tbody>\n",
       "    <tr>\n",
       "      <th>35204606002</th>\n",
       "      <td>4141.000001</td>\n",
       "      <td>2333.0</td>\n",
       "      <td>43.660529</td>\n",
       "      <td>-79.383812</td>\n",
       "      <td>1</td>\n",
       "      <td>0.012658</td>\n",
       "      <td>0.075949</td>\n",
       "      <td>0.0</td>\n",
       "      <td>0.012658</td>\n",
       "      <td>0.000000</td>\n",
       "    </tr>\n",
       "    <tr>\n",
       "      <th>35204676002</th>\n",
       "      <td>3648.000000</td>\n",
       "      <td>2302.0</td>\n",
       "      <td>43.625756</td>\n",
       "      <td>-79.478291</td>\n",
       "      <td>1</td>\n",
       "      <td>0.000000</td>\n",
       "      <td>0.058824</td>\n",
       "      <td>0.0</td>\n",
       "      <td>0.000000</td>\n",
       "      <td>0.000000</td>\n",
       "    </tr>\n",
       "    <tr>\n",
       "      <th>35204004002</th>\n",
       "      <td>3291.000001</td>\n",
       "      <td>2168.0</td>\n",
       "      <td>43.664486</td>\n",
       "      <td>-79.376103</td>\n",
       "      <td>1</td>\n",
       "      <td>0.000000</td>\n",
       "      <td>0.089552</td>\n",
       "      <td>0.0</td>\n",
       "      <td>0.014925</td>\n",
       "      <td>0.014925</td>\n",
       "    </tr>\n",
       "    <tr>\n",
       "      <th>35204588001</th>\n",
       "      <td>3039.999999</td>\n",
       "      <td>1704.0</td>\n",
       "      <td>43.659753</td>\n",
       "      <td>-79.381041</td>\n",
       "      <td>1</td>\n",
       "      <td>0.010000</td>\n",
       "      <td>0.080000</td>\n",
       "      <td>0.0</td>\n",
       "      <td>0.010000</td>\n",
       "      <td>0.000000</td>\n",
       "    </tr>\n",
       "    <tr>\n",
       "      <th>35204578001</th>\n",
       "      <td>2527.000000</td>\n",
       "      <td>1625.0</td>\n",
       "      <td>43.670430</td>\n",
       "      <td>-79.381746</td>\n",
       "      <td>1</td>\n",
       "      <td>0.000000</td>\n",
       "      <td>0.095238</td>\n",
       "      <td>0.0</td>\n",
       "      <td>0.015873</td>\n",
       "      <td>0.000000</td>\n",
       "    </tr>\n",
       "  </tbody>\n",
       "</table>\n",
       "</div>"
      ],
      "text/plain": [
       "             population_sum  res_dwelling_sum   Latitude  Longitude  \\\n",
       "census_blk                                                            \n",
       "35204606002     4141.000001            2333.0  43.660529 -79.383812   \n",
       "35204676002     3648.000000            2302.0  43.625756 -79.478291   \n",
       "35204004002     3291.000001            2168.0  43.664486 -79.376103   \n",
       "35204588001     3039.999999            1704.0  43.659753 -79.381041   \n",
       "35204578001     2527.000000            1625.0  43.670430 -79.381746   \n",
       "\n",
       "             Cluster Labels  Style Oriental Chinese  Style Oriental Japanese  \\\n",
       "census_blk                                                                     \n",
       "35204606002               1                0.012658                 0.075949   \n",
       "35204676002               1                0.000000                 0.058824   \n",
       "35204004002               1                0.000000                 0.089552   \n",
       "35204588001               1                0.010000                 0.080000   \n",
       "35204578001               1                0.000000                 0.095238   \n",
       "\n",
       "             Style Oriental Korean  Style Oriental Thai  \\\n",
       "census_blk                                                \n",
       "35204606002                    0.0             0.012658   \n",
       "35204676002                    0.0             0.000000   \n",
       "35204004002                    0.0             0.014925   \n",
       "35204588001                    0.0             0.010000   \n",
       "35204578001                    0.0             0.015873   \n",
       "\n",
       "             Style Oriental Vietnamese  \n",
       "census_blk                              \n",
       "35204606002                   0.000000  \n",
       "35204676002                   0.000000  \n",
       "35204004002                   0.014925  \n",
       "35204588001                   0.000000  \n",
       "35204578001                   0.000000  "
      ]
     },
     "execution_count": 33,
     "metadata": {},
     "output_type": "execute_result"
    }
   ],
   "source": [
    "toronto_merged_C1 = toronto_merged.loc[toronto_merged.loc[:, 'Cluster Labels'] == 1, :]\n",
    "toronto_merged_C1"
   ]
  },
  {
   "cell_type": "code",
   "execution_count": 34,
   "metadata": {},
   "outputs": [
    {
     "data": {
      "text/html": [
       "<div>\n",
       "<style scoped>\n",
       "    .dataframe tbody tr th:only-of-type {\n",
       "        vertical-align: middle;\n",
       "    }\n",
       "\n",
       "    .dataframe tbody tr th {\n",
       "        vertical-align: top;\n",
       "    }\n",
       "\n",
       "    .dataframe thead th {\n",
       "        text-align: right;\n",
       "    }\n",
       "</style>\n",
       "<table border=\"1\" class=\"dataframe\">\n",
       "  <thead>\n",
       "    <tr style=\"text-align: right;\">\n",
       "      <th></th>\n",
       "      <th>census_blk</th>\n",
       "      <th>Style Oriental Chinese</th>\n",
       "      <th>Style Oriental Japanese</th>\n",
       "      <th>Style Oriental Korean</th>\n",
       "      <th>Style Oriental Thai</th>\n",
       "      <th>Style Oriental Vietnamese</th>\n",
       "    </tr>\n",
       "  </thead>\n",
       "  <tbody>\n",
       "    <tr>\n",
       "      <th>0</th>\n",
       "      <td>35204606002</td>\n",
       "      <td>0.012658</td>\n",
       "      <td>0.075949</td>\n",
       "      <td>0.0</td>\n",
       "      <td>0.012658</td>\n",
       "      <td>0.000000</td>\n",
       "    </tr>\n",
       "    <tr>\n",
       "      <th>1</th>\n",
       "      <td>35204676002</td>\n",
       "      <td>0.000000</td>\n",
       "      <td>0.058824</td>\n",
       "      <td>0.0</td>\n",
       "      <td>0.000000</td>\n",
       "      <td>0.000000</td>\n",
       "    </tr>\n",
       "    <tr>\n",
       "      <th>2</th>\n",
       "      <td>35204004002</td>\n",
       "      <td>0.000000</td>\n",
       "      <td>0.089552</td>\n",
       "      <td>0.0</td>\n",
       "      <td>0.014925</td>\n",
       "      <td>0.014925</td>\n",
       "    </tr>\n",
       "    <tr>\n",
       "      <th>3</th>\n",
       "      <td>35204588001</td>\n",
       "      <td>0.010000</td>\n",
       "      <td>0.080000</td>\n",
       "      <td>0.0</td>\n",
       "      <td>0.010000</td>\n",
       "      <td>0.000000</td>\n",
       "    </tr>\n",
       "    <tr>\n",
       "      <th>4</th>\n",
       "      <td>35204578001</td>\n",
       "      <td>0.000000</td>\n",
       "      <td>0.095238</td>\n",
       "      <td>0.0</td>\n",
       "      <td>0.015873</td>\n",
       "      <td>0.000000</td>\n",
       "    </tr>\n",
       "  </tbody>\n",
       "</table>\n",
       "</div>"
      ],
      "text/plain": [
       "    census_blk  Style Oriental Chinese  Style Oriental Japanese  \\\n",
       "0  35204606002                0.012658                 0.075949   \n",
       "1  35204676002                0.000000                 0.058824   \n",
       "2  35204004002                0.000000                 0.089552   \n",
       "3  35204588001                0.010000                 0.080000   \n",
       "4  35204578001                0.000000                 0.095238   \n",
       "\n",
       "   Style Oriental Korean  Style Oriental Thai  Style Oriental Vietnamese  \n",
       "0                    0.0             0.012658                   0.000000  \n",
       "1                    0.0             0.000000                   0.000000  \n",
       "2                    0.0             0.014925                   0.014925  \n",
       "3                    0.0             0.010000                   0.000000  \n",
       "4                    0.0             0.015873                   0.000000  "
      ]
     },
     "execution_count": 34,
     "metadata": {},
     "output_type": "execute_result"
    }
   ],
   "source": [
    "toronto_merged_C1_display = toronto_merged_C1.iloc[:, 5:].reset_index()\n",
    "toronto_merged_C1_display"
   ]
  },
  {
   "cell_type": "markdown",
   "metadata": {},
   "source": [
    "#### Histogram for Cluster 1 - Neighborhood with HIGH potential for new Chinese Restaurant:"
   ]
  },
  {
   "cell_type": "code",
   "execution_count": 35,
   "metadata": {},
   "outputs": [
    {
     "data": {
      "text/plain": [
       "<matplotlib.axes._subplots.AxesSubplot at 0x2365bd90438>"
      ]
     },
     "execution_count": 35,
     "metadata": {},
     "output_type": "execute_result"
    },
    {
     "data": {
      "image/png": "[encoded data removed]",
      "text/plain": [
       "<Figure size 720x576 with 1 Axes>"
      ]
     },
     "metadata": {
      "needs_background": "light"
     },
     "output_type": "display_data"
    }
   ],
   "source": [
    "import pandas as pd\n",
    "import matplotlib.pyplot as plt\n",
    "import numpy as np\n",
    "\n",
    "toronto_merged_C1_display.plot(x=\"census_blk\", y=[\"Style Oriental Chinese\", \"Style Oriental Japanese\", \"Style Oriental Korean\", \"Style Oriental Thai\", \"Style Oriental Vietnamese\"], kind=\"bar\", figsize=(10, 8))\n",
    "\n",
    "#### From the above Histogram, we can see that location blocks 35204004002 and 35204578001 are having Very Strong Preference to Oriental Style food with existing restaurants for other countries (Japanese, Thai or Vietnamese), but not with Oriental Chinese Style; thus, those two locations, particularly, might be the BEST location candidates for opening up new Oriental Chinese Style Food restaurant.plt.show()"
   ]
  },
  {
   "cell_type": "markdown",
   "metadata": {},
   "source": [
    "#### From the above Histogram, we can see that location blocks 35204004002 and 35204578001 are having Very Strong Preference to Oriental Style food with existing restaurants for other countries (Japanese, Thai or Vietnamese), but not with Oriental Chinese Style; thus, those two locations, particularly, might be the BEST location candidates for opening up new Oriential Chinese Style Food restaurant. "
   ]
  },
  {
   "cell_type": "markdown",
   "metadata": {},
   "source": [
    "#### Let's find the physical addresses for all the location candidates with Cluster 1, so stack holders/ restaurant investors can have site visit to the locations:\n",
    "#### We use **reverse geocode** to get the actual physical addresses of the Cluster 1 locations."
   ]
  },
  {
   "cell_type": "code",
   "execution_count": 36,
   "metadata": {},
   "outputs": [],
   "source": [
    "toronto_merged_C1_reset_i = toronto_merged_C1.reset_index()\n",
    "\n",
    "\n",
    "from geopy.geocoders import Nominatim\n",
    "geolocator = Nominatim(user_agent=\"physical_address_lookup\")\n",
    "\n",
    "def getPhysicalAddress(names, latitudes, longitudes):\n",
    "    for name, lat, lng in zip(names, latitudes , longitudes):\n",
    "        print('Census Block: ' ,  name)\n",
    "        print('Geo Coordinate: ' + str(lat) + \", \" + str(lng))\n",
    "        location = geolocator.reverse([str(lat) + \", \" + str(lng)])\n",
    "        print(\"Address : \",  location.address)\n",
    "        print()\n",
    "    print()    "
   ]
  },
  {
   "cell_type": "code",
   "execution_count": 37,
   "metadata": {},
   "outputs": [
    {
     "name": "stdout",
     "output_type": "stream",
     "text": [
      "==============================================================\n",
      "Addresses of recommended locations for new Chinese Restaurant:\n",
      "==============================================================\n",
      "\n",
      "Census Block:  35204606002\n",
      "Geo Coordinate: 43.660529, -79.383812\n",
      "Address :  College Park, Underground walkway, Discovery District, University—Rosedale, Old Toronto, Toronto, Ontario, M5G 2C8, Canada\n",
      "\n",
      "Census Block:  35204676002\n",
      "Geo Coordinate: 43.625756, -79.478291\n",
      "Address :  Annie Craig Drive, Mimico By-The-Lake, Etobicoke—Lakeshore, Etobicoke, Toronto, Golden Horseshoe, Ontario, M8V 4C5, Canada\n",
      "\n",
      "Census Block:  35204004002\n",
      "Geo Coordinate: 43.664486, -79.376103\n",
      "Address :  437, Jarvis Street, Church-Wellesley Village, Toronto Centre, Old Toronto, Toronto, Ontario, M4Y 2G6, Canada\n",
      "\n",
      "Census Block:  35204588001\n",
      "Geo Coordinate: 43.659753, -79.381041\n",
      "Address :  Ronald McDonald House, 26, Gerrard Street East, Downtown Yonge, Toronto Centre, Old Toronto, Toronto, Ontario, M5B 1G7, Canada\n",
      "\n",
      "Census Block:  35204578001\n",
      "Geo Coordinate: 43.670429999999996, -79.38174599999999\n",
      "Address :  Bloorwalk, Hayden Street, University—Rosedale, Old Toronto, Toronto, Ontario, M4Y 3G2, Canada\n",
      "\n",
      "\n"
     ]
    }
   ],
   "source": [
    "print('==============================================================')\n",
    "print('Addresses of recommended locations for new Chinese Restaurant:')\n",
    "print('==============================================================\\n')\n",
    "\n",
    "getPhysicalAddress(names=toronto_merged_C1_reset_i['census_blk'],\n",
    "                   latitudes=toronto_merged_C1_reset_i['Latitude'],\n",
    "                   longitudes=toronto_merged_C1_reset_i['Longitude']\n",
    "                  )    "
   ]
  },
  {
   "cell_type": "markdown",
   "metadata": {},
   "source": [
    "#### Let's have a Map Visualization to the Final Five Recommended Best location candidates for new Chinese Restaurant:"
   ]
  },
  {
   "cell_type": "code",
   "execution_count": 38,
   "metadata": {},
   "outputs": [
    {
     "data": {
      "text/html": [
       "<div style=\"width:100%;\"><div style=\"position:relative;width:100%;height:0;padding-bottom:60%;\"><iframe src=\"data:text/html;charset=utf-8;base64,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\" style=\"position:absolute;width:100%;height:100%;left:0;top:0;border:none !important;\" allowfullscreen webkitallowfullscreen mozallowfullscreen></iframe></div></div>"
      ],
      "text/plain": [
       "<folium.folium.Map at 0x2365c5feb00>"
      ]
     },
     "execution_count": 38,
     "metadata": {},
     "output_type": "execute_result"
    }
   ],
   "source": [
    "# create map\n",
    "map_clusters = folium.Map(location=[latitude, longitude], zoom_start=11)\n",
    "kclusters = 1\n",
    "\n",
    "# set color scheme for the clusters\n",
    "x = np.arange(kclusters)\n",
    "ys = [i + x + (i*x)**2 for i in range(kclusters)]\n",
    "colors_array = cm.rainbow(np.linspace(0, 1, len(ys)))\n",
    "rainbow = [colors.rgb2hex(i) for i in colors_array]\n",
    "\n",
    "# add markers to the map\n",
    "markers_colors = []\n",
    "for lat, lon, poi, cluster in zip(toronto_merged_C1_reset_i['Latitude'], toronto_merged_C1_reset_i['Longitude'], toronto_merged_C1_reset_i['census_blk'], toronto_merged_C1_reset_i['Cluster Labels']):\n",
    "    label = folium.Popup(str(poi) + ' Cluster ' + str(cluster), parse_html=True)\n",
    "    folium.CircleMarker(\n",
    "        [lat, lon],\n",
    "        radius=5,\n",
    "        popup=label,\n",
    "        color=rainbow[int(cluster-1)],\n",
    "        fill=True,\n",
    "        fill_color=rainbow[int(cluster-1)],\n",
    "        fill_opacity=0.7).add_to(map_clusters) \n",
    "\n",
    "map_clusters\n"
   ]
  },
  {
   "cell_type": "markdown",
   "metadata": {},
   "source": [
    "## **Result and Discussion:** <a name=\"result\"></a>\n",
    "\n",
    "In this Capstone Project - The Battle of Neighborhood, we have set on the goal to find out the best possible location candidates in Toronto for opening up a new Chinese Restaurant.  \n",
    "\n",
    "Due to the historical immigration reasons and diversified multicultural nature of Toronto, we have used the tools of Data Science to check if there were any preferred activity neighborhood for ethnic groups and to identify which areas would have better preference for new Oriental Chinese style restaurants.\n",
    "We utilized the Government of Canada 2016 Pseudo-Household Demographic Distribution data, Foursquare API venue data and Python geopy geocoder OpenStreetMap Nominatim database data within this project.\n",
    "From descriptive statistics and Scatter plot analysis on Toronto’s  2016 Pseudo-Household Demographic Distribution data, we found that Toronto’s neighborhood population were not evenly distributed within the city.  \n",
    "\n",
    "Since potential client flow is a very important successful factor for newly open restaurant, we had selected and focused our further analysis on location candidates with neighborhood population greater than 2500 according to the census data.  This led us to narrow down to the top 25 most populated location candidates in Toronto.\n",
    "We had further performed Feature Engineering with our restaurant operation domain knowledge that customers would likely prefer and to try on new restaurant similar to their existing preferred ethnic food style; thus, we utilized Foursquare API venue data on Oriental style foods, to which is a boarder East Asia food category that Oriental Chinese food belongs,  to build on K-means model to further analysis on the Oriental Style food preference clustering trend.\n",
    "\n",
    "Through K-means model analysis, we had grouped the above locations into three main clusters (i.e. Cluster 1 which has High interest to Oriental style food; Cluster 0 which has Medium general interest to Oriental food style restaurant; Cluster 2 which has Low interest to Oriental food with not much existing Oriental food restaurants).\n",
    "\n",
    "Within the Cluster 1 of High interest to Oriental style food, we had five recommended location candidates for new Oriental Chinese restaurant.   Particular interest are to the location blocks 35204004002 and 35204578001, which indicated strong existing preference to Oriental style food with restaurants of other Oriental country styles (Japanese, Thai and Vietnamese), according to Foursquare venue data, with no existing Oriental Chinese restaurants nearby.\n",
    "\n",
    "By reverse geocode, we’ve got the actual physical addresses of the Cluster 1 five recommended location candidates, and we observed that four of the five location candidates were at the Mid-Downtown area along the famous Yonge Street and the other remaining one was at the Harbor Front Downtown area near the Ontario Lake shore.  Both areas were recently having many new luxury condos built, and this seemed to further indicate these five recommended locations’ potential for success with a new Chinese restaurant.\n"
   ]
  },
  {
   "cell_type": "markdown",
   "metadata": {},
   "source": [
    "## **Conclusion:** <a name=\"conclusion\"></a>\n",
    "Purpose of this project is to utilize Foursquare location and venue data, together with Government of Canada census population data, to aid stakeholder in finding recommended location candidates for new Chinese restaurant using various Data Science methodology and model.  Five recommended location candidates had been identified with their high population and strong existing preference trend to Oriental food style similar to Oriental Chinese food. \n",
    "\n",
    "We would recommend to use these five recommended location candidates as starting point for final exploration by stakeholders through actual site visit, and may want to consider further analysis on real estate availability, rental cost, parking facilities etc to further fine tuning on the final decision to optimize the success of the new Chinese restaurant startup."
   ]
  },
  {
   "cell_type": "markdown",
   "metadata": {},
   "source": [
    "## **References:** <a name=\"reference\"></a>"
   ]
  },
  {
   "cell_type": "markdown",
   "metadata": {},
   "source": [
    "  * **[1]** Toronto - Wikipedia\n",
    "  \n",
    "  * **[2]** Government of Canada, Open Government, Pseudo-Household Demographic Distribution  \n",
    "      (https://open.canada.ca/data/en/dataset/b3a1d603-19ca-466c-ae95-b5185e56addf)\n",
    "    \n",
    "      Publisher : Current Organization Name: Innovation, Science and Economic Development Canada\n",
    "      \n",
    "      Licence: Open Government Licence - Canada (https://open.canada.ca/en/open-government-licence-canada)\n",
    "    \n",
    "  * **[3]**  www.foursquare.com\n",
    "    Base URI:  api.foursquare.com/v2\n",
    "  * **[4]** geopy geocoder classes for the OpenStreetMap Nominatim\n",
    "    (http://nominatim.org/)"
   ]
  }
 ],
 "metadata": {
  "kernelspec": {
   "display_name": "Python 3",
   "language": "python",
   "name": "python3"
  },
  "language_info": {
   "codemirror_mode": {
    "name": "ipython",
    "version": 3
   },
   "file_extension": ".py",
   "mimetype": "text/x-python",
   "name": "python",
   "nbconvert_exporter": "python",
   "pygments_lexer": "ipython3",
   "version": "3.7.3"
  }
 },
 "nbformat": 4,
 "nbformat_minor": 2
}
