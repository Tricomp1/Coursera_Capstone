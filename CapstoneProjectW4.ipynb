{
 "cells": [
  {
   "cell_type": "markdown",
   "metadata": {},
   "source": [
    "# Capstone Project - The Battle of Neighborhoods (Week 1)"
   ]
  },
  {
   "cell_type": "markdown",
   "metadata": {},
   "source": [
    "## **Introduction**"
   ]
  },
  {
   "cell_type": "markdown",
   "metadata": {},
   "source": [
    "### **Discussion of the background and Description of the problem  (i.e. Business Understanding and Analytic Approach):**"
   ]
  },
  {
   "cell_type": "markdown",
   "metadata": {},
   "source": [
    "Toronto, the capital of the province of Ontario, is the largest city of Canada with population over 2,826,498, and it is one of the most multicultural cities in the world, with immigrants bringing in their traditions, languages and especially their food culture into the city. **[1]**\n",
    "\n",
    "Therefore, food service industry is one of the very important and yet competitive industries in Toronto to serve this highly populated and diversified city.  And finding of the best places for opening up new restaurants in Toronto are particularly important for restaurant investors to minimize their risk when entering into the restaurant food service sector.\n",
    "\n",
    "However, due to Toronto’s historical immigration reasons and multicultural nature, different ethnic groups would have established their own ethnic community areas and preferred activity neighborhoods; this might affect new restaurants’ success and might add risks for the investors if restaurant location to their target restaurant clients are not matching properly.\n",
    "\n",
    "So, we would like to use the tools of Data Science to find the best possible successful location for a new restaurant for particular ethic style restaurant (in this case location for a new Chinese restaurant).   We would like to use data analysis to consider the proposed restaurant locations’ population, and locations’ existing ethic food preference in recommendation of new restaurant locations.\n",
    "\n"
   ]
  },
  {
   "cell_type": "markdown",
   "metadata": {},
   "source": [
    " "
   ]
  },
  {
   "cell_type": "markdown",
   "metadata": {},
   "source": [
    "### **Description of the data and how it will be used to solve the problem:** (Data Samples below)\n"
   ]
  },
  {
   "cell_type": "markdown",
   "metadata": {},
   "source": [
    "#### **A) Data Analysis (i.e. Data Requirement and Data Collection):**"
   ]
  },
  {
   "cell_type": "markdown",
   "metadata": {},
   "source": [
    "Data from the Government of Canadian Census 2016 data for Toronto, the venue exploration data from the Foursquare API, as well as Geometric data would be utilized for this new restaurant location search."
   ]
  },
  {
   "cell_type": "markdown",
   "metadata": {},
   "source": [
    "**1)**  **Pseudo-Household Demogarphic Distribution data from the Government of Canada Open Government site** (i.e. https://open.canada.ca/data/en/dataset/b3a1d603-19ca-466c-ae95-b5185e56addf ) would be used as population information source for the proposed location data.  **__[2]__**\n",
    "\n",
    "The Pseudo-Household Demographic Distribution is a geospatial representative distribution of demographic data (population and households) derived from the Canadian Census from Statistics Canada.  \n",
    "\n",
    "Pseudo-household demographics are currently used to calculate broadband Internet service availability, but are equally applicable to other disciplines requiring a spatial distribution of households or population.   And in our case, we would utilize this population data in help to search for new best restaurant location candidates.\n",
    "\n",
    "We would use _Python Pandas_ package’s read_csv function to read in specific Pseudo-Household Demographic Distribution data .csv format file.   \n",
    "\n",
    "Due to the large size of the original Government Canada Pseudo-Household Demographic Distribution .csv file for the whole Ontario, we would first remove extra unnecessary data outside of Toronto and would focus analysis on Toronto related data.\n"
   ]
  },
  {
   "cell_type": "markdown",
   "metadata": {},
   "source": [
    "**2)**  **FourSquare API data** would be used to get existing restaurant ethnic style information from Foursquare database for various restaurant location candidates in Toronto. **__[3]__**"
   ]
  },
  {
   "cell_type": "markdown",
   "metadata": {},
   "source": [
    "**3)** Python geopy geocoder classes for the **OpenStreetMap Nominatim database** would be used to handle geometric data lookup on getting the actual physical proposed restaurant locations from the final location candidates. **[4]**"
   ]
  },
  {
   "cell_type": "markdown",
   "metadata": {},
   "source": [
    " "
   ]
  },
  {
   "cell_type": "markdown",
   "metadata": {},
   "source": [
    "  #### **References:**"
   ]
  },
  {
   "cell_type": "markdown",
   "metadata": {},
   "source": [
    "  * **[1]** Toronto - Wikipedia\n",
    "  \n",
    "  * **[2]** Government of Canada, Open Government, Pseudo-Household Demographic Distribution  \n",
    "      (https://open.canada.ca/data/en/dataset/b3a1d603-19ca-466c-ae95-b5185e56addf)\n",
    "    \n",
    "      Publisher : Current Organization Name: Innovation, Science and Economic Development Canada\n",
    "      \n",
    "      Licence: Open Government Licence - Canada (https://open.canada.ca/en/open-government-licence-canada)\n",
    "    \n",
    "  * **[3]**  www.foursquare.com\n",
    "    Base URI:  api.foursquare.com/v2\n",
    "  * **[4]** geopy geocoder classes for the OpenStreetMap Nominatim\n",
    "    (http://nominatim.org/)"
   ]
  },
  {
   "cell_type": "markdown",
   "metadata": {},
   "source": [
    " "
   ]
  },
  {
   "cell_type": "markdown",
   "metadata": {},
   "source": [
    "#### **B) Methology on Data Understanding and Data Preparation:**"
   ]
  },
  {
   "cell_type": "markdown",
   "metadata": {},
   "source": [
    "##### **1. Descriptive statistics:**"
   ]
  },
  {
   "cell_type": "markdown",
   "metadata": {},
   "source": [
    "In order to better understand the above data sources on population and location venues if there were any relationship to restaurant location and to access their data quality, we would use _Python Pandas, Numpy and Matplotlib libraries_ to perform descriptive statistics such as **Univariate statistics** (i.e. mean, minimum, maximum and standard deviation) and **Histogram** to see how variables are distributed and what sorts of data preparation may be needed to make variables more useful in model.\n"
   ]
  },
  {
   "cell_type": "markdown",
   "metadata": {},
   "source": [
    "##### **2. Feature Engineering:**"
   ]
  },
  {
   "cell_type": "markdown",
   "metadata": {},
   "source": [
    "We would use our domain knowledge of restaurant operation and understanding of data sources form above descriptive statistics analysis to perform Feature Engineering and to create features that make the machine learning algorithms work. \n"
   ]
  },
  {
   "cell_type": "markdown",
   "metadata": {},
   "source": [
    "##### **3. Model Evaluation:**"
   ]
  },
  {
   "cell_type": "markdown",
   "metadata": {},
   "source": [
    "Since we are trying to find possible location grouping for restaurant, we would use the _Python SKLearn package_ to model **Unsupervised Learning method K-Means**.  And we would perform **Statistical Significance Testing** to tune and optimize the K-Means model.\n"
   ]
  },
  {
   "cell_type": "markdown",
   "metadata": {},
   "source": [
    "##### **4. Data Visualization:**"
   ]
  },
  {
   "cell_type": "markdown",
   "metadata": {},
   "source": [
    "We would use _Python Folium library_ for map visualization of the final proposed restaurant locations in a Toronto map.  And we would use _Python geopy geocoder classes for the OpenStreetMap Nominatim_ to get their actual physical location addresses.\n"
   ]
  },
  {
   "cell_type": "markdown",
   "metadata": {},
   "source": [
    " "
   ]
  },
  {
   "cell_type": "markdown",
   "metadata": {},
   "source": [
    "#### **C) Coding on Data Section:**"
   ]
  },
  {
   "cell_type": "code",
   "execution_count": 1,
   "metadata": {},
   "outputs": [
    {
     "name": "stdout",
     "output_type": "stream",
     "text": [
      "Libraries imported.\n"
     ]
    }
   ],
   "source": [
    "import numpy as np # library to handle data in a vectorized manner\n",
    "import pandas as pd # library for data analsysis\n",
    "pd.set_option('display.max_columns', None)\n",
    "pd.set_option('display.max_rows', None)\n",
    "\n",
    "import json # library to handle JSON files\n",
    "import requests # library to handle requests\n",
    "from pandas.io.json import json_normalize # tranform JSON file into a pandas dataframe\n",
    "\n",
    "#!conda install -c conda-forge geopy --yes # uncomment this line if you haven't completed the Foursquare API lab\n",
    "from geopy.geocoders import Nominatim # convert an address into latitude and longitude values\n",
    "\n",
    "# Matplotlib and associated plotting modules\n",
    "import matplotlib.cm as cm\n",
    "import matplotlib.colors as colors\n",
    "\n",
    "# import k-means from clustering stage\n",
    "from sklearn.cluster import KMeans\n",
    "\n",
    "import folium # map rendering library\n",
    "import matplotlib.pyplot as plt\n",
    "print('Libraries imported.')\n",
    "\n"
   ]
  },
  {
   "cell_type": "markdown",
   "metadata": {},
   "source": [
    "#### Get Toronto's Pseudo-Household Demographic Distribution from government site:\n",
    "Due to the large size of the original Government Canada Pseudo-Household Demographic Distribution .csv file for the whole Ontario, we would first remove extra unnecessary data outside of Toronto and would focus analysis on Toronto related data."
   ]
  },
  {
   "cell_type": "code",
   "execution_count": 4,
   "metadata": {},
   "outputs": [
    {
     "name": "stdout",
     "output_type": "stream",
     "text": [
      "(40845, 10)\n"
     ]
    },
    {
     "data": {
      "text/html": [
       "<div>\n",
       "<style scoped>\n",
       "    .dataframe tbody tr th:only-of-type {\n",
       "        vertical-align: middle;\n",
       "    }\n",
       "\n",
       "    .dataframe tbody tr th {\n",
       "        vertical-align: top;\n",
       "    }\n",
       "\n",
       "    .dataframe thead th {\n",
       "        text-align: right;\n",
       "    }\n",
       "</style>\n",
       "<table border=\"1\" class=\"dataframe\">\n",
       "  <thead>\n",
       "    <tr style=\"text-align: right;\">\n",
       "      <th></th>\n",
       "      <th>PHH_ID</th>\n",
       "      <th>Type</th>\n",
       "      <th>POP</th>\n",
       "      <th>TDwell2016_TLog2016</th>\n",
       "      <th>URDwell2016_RH2016</th>\n",
       "      <th>DBUID_Ididu</th>\n",
       "      <th>HEXUID_IdUHEX</th>\n",
       "      <th>Pruid_Pridu</th>\n",
       "      <th>Latitude</th>\n",
       "      <th>Longitude</th>\n",
       "    </tr>\n",
       "  </thead>\n",
       "  <tbody>\n",
       "    <tr>\n",
       "      <th>0</th>\n",
       "      <td>1798025</td>\n",
       "      <td>6</td>\n",
       "      <td>25.900000</td>\n",
       "      <td>5.900000</td>\n",
       "      <td>5.650000</td>\n",
       "      <td>35203509002</td>\n",
       "      <td>ON43690793</td>\n",
       "      <td>35</td>\n",
       "      <td>43.692913</td>\n",
       "      <td>-79.280054</td>\n",
       "    </tr>\n",
       "    <tr>\n",
       "      <th>1</th>\n",
       "      <td>1744786</td>\n",
       "      <td>3</td>\n",
       "      <td>32.777778</td>\n",
       "      <td>21.555556</td>\n",
       "      <td>21.333333</td>\n",
       "      <td>35200647003</td>\n",
       "      <td>ON43690793</td>\n",
       "      <td>35</td>\n",
       "      <td>43.683868</td>\n",
       "      <td>-79.280067</td>\n",
       "    </tr>\n",
       "    <tr>\n",
       "      <th>2</th>\n",
       "      <td>1798613</td>\n",
       "      <td>1</td>\n",
       "      <td>0.000000</td>\n",
       "      <td>0.000000</td>\n",
       "      <td>0.000000</td>\n",
       "      <td>35203532009</td>\n",
       "      <td>ON43740793</td>\n",
       "      <td>35</td>\n",
       "      <td>43.731089</td>\n",
       "      <td>-79.280076</td>\n",
       "    </tr>\n",
       "    <tr>\n",
       "      <th>3</th>\n",
       "      <td>1793069</td>\n",
       "      <td>4</td>\n",
       "      <td>19.600000</td>\n",
       "      <td>7.000000</td>\n",
       "      <td>7.000000</td>\n",
       "      <td>35203246007</td>\n",
       "      <td>ON43690793</td>\n",
       "      <td>35</td>\n",
       "      <td>43.684816</td>\n",
       "      <td>-79.280076</td>\n",
       "    </tr>\n",
       "    <tr>\n",
       "      <th>4</th>\n",
       "      <td>1798099</td>\n",
       "      <td>3</td>\n",
       "      <td>33.250000</td>\n",
       "      <td>11.000000</td>\n",
       "      <td>10.750000</td>\n",
       "      <td>35203512003</td>\n",
       "      <td>ON43690793</td>\n",
       "      <td>35</td>\n",
       "      <td>43.695481</td>\n",
       "      <td>-79.280081</td>\n",
       "    </tr>\n",
       "  </tbody>\n",
       "</table>\n",
       "</div>"
      ],
      "text/plain": [
       "    PHH_ID  Type        POP  TDwell2016_TLog2016  URDwell2016_RH2016  \\\n",
       "0  1798025     6  25.900000             5.900000            5.650000   \n",
       "1  1744786     3  32.777778            21.555556           21.333333   \n",
       "2  1798613     1   0.000000             0.000000            0.000000   \n",
       "3  1793069     4  19.600000             7.000000            7.000000   \n",
       "4  1798099     3  33.250000            11.000000           10.750000   \n",
       "\n",
       "   DBUID_Ididu HEXUID_IdUHEX  Pruid_Pridu   Latitude  Longitude  \n",
       "0  35203509002    ON43690793           35  43.692913 -79.280054  \n",
       "1  35200647003    ON43690793           35  43.683868 -79.280067  \n",
       "2  35203532009    ON43740793           35  43.731089 -79.280076  \n",
       "3  35203246007    ON43690793           35  43.684816 -79.280076  \n",
       "4  35203512003    ON43690793           35  43.695481 -79.280081  "
      ]
     },
     "execution_count": 4,
     "metadata": {},
     "output_type": "execute_result"
    }
   ],
   "source": [
    "toronto_csv = pd.read_csv(\"PHH-ON_Toronto.csv\")\n",
    "print(toronto_csv.shape)\n",
    "toronto_csv.head()"
   ]
  },
  {
   "cell_type": "markdown",
   "metadata": {},
   "source": [
    "#### Based on the Data Dictionary of the fields from the government site, we cleaned up the dataset to remove unnecessary columns (eg. PHH_ID, Pruid_Pridu, TDwell2016_TLog2016) and renamed columns to get better column names:"
   ]
  },
  {
   "cell_type": "markdown",
   "metadata": {},
   "source": [
    "Field | Description\n",
    "--|--\n",
    "PHH_ID|Unique identifier for pseudo-household (PHH) representative point\n",
    "Type|PHH Type:\n",
    " |1 = Centroid of a 2016 Census dissemination block,\n",
    " |2 = Atlas of Canada Placename point, \n",
    " |3 = 2016 Census Road Network Address Range Left,\n",
    " |4 = 2016 Census Road Network Address Range Right,\n",
    " |5 = Previous representative point Left,\n",
    " |6 = Previous representative point Right \n",
    "Pop2016|PHH representative population\n",
    "TDwell2016_TLog2016|PHH representative total private dwellings\n",
    "URDwell2016_RH2016|PHH representative private dwellings occupied by usual residents\n",
    "DBUID_Ididu|2016 Census dissemination block \n",
    "HEXUID_IdUHEX|Hexagon identifier\n",
    "Pruid_Pridu|Province or territory name\n",
    "Latitude|Latitude for the PHH representative point\n",
    "Longitude|Longitude for the PHH representative point\n",
    "\n",
    "\n"
   ]
  },
  {
   "cell_type": "code",
   "execution_count": 7,
   "metadata": {},
   "outputs": [
    {
     "name": "stdout",
     "output_type": "stream",
     "text": [
      "(40845, 6)\n"
     ]
    },
    {
     "data": {
      "text/html": [
       "<div>\n",
       "<style scoped>\n",
       "    .dataframe tbody tr th:only-of-type {\n",
       "        vertical-align: middle;\n",
       "    }\n",
       "\n",
       "    .dataframe tbody tr th {\n",
       "        vertical-align: top;\n",
       "    }\n",
       "\n",
       "    .dataframe thead th {\n",
       "        text-align: right;\n",
       "    }\n",
       "</style>\n",
       "<table border=\"1\" class=\"dataframe\">\n",
       "  <thead>\n",
       "    <tr style=\"text-align: right;\">\n",
       "      <th></th>\n",
       "      <th>Type</th>\n",
       "      <th>population</th>\n",
       "      <th>res_dwelling</th>\n",
       "      <th>census_blk</th>\n",
       "      <th>Latitude</th>\n",
       "      <th>Longitude</th>\n",
       "    </tr>\n",
       "  </thead>\n",
       "  <tbody>\n",
       "    <tr>\n",
       "      <th>0</th>\n",
       "      <td>6</td>\n",
       "      <td>25.900000</td>\n",
       "      <td>5.650000</td>\n",
       "      <td>35203509002</td>\n",
       "      <td>43.692913</td>\n",
       "      <td>-79.280054</td>\n",
       "    </tr>\n",
       "    <tr>\n",
       "      <th>1</th>\n",
       "      <td>3</td>\n",
       "      <td>32.777778</td>\n",
       "      <td>21.333333</td>\n",
       "      <td>35200647003</td>\n",
       "      <td>43.683868</td>\n",
       "      <td>-79.280067</td>\n",
       "    </tr>\n",
       "    <tr>\n",
       "      <th>2</th>\n",
       "      <td>1</td>\n",
       "      <td>0.000000</td>\n",
       "      <td>0.000000</td>\n",
       "      <td>35203532009</td>\n",
       "      <td>43.731089</td>\n",
       "      <td>-79.280076</td>\n",
       "    </tr>\n",
       "    <tr>\n",
       "      <th>3</th>\n",
       "      <td>4</td>\n",
       "      <td>19.600000</td>\n",
       "      <td>7.000000</td>\n",
       "      <td>35203246007</td>\n",
       "      <td>43.684816</td>\n",
       "      <td>-79.280076</td>\n",
       "    </tr>\n",
       "    <tr>\n",
       "      <th>4</th>\n",
       "      <td>3</td>\n",
       "      <td>33.250000</td>\n",
       "      <td>10.750000</td>\n",
       "      <td>35203512003</td>\n",
       "      <td>43.695481</td>\n",
       "      <td>-79.280081</td>\n",
       "    </tr>\n",
       "  </tbody>\n",
       "</table>\n",
       "</div>"
      ],
      "text/plain": [
       "   Type  population  res_dwelling   census_blk   Latitude  Longitude\n",
       "0     6   25.900000      5.650000  35203509002  43.692913 -79.280054\n",
       "1     3   32.777778     21.333333  35200647003  43.683868 -79.280067\n",
       "2     1    0.000000      0.000000  35203532009  43.731089 -79.280076\n",
       "3     4   19.600000      7.000000  35203246007  43.684816 -79.280076\n",
       "4     3   33.250000     10.750000  35203512003  43.695481 -79.280081"
      ]
     },
     "execution_count": 7,
     "metadata": {},
     "output_type": "execute_result"
    }
   ],
   "source": [
    "df_toronto = toronto_csv.drop(['PHH_ID', 'TDwell2016_TLog2016', 'Pruid_Pridu', 'HEXUID_IdUHEX'], axis=1)\n",
    "df_toronto.rename(columns={'POP':'population', 'URDwell2016_RH2016':'res_dwelling', 'DBUID_Ididu':'census_blk', 'HEXUID_IdUHEX':'hex_id'} , inplace=True)\n",
    "print(df_toronto.shape)\n",
    "df_toronto.head()"
   ]
  },
  {
   "cell_type": "markdown",
   "metadata": {},
   "source": [
    "#### Get the centroid location of census block groups as the location of each census block"
   ]
  },
  {
   "cell_type": "code",
   "execution_count": 11,
   "metadata": {},
   "outputs": [
    {
     "name": "stdout",
     "output_type": "stream",
     "text": [
      "(5653, 3)\n"
     ]
    },
    {
     "data": {
      "text/html": [
       "<div>\n",
       "<style scoped>\n",
       "    .dataframe tbody tr th:only-of-type {\n",
       "        vertical-align: middle;\n",
       "    }\n",
       "\n",
       "    .dataframe tbody tr th {\n",
       "        vertical-align: top;\n",
       "    }\n",
       "\n",
       "    .dataframe thead th {\n",
       "        text-align: right;\n",
       "    }\n",
       "</style>\n",
       "<table border=\"1\" class=\"dataframe\">\n",
       "  <thead>\n",
       "    <tr style=\"text-align: right;\">\n",
       "      <th></th>\n",
       "      <th>census_blk</th>\n",
       "      <th>Latitude</th>\n",
       "      <th>Longitude</th>\n",
       "    </tr>\n",
       "  </thead>\n",
       "  <tbody>\n",
       "    <tr>\n",
       "      <th>0</th>\n",
       "      <td>35203532009</td>\n",
       "      <td>43.731089</td>\n",
       "      <td>-79.280076</td>\n",
       "    </tr>\n",
       "    <tr>\n",
       "      <th>1</th>\n",
       "      <td>35203482017</td>\n",
       "      <td>43.716151</td>\n",
       "      <td>-79.280262</td>\n",
       "    </tr>\n",
       "    <tr>\n",
       "      <th>2</th>\n",
       "      <td>35203540004</td>\n",
       "      <td>43.742792</td>\n",
       "      <td>-79.280296</td>\n",
       "    </tr>\n",
       "    <tr>\n",
       "      <th>3</th>\n",
       "      <td>35203246001</td>\n",
       "      <td>43.685849</td>\n",
       "      <td>-79.280398</td>\n",
       "    </tr>\n",
       "    <tr>\n",
       "      <th>4</th>\n",
       "      <td>35203482007</td>\n",
       "      <td>43.723537</td>\n",
       "      <td>-79.280427</td>\n",
       "    </tr>\n",
       "  </tbody>\n",
       "</table>\n",
       "</div>"
      ],
      "text/plain": [
       "    census_blk   Latitude  Longitude\n",
       "0  35203532009  43.731089 -79.280076\n",
       "1  35203482017  43.716151 -79.280262\n",
       "2  35203540004  43.742792 -79.280296\n",
       "3  35203246001  43.685849 -79.280398\n",
       "4  35203482007  43.723537 -79.280427"
      ]
     },
     "execution_count": 11,
     "metadata": {},
     "output_type": "execute_result"
    }
   ],
   "source": [
    "df_census_blk_locs = df_toronto.loc[ toronto_csv.loc[:, \"Type\"] == 1, ['census_blk', 'Latitude', 'Longitude'] ]\n",
    "df_census_blk_locs.reset_index( inplace= True)\n",
    "df_census_blk_locs.drop(['index'], axis=1, inplace=True)\n",
    "print(df_census_blk_locs.shape)\n",
    "df_census_blk_locs.head()"
   ]
  },
  {
   "cell_type": "markdown",
   "metadata": {},
   "source": [
    "#### Remove data rows with no population or dwelling (i.e. highway or parks).  We are only interested in areas where there are population with needs for restaurant."
   ]
  },
  {
   "cell_type": "code",
   "execution_count": 13,
   "metadata": {},
   "outputs": [
    {
     "name": "stdout",
     "output_type": "stream",
     "text": [
      "(34706, 6)\n"
     ]
    }
   ],
   "source": [
    "indexNoPopNoDwell = df_toronto[ (df_toronto['population'] == 0) | (df_toronto['res_dwelling'] == 0)].index\n",
    "df_toronto.drop(indexNoPopNoDwell , inplace=True)\n",
    "\n",
    "# reset index after dropped rows\n",
    "df_toronto.reset_index(drop=True, inplace=True)\n",
    "print(df_toronto.shape)"
   ]
  },
  {
   "cell_type": "markdown",
   "metadata": {},
   "source": [
    "#### Find the population and dwelling sum on each census block."
   ]
  },
  {
   "cell_type": "code",
   "execution_count": 14,
   "metadata": {},
   "outputs": [
    {
     "data": {
      "text/html": [
       "<div>\n",
       "<style scoped>\n",
       "    .dataframe tbody tr th:only-of-type {\n",
       "        vertical-align: middle;\n",
       "    }\n",
       "\n",
       "    .dataframe tbody tr th {\n",
       "        vertical-align: top;\n",
       "    }\n",
       "\n",
       "    .dataframe thead th {\n",
       "        text-align: right;\n",
       "    }\n",
       "</style>\n",
       "<table border=\"1\" class=\"dataframe\">\n",
       "  <thead>\n",
       "    <tr style=\"text-align: right;\">\n",
       "      <th></th>\n",
       "      <th>census_blk</th>\n",
       "      <th>population_sum</th>\n",
       "      <th>res_dwelling_sum</th>\n",
       "    </tr>\n",
       "  </thead>\n",
       "  <tbody>\n",
       "    <tr>\n",
       "      <th>0</th>\n",
       "      <td>35200374002</td>\n",
       "      <td>54.000000</td>\n",
       "      <td>21.000000</td>\n",
       "    </tr>\n",
       "    <tr>\n",
       "      <th>1</th>\n",
       "      <td>35200374003</td>\n",
       "      <td>238.000000</td>\n",
       "      <td>99.000000</td>\n",
       "    </tr>\n",
       "    <tr>\n",
       "      <th>2</th>\n",
       "      <td>35200374004</td>\n",
       "      <td>96.615385</td>\n",
       "      <td>36.923077</td>\n",
       "    </tr>\n",
       "    <tr>\n",
       "      <th>3</th>\n",
       "      <td>35200375005</td>\n",
       "      <td>73.000000</td>\n",
       "      <td>29.000000</td>\n",
       "    </tr>\n",
       "    <tr>\n",
       "      <th>4</th>\n",
       "      <td>35200375006</td>\n",
       "      <td>86.142857</td>\n",
       "      <td>33.428571</td>\n",
       "    </tr>\n",
       "  </tbody>\n",
       "</table>\n",
       "</div>"
      ],
      "text/plain": [
       "    census_blk  population_sum  res_dwelling_sum\n",
       "0  35200374002       54.000000         21.000000\n",
       "1  35200374003      238.000000         99.000000\n",
       "2  35200374004       96.615385         36.923077\n",
       "3  35200375005       73.000000         29.000000\n",
       "4  35200375006       86.142857         33.428571"
      ]
     },
     "execution_count": 14,
     "metadata": {},
     "output_type": "execute_result"
    }
   ],
   "source": [
    "df_census_pop = df_toronto.groupby('census_blk').agg({\"population\" :['sum'], \"res_dwelling\" :['sum']})\n",
    "df_census_pop.columns = [\"_\".join(x) for x in df_census_pop.columns.ravel()]\n",
    "df_census_pop.reset_index( inplace= True)\n",
    "df_census_pop.head()"
   ]
  },
  {
   "cell_type": "markdown",
   "metadata": {},
   "source": [
    "#### Merge census blocks population and location information together, and verify results."
   ]
  },
  {
   "cell_type": "code",
   "execution_count": 16,
   "metadata": {},
   "outputs": [
    {
     "name": "stdout",
     "output_type": "stream",
     "text": [
      "(4906, 5)\n"
     ]
    },
    {
     "data": {
      "text/html": [
       "<div>\n",
       "<style scoped>\n",
       "    .dataframe tbody tr th:only-of-type {\n",
       "        vertical-align: middle;\n",
       "    }\n",
       "\n",
       "    .dataframe tbody tr th {\n",
       "        vertical-align: top;\n",
       "    }\n",
       "\n",
       "    .dataframe thead th {\n",
       "        text-align: right;\n",
       "    }\n",
       "</style>\n",
       "<table border=\"1\" class=\"dataframe\">\n",
       "  <thead>\n",
       "    <tr style=\"text-align: right;\">\n",
       "      <th></th>\n",
       "      <th>census_blk</th>\n",
       "      <th>population_sum</th>\n",
       "      <th>res_dwelling_sum</th>\n",
       "      <th>Latitude</th>\n",
       "      <th>Longitude</th>\n",
       "    </tr>\n",
       "  </thead>\n",
       "  <tbody>\n",
       "    <tr>\n",
       "      <th>0</th>\n",
       "      <td>35200374002</td>\n",
       "      <td>54.0</td>\n",
       "      <td>21.0</td>\n",
       "      <td>43.750348</td>\n",
       "      <td>-79.380589</td>\n",
       "    </tr>\n",
       "    <tr>\n",
       "      <th>1</th>\n",
       "      <td>35200374003</td>\n",
       "      <td>238.0</td>\n",
       "      <td>99.0</td>\n",
       "      <td>43.749567</td>\n",
       "      <td>-79.382978</td>\n",
       "    </tr>\n",
       "    <tr>\n",
       "      <th>2</th>\n",
       "      <td>35200375005</td>\n",
       "      <td>73.0</td>\n",
       "      <td>29.0</td>\n",
       "      <td>43.750505</td>\n",
       "      <td>-79.383083</td>\n",
       "    </tr>\n",
       "    <tr>\n",
       "      <th>3</th>\n",
       "      <td>35200376001</td>\n",
       "      <td>426.0</td>\n",
       "      <td>130.0</td>\n",
       "      <td>43.746556</td>\n",
       "      <td>-79.377856</td>\n",
       "    </tr>\n",
       "    <tr>\n",
       "      <th>4</th>\n",
       "      <td>35200376002</td>\n",
       "      <td>59.0</td>\n",
       "      <td>19.0</td>\n",
       "      <td>43.748757</td>\n",
       "      <td>-79.378210</td>\n",
       "    </tr>\n",
       "  </tbody>\n",
       "</table>\n",
       "</div>"
      ],
      "text/plain": [
       "    census_blk  population_sum  res_dwelling_sum   Latitude  Longitude\n",
       "0  35200374002            54.0              21.0  43.750348 -79.380589\n",
       "1  35200374003           238.0              99.0  43.749567 -79.382978\n",
       "2  35200375005            73.0              29.0  43.750505 -79.383083\n",
       "3  35200376001           426.0             130.0  43.746556 -79.377856\n",
       "4  35200376002            59.0              19.0  43.748757 -79.378210"
      ]
     },
     "execution_count": 16,
     "metadata": {},
     "output_type": "execute_result"
    }
   ],
   "source": [
    "df_census_blks = pd.merge(df_census_pop, df_census_blk_locs, on='census_blk')\n",
    "print(df_census_blks.shape)\n",
    "df_census_blks.head()"
   ]
  },
  {
   "cell_type": "code",
   "execution_count": 17,
   "metadata": {},
   "outputs": [
    {
     "data": {
      "text/plain": [
       "True     4906\n",
       "False     747\n",
       "Name: census_blk, dtype: int64"
      ]
     },
     "execution_count": 17,
     "metadata": {},
     "output_type": "execute_result"
    }
   ],
   "source": [
    "# Verify result on the merge operation - 1\n",
    "df_census_blk_locs['census_blk'].isin(df_census_pop['census_blk']).value_counts()"
   ]
  },
  {
   "cell_type": "code",
   "execution_count": 18,
   "metadata": {},
   "outputs": [
    {
     "data": {
      "text/plain": [
       "True     4906\n",
       "False      67\n",
       "Name: census_blk, dtype: int64"
      ]
     },
     "execution_count": 18,
     "metadata": {},
     "output_type": "execute_result"
    }
   ],
   "source": [
    "# Verify result of the merge operation - 2\n",
    "df_census_pop['census_blk'].isin(df_census_blk_locs['census_blk']).value_counts()"
   ]
  },
  {
   "cell_type": "markdown",
   "metadata": {},
   "source": [
    "#### The Merging operation seems ok.  Noticed that there are some census block population data rows which does not have matching location rows and vice versa.  This probably due to non-populated areas (i.e. highway and parks) which we removed earlier, or related to locations around the city boundaries.   Thus, that’s ok.\n"
   ]
  },
  {
   "cell_type": "markdown",
   "metadata": {},
   "source": [
    "##### We would now perform some initial Descriptive Statistics to the Population and Residental Dwelling data."
   ]
  },
  {
   "cell_type": "code",
   "execution_count": 21,
   "metadata": {},
   "outputs": [
    {
     "data": {
      "image/png": "[encoded data removed]",
      "text/plain": [
       "<Figure size 576x432 with 1 Axes>"
      ]
     },
     "metadata": {
      "needs_background": "light"
     },
     "output_type": "display_data"
    }
   ],
   "source": [
    "### BoxPlot on Population of all Toronto census blocks\n",
    "\n",
    "df_census_blks.iloc[ : ,[1] ].plot(kind='box', figsize=(8, 6))\n",
    "plt.title('Box plot of 2016 Population of Toronto census blocks')\n",
    "plt.ylabel('Population')\n",
    "plt.show()"
   ]
  },
  {
   "cell_type": "code",
   "execution_count": 22,
   "metadata": {},
   "outputs": [
    {
     "data": {
      "image/png": "[encoded data removed]",
      "text/plain": [
       "<Figure size 576x432 with 1 Axes>"
      ]
     },
     "metadata": {
      "needs_background": "light"
     },
     "output_type": "display_data"
    }
   ],
   "source": [
    "### BoxPlot on Resident dwelling of all Toronto selected census blocks\n",
    "\n",
    "df_census_blks.iloc[ : ,[2] ].plot(kind='box', figsize=(8, 6))\n",
    "plt.title('Box plot of 2016 resident dwelling  of all Toronto census blocks')\n",
    "plt.ylabel('Number of resident dwelling')\n",
    "plt.show()"
   ]
  },
  {
   "cell_type": "code",
   "execution_count": 23,
   "metadata": {},
   "outputs": [
    {
     "data": {
      "image/png": "[encoded data removed]",
      "text/plain": [
       "<Figure size 720x432 with 1 Axes>"
      ]
     },
     "metadata": {
      "needs_background": "light"
     },
     "output_type": "display_data"
    }
   ],
   "source": [
    "df_census_blks.plot(kind='scatter', x='res_dwelling_sum', y='population_sum', figsize=(10, 6), color='darkblue')\n",
    "plt.title('Population vs Residental Dwelling')\n",
    "plt.xlabel('Amount of Residental Dwelling')\n",
    "plt.ylabel('Population')\n",
    "plt.show()"
   ]
  },
  {
   "cell_type": "markdown",
   "metadata": {},
   "source": [
    "#### From the above Box and Scatter plots, notices that population are not evenly distributed among census blocks within city Toronto.   Most census block areas are having very modest population (below 500), and there are a number of outliers that are having very high population, to as high as over 7000 population within the block.  \n",
    "\n",
    "#### Since one of the successful factors for successful new restaurant is the number of potential customers, so higher the population among the restaurant's neighborhood would be the better.  So, we would focus our further analysis on block areas with population greater than 2500. "
   ]
  },
  {
   "cell_type": "code",
   "execution_count": 28,
   "metadata": {},
   "outputs": [
    {
     "name": "stdout",
     "output_type": "stream",
     "text": [
      "(25, 5)\n"
     ]
    },
    {
     "data": {
      "text/html": [
       "<div>\n",
       "<style scoped>\n",
       "    .dataframe tbody tr th:only-of-type {\n",
       "        vertical-align: middle;\n",
       "    }\n",
       "\n",
       "    .dataframe tbody tr th {\n",
       "        vertical-align: top;\n",
       "    }\n",
       "\n",
       "    .dataframe thead th {\n",
       "        text-align: right;\n",
       "    }\n",
       "</style>\n",
       "<table border=\"1\" class=\"dataframe\">\n",
       "  <thead>\n",
       "    <tr style=\"text-align: right;\">\n",
       "      <th></th>\n",
       "      <th>census_blk</th>\n",
       "      <th>population_sum</th>\n",
       "      <th>res_dwelling_sum</th>\n",
       "      <th>Latitude</th>\n",
       "      <th>Longitude</th>\n",
       "    </tr>\n",
       "  </thead>\n",
       "  <tbody>\n",
       "    <tr>\n",
       "      <th>4565</th>\n",
       "      <td>35204567001</td>\n",
       "      <td>7244.000000</td>\n",
       "      <td>3240.0</td>\n",
       "      <td>43.668674</td>\n",
       "      <td>-79.371902</td>\n",
       "    </tr>\n",
       "    <tr>\n",
       "      <th>4102</th>\n",
       "      <td>35204074001</td>\n",
       "      <td>5498.000000</td>\n",
       "      <td>1463.0</td>\n",
       "      <td>43.701554</td>\n",
       "      <td>-79.341123</td>\n",
       "    </tr>\n",
       "    <tr>\n",
       "      <th>4800</th>\n",
       "      <td>35204819002</td>\n",
       "      <td>5410.000000</td>\n",
       "      <td>2985.0</td>\n",
       "      <td>43.640416</td>\n",
       "      <td>-79.397862</td>\n",
       "    </tr>\n",
       "    <tr>\n",
       "      <th>4087</th>\n",
       "      <td>35204049014</td>\n",
       "      <td>5190.999999</td>\n",
       "      <td>2875.0</td>\n",
       "      <td>43.731038</td>\n",
       "      <td>-79.327276</td>\n",
       "    </tr>\n",
       "    <tr>\n",
       "      <th>4101</th>\n",
       "      <td>35204073006</td>\n",
       "      <td>4849.000001</td>\n",
       "      <td>1434.0</td>\n",
       "      <td>43.705947</td>\n",
       "      <td>-79.339509</td>\n",
       "    </tr>\n",
       "  </tbody>\n",
       "</table>\n",
       "</div>"
      ],
      "text/plain": [
       "       census_blk  population_sum  res_dwelling_sum   Latitude  Longitude\n",
       "4565  35204567001     7244.000000            3240.0  43.668674 -79.371902\n",
       "4102  35204074001     5498.000000            1463.0  43.701554 -79.341123\n",
       "4800  35204819002     5410.000000            2985.0  43.640416 -79.397862\n",
       "4087  35204049014     5190.999999            2875.0  43.731038 -79.327276\n",
       "4101  35204073006     4849.000001            1434.0  43.705947 -79.339509"
      ]
     },
     "execution_count": 28,
     "metadata": {},
     "output_type": "execute_result"
    }
   ],
   "source": [
    "# Areas with population greater than 2500\n",
    "df_census_blks_GT25 = pd.DataFrame(df_census_blks.loc[df_census_blks.loc[:, 'population_sum'] >  2500,  : ])\n",
    "\n",
    "# Sort census block based on population density\n",
    "df_census_blks_GT25.sort_values(['population_sum'], ascending=False, inplace=True)\n",
    "\n",
    "print(df_census_blks_GT25.shape)\n",
    "df_census_blks_GT25.head()"
   ]
  },
  {
   "cell_type": "markdown",
   "metadata": {},
   "source": [
    "#### Perform Descriptive Statistics again to these 25 blocks with Population greater than 2500."
   ]
  },
  {
   "cell_type": "code",
   "execution_count": 29,
   "metadata": {},
   "outputs": [
    {
     "data": {
      "image/png": "[encoded data removed]",
      "text/plain": [
       "<Figure size 576x432 with 1 Axes>"
      ]
     },
     "metadata": {
      "needs_background": "light"
     },
     "output_type": "display_data"
    }
   ],
   "source": [
    "### BoxPlot on population of the selected 25 census blocks\n",
    "\n",
    "df_census_blks_GT25.iloc[ : ,[1] ].plot(kind='box', figsize=(8, 6))\n",
    "\n",
    "plt.title('Box plot of 2016 Population of Toronto census blocks with population over 2500')\n",
    "plt.ylabel('Population')\n",
    "\n",
    "plt.show()"
   ]
  },
  {
   "cell_type": "code",
   "execution_count": 30,
   "metadata": {},
   "outputs": [
    {
     "data": {
      "image/png": "[encoded data removed]",
      "text/plain": [
       "<Figure size 720x432 with 1 Axes>"
      ]
     },
     "metadata": {
      "needs_background": "light"
     },
     "output_type": "display_data"
    }
   ],
   "source": [
    "df_census_blks_GT25.plot(kind='scatter', x='res_dwelling_sum', y='population_sum', figsize=(10, 6), color='darkblue')\n",
    "\n",
    "plt.title('Population vs Residental Dwelling')\n",
    "plt.xlabel('Amount of Residental Dwelling')\n",
    "plt.ylabel('Population')\n",
    "\n",
    "plt.show()"
   ]
  },
  {
   "cell_type": "markdown",
   "metadata": {},
   "source": [
    "#### Good! These looks better.\n",
    "#### Now, we would use Foursquare to see sample data with venue information related to these 25 selected areas. "
   ]
  },
  {
   "cell_type": "markdown",
   "metadata": {},
   "source": [
    "#### Define Foursquare Credentials and Version"
   ]
  },
  {
   "cell_type": "code",
   "execution_count": 31,
   "metadata": {},
   "outputs": [
    {
     "name": "stdout",
     "output_type": "stream",
     "text": [
      "Credentails:\n",
      "CLIENT_ID: EIXAIKKXGND2YFYGL2YCMFTFHXC1BCUXULBNCPMCW3PR2NEP\n",
      "CLIENT_SECRET:E55GTLP2MO4KGK3CLZ3GL2XZ21DUUZUQXI32ODPZPUC2PDOH\n"
     ]
    }
   ],
   "source": [
    "CLIENT_ID = 'EIXAIKKXGND2YFYGL2YCMFTFHXC1BCUXULBNCPMCW3PR2NEP' # your Foursquare ID\n",
    "CLIENT_SECRET = 'E55GTLP2MO4KGK3CLZ3GL2XZ21DUUZUQXI32ODPZPUC2PDOH' # your Foursquare Secret\n",
    "VERSION = '20180605' # Foursquare API version\n",
    "\n",
    "print('Credentails:')\n",
    "print('CLIENT_ID: ' + CLIENT_ID)\n",
    "print('CLIENT_SECRET:' + CLIENT_SECRET)"
   ]
  },
  {
   "cell_type": "markdown",
   "metadata": {},
   "source": [
    "#### Define function to extract category of the venue"
   ]
  },
  {
   "cell_type": "code",
   "execution_count": 33,
   "metadata": {},
   "outputs": [],
   "source": [
    "#### Define function to extract category of the venue\n",
    "# function that extracts the category of the venue\n",
    "def get_category_type(row):\n",
    "    try:\n",
    "        categories_list = row['categories']\n",
    "    except:\n",
    "        categories_list = row['venue.categories']\n",
    "        \n",
    "    if len(categories_list) == 0:\n",
    "        return None\n",
    "    else:\n",
    "        return categories_list[0]['name']\n",
    "\n",
    "    \n",
    "def getNearbyVenues(names, latitudes, longitudes, radius=500):\n",
    "    \n",
    "    venues_list=[]\n",
    "    for name, lat, lng in zip(names, latitudes, longitudes):\n",
    "        print(name)\n",
    "            \n",
    "        # create the API request URL\n",
    "        url = 'https://api.foursquare.com/v2/venues/explore?&client_id={}&client_secret={}&v={}&ll={},{}&radius={}&limit={}'.format(\n",
    "            CLIENT_ID, \n",
    "            CLIENT_SECRET, \n",
    "            VERSION, \n",
    "            lat, \n",
    "            lng, \n",
    "            radius, \n",
    "            LIMIT)\n",
    "            \n",
    "        # make the GET request\n",
    "        results = requests.get(url).json()[\"response\"]['groups'][0]['items']\n",
    "        \n",
    "        # return only relevant information for each nearby venue\n",
    "        venues_list.append([(\n",
    "            name, \n",
    "            lat, \n",
    "            lng, \n",
    "            v['venue']['name'], \n",
    "            v['venue']['location']['lat'], \n",
    "            v['venue']['location']['lng'],  \n",
    "            v['venue']['categories'][0]['name']) for v in results])\n",
    "\n",
    "    nearby_venues = pd.DataFrame([item for venue_list in venues_list for item in venue_list])\n",
    "    nearby_venues.columns = ['Neighborhood', \n",
    "                  'Neighborhood Latitude', \n",
    "                  'Neighborhood Longitude', \n",
    "                  'Venue', \n",
    "                  'Venue Latitude', \n",
    "                  'Venue Longitude', \n",
    "                  'Venue Category']\n",
    "    \n",
    "    return(nearby_venues)"
   ]
  },
  {
   "cell_type": "markdown",
   "metadata": {},
   "source": [
    "#### Set up Foursquare LIMIT and radius\n",
    "#### Write code to run the above function on each of the 25 most populated census block and create a new dataframe called *toronto_venues*."
   ]
  },
  {
   "cell_type": "code",
   "execution_count": 35,
   "metadata": {},
   "outputs": [
    {
     "name": "stdout",
     "output_type": "stream",
     "text": [
      "35204567001\n",
      "35204074001\n",
      "35204819002\n",
      "35204049014\n",
      "35204073006\n",
      "35204606002\n",
      "35204371001\n",
      "35204676002\n",
      "35204872001\n",
      "35204004002\n",
      "35204464001\n",
      "35204564001\n",
      "35204588001\n",
      "35204900009\n",
      "35204653009\n",
      "35204367001\n",
      "35204024001\n",
      "35204072006\n",
      "35204796001\n",
      "35204826004\n",
      "35204380001\n",
      "35204666003\n",
      "35204650006\n",
      "35203520005\n",
      "35204578001\n"
     ]
    }
   ],
   "source": [
    "LIMIT = 100 # limit of number of venues returned by Foursquare API\n",
    "radius = 1000 # define radius\n",
    "\n",
    "toronto_venues = getNearbyVenues(names=df_census_blks_GT25['census_blk'],\n",
    "                                   latitudes=df_census_blks_GT25['Latitude'],\n",
    "                                   longitudes=df_census_blks_GT25['Longitude']\n",
    "                                  )"
   ]
  },
  {
   "cell_type": "markdown",
   "metadata": {},
   "source": [
    "#### Let's check the size of the resulting dataframe"
   ]
  },
  {
   "cell_type": "code",
   "execution_count": 36,
   "metadata": {},
   "outputs": [
    {
     "name": "stdout",
     "output_type": "stream",
     "text": [
      "(1025, 7)\n"
     ]
    },
    {
     "data": {
      "text/html": [
       "<div>\n",
       "<style scoped>\n",
       "    .dataframe tbody tr th:only-of-type {\n",
       "        vertical-align: middle;\n",
       "    }\n",
       "\n",
       "    .dataframe tbody tr th {\n",
       "        vertical-align: top;\n",
       "    }\n",
       "\n",
       "    .dataframe thead th {\n",
       "        text-align: right;\n",
       "    }\n",
       "</style>\n",
       "<table border=\"1\" class=\"dataframe\">\n",
       "  <thead>\n",
       "    <tr style=\"text-align: right;\">\n",
       "      <th></th>\n",
       "      <th>Neighborhood</th>\n",
       "      <th>Neighborhood Latitude</th>\n",
       "      <th>Neighborhood Longitude</th>\n",
       "      <th>Venue</th>\n",
       "      <th>Venue Latitude</th>\n",
       "      <th>Venue Longitude</th>\n",
       "      <th>Venue Category</th>\n",
       "    </tr>\n",
       "  </thead>\n",
       "  <tbody>\n",
       "    <tr>\n",
       "      <th>0</th>\n",
       "      <td>35204567001</td>\n",
       "      <td>43.668674</td>\n",
       "      <td>-79.371902</td>\n",
       "      <td>Cranberries</td>\n",
       "      <td>43.667843</td>\n",
       "      <td>-79.369407</td>\n",
       "      <td>Diner</td>\n",
       "    </tr>\n",
       "    <tr>\n",
       "      <th>1</th>\n",
       "      <td>35204567001</td>\n",
       "      <td>43.668674</td>\n",
       "      <td>-79.371902</td>\n",
       "      <td>Mr. Jerk</td>\n",
       "      <td>43.667328</td>\n",
       "      <td>-79.373389</td>\n",
       "      <td>Caribbean Restaurant</td>\n",
       "    </tr>\n",
       "    <tr>\n",
       "      <th>2</th>\n",
       "      <td>35204567001</td>\n",
       "      <td>43.668674</td>\n",
       "      <td>-79.371902</td>\n",
       "      <td>F'Amelia</td>\n",
       "      <td>43.667536</td>\n",
       "      <td>-79.368613</td>\n",
       "      <td>Italian Restaurant</td>\n",
       "    </tr>\n",
       "    <tr>\n",
       "      <th>3</th>\n",
       "      <td>35204567001</td>\n",
       "      <td>43.668674</td>\n",
       "      <td>-79.371902</td>\n",
       "      <td>Butter Chicken Factory</td>\n",
       "      <td>43.667072</td>\n",
       "      <td>-79.369184</td>\n",
       "      <td>Indian Restaurant</td>\n",
       "    </tr>\n",
       "    <tr>\n",
       "      <th>4</th>\n",
       "      <td>35204567001</td>\n",
       "      <td>43.668674</td>\n",
       "      <td>-79.371902</td>\n",
       "      <td>Murgatroid</td>\n",
       "      <td>43.667381</td>\n",
       "      <td>-79.369311</td>\n",
       "      <td>Restaurant</td>\n",
       "    </tr>\n",
       "  </tbody>\n",
       "</table>\n",
       "</div>"
      ],
      "text/plain": [
       "   Neighborhood  Neighborhood Latitude  Neighborhood Longitude  \\\n",
       "0   35204567001              43.668674              -79.371902   \n",
       "1   35204567001              43.668674              -79.371902   \n",
       "2   35204567001              43.668674              -79.371902   \n",
       "3   35204567001              43.668674              -79.371902   \n",
       "4   35204567001              43.668674              -79.371902   \n",
       "\n",
       "                    Venue  Venue Latitude  Venue Longitude  \\\n",
       "0             Cranberries       43.667843       -79.369407   \n",
       "1                Mr. Jerk       43.667328       -79.373389   \n",
       "2                F'Amelia       43.667536       -79.368613   \n",
       "3  Butter Chicken Factory       43.667072       -79.369184   \n",
       "4              Murgatroid       43.667381       -79.369311   \n",
       "\n",
       "         Venue Category  \n",
       "0                 Diner  \n",
       "1  Caribbean Restaurant  \n",
       "2    Italian Restaurant  \n",
       "3     Indian Restaurant  \n",
       "4            Restaurant  "
      ]
     },
     "execution_count": 36,
     "metadata": {},
     "output_type": "execute_result"
    }
   ],
   "source": [
    "print(toronto_venues.shape)\n",
    "toronto_venues.head()"
   ]
  },
  {
   "cell_type": "markdown",
   "metadata": {},
   "source": [
    "#### Analyze each selected populated census block, with specific focus on information related to restaurant"
   ]
  },
  {
   "cell_type": "code",
   "execution_count": 39,
   "metadata": {},
   "outputs": [
    {
     "name": "stdout",
     "output_type": "stream",
     "text": [
      "(1025, 199)\n",
      "36\n"
     ]
    },
    {
     "data": {
      "text/html": [
       "<div>\n",
       "<style scoped>\n",
       "    .dataframe tbody tr th:only-of-type {\n",
       "        vertical-align: middle;\n",
       "    }\n",
       "\n",
       "    .dataframe tbody tr th {\n",
       "        vertical-align: top;\n",
       "    }\n",
       "\n",
       "    .dataframe thead th {\n",
       "        text-align: right;\n",
       "    }\n",
       "</style>\n",
       "<table border=\"1\" class=\"dataframe\">\n",
       "  <thead>\n",
       "    <tr style=\"text-align: right;\">\n",
       "      <th></th>\n",
       "      <th>Afghan Restaurant</th>\n",
       "      <th>American Restaurant</th>\n",
       "      <th>Asian Restaurant</th>\n",
       "      <th>Belgian Restaurant</th>\n",
       "      <th>Caribbean Restaurant</th>\n",
       "      <th>Chinese Restaurant</th>\n",
       "      <th>Comfort Food Restaurant</th>\n",
       "      <th>Eastern European Restaurant</th>\n",
       "      <th>Ethiopian Restaurant</th>\n",
       "      <th>Falafel Restaurant</th>\n",
       "      <th>Fast Food Restaurant</th>\n",
       "      <th>Filipino Restaurant</th>\n",
       "      <th>French Restaurant</th>\n",
       "      <th>Greek Restaurant</th>\n",
       "      <th>Indian Restaurant</th>\n",
       "      <th>Italian Restaurant</th>\n",
       "      <th>Japanese Restaurant</th>\n",
       "      <th>Korean Restaurant</th>\n",
       "      <th>Mediterranean Restaurant</th>\n",
       "      <th>Mexican Restaurant</th>\n",
       "      <th>Middle Eastern Restaurant</th>\n",
       "      <th>Modern European Restaurant</th>\n",
       "      <th>Molecular Gastronomy Restaurant</th>\n",
       "      <th>New American Restaurant</th>\n",
       "      <th>Peruvian Restaurant</th>\n",
       "      <th>Portuguese Restaurant</th>\n",
       "      <th>Ramen Restaurant</th>\n",
       "      <th>Restaurant</th>\n",
       "      <th>Seafood Restaurant</th>\n",
       "      <th>Sushi Restaurant</th>\n",
       "      <th>Tapas Restaurant</th>\n",
       "      <th>Thai Restaurant</th>\n",
       "      <th>Theme Restaurant</th>\n",
       "      <th>Turkish Restaurant</th>\n",
       "      <th>Vegetarian / Vegan Restaurant</th>\n",
       "      <th>Vietnamese Restaurant</th>\n",
       "    </tr>\n",
       "  </thead>\n",
       "  <tbody>\n",
       "    <tr>\n",
       "      <th>0</th>\n",
       "      <td>0</td>\n",
       "      <td>0</td>\n",
       "      <td>0</td>\n",
       "      <td>0</td>\n",
       "      <td>0</td>\n",
       "      <td>0</td>\n",
       "      <td>0</td>\n",
       "      <td>0</td>\n",
       "      <td>0</td>\n",
       "      <td>0</td>\n",
       "      <td>0</td>\n",
       "      <td>0</td>\n",
       "      <td>0</td>\n",
       "      <td>0</td>\n",
       "      <td>0</td>\n",
       "      <td>0</td>\n",
       "      <td>0</td>\n",
       "      <td>0</td>\n",
       "      <td>0</td>\n",
       "      <td>0</td>\n",
       "      <td>0</td>\n",
       "      <td>0</td>\n",
       "      <td>0</td>\n",
       "      <td>0</td>\n",
       "      <td>0</td>\n",
       "      <td>0</td>\n",
       "      <td>0</td>\n",
       "      <td>0</td>\n",
       "      <td>0</td>\n",
       "      <td>0</td>\n",
       "      <td>0</td>\n",
       "      <td>0</td>\n",
       "      <td>0</td>\n",
       "      <td>0</td>\n",
       "      <td>0</td>\n",
       "      <td>0</td>\n",
       "    </tr>\n",
       "    <tr>\n",
       "      <th>1</th>\n",
       "      <td>0</td>\n",
       "      <td>0</td>\n",
       "      <td>0</td>\n",
       "      <td>0</td>\n",
       "      <td>1</td>\n",
       "      <td>0</td>\n",
       "      <td>0</td>\n",
       "      <td>0</td>\n",
       "      <td>0</td>\n",
       "      <td>0</td>\n",
       "      <td>0</td>\n",
       "      <td>0</td>\n",
       "      <td>0</td>\n",
       "      <td>0</td>\n",
       "      <td>0</td>\n",
       "      <td>0</td>\n",
       "      <td>0</td>\n",
       "      <td>0</td>\n",
       "      <td>0</td>\n",
       "      <td>0</td>\n",
       "      <td>0</td>\n",
       "      <td>0</td>\n",
       "      <td>0</td>\n",
       "      <td>0</td>\n",
       "      <td>0</td>\n",
       "      <td>0</td>\n",
       "      <td>0</td>\n",
       "      <td>0</td>\n",
       "      <td>0</td>\n",
       "      <td>0</td>\n",
       "      <td>0</td>\n",
       "      <td>0</td>\n",
       "      <td>0</td>\n",
       "      <td>0</td>\n",
       "      <td>0</td>\n",
       "      <td>0</td>\n",
       "    </tr>\n",
       "    <tr>\n",
       "      <th>2</th>\n",
       "      <td>0</td>\n",
       "      <td>0</td>\n",
       "      <td>0</td>\n",
       "      <td>0</td>\n",
       "      <td>0</td>\n",
       "      <td>0</td>\n",
       "      <td>0</td>\n",
       "      <td>0</td>\n",
       "      <td>0</td>\n",
       "      <td>0</td>\n",
       "      <td>0</td>\n",
       "      <td>0</td>\n",
       "      <td>0</td>\n",
       "      <td>0</td>\n",
       "      <td>0</td>\n",
       "      <td>1</td>\n",
       "      <td>0</td>\n",
       "      <td>0</td>\n",
       "      <td>0</td>\n",
       "      <td>0</td>\n",
       "      <td>0</td>\n",
       "      <td>0</td>\n",
       "      <td>0</td>\n",
       "      <td>0</td>\n",
       "      <td>0</td>\n",
       "      <td>0</td>\n",
       "      <td>0</td>\n",
       "      <td>0</td>\n",
       "      <td>0</td>\n",
       "      <td>0</td>\n",
       "      <td>0</td>\n",
       "      <td>0</td>\n",
       "      <td>0</td>\n",
       "      <td>0</td>\n",
       "      <td>0</td>\n",
       "      <td>0</td>\n",
       "    </tr>\n",
       "    <tr>\n",
       "      <th>3</th>\n",
       "      <td>0</td>\n",
       "      <td>0</td>\n",
       "      <td>0</td>\n",
       "      <td>0</td>\n",
       "      <td>0</td>\n",
       "      <td>0</td>\n",
       "      <td>0</td>\n",
       "      <td>0</td>\n",
       "      <td>0</td>\n",
       "      <td>0</td>\n",
       "      <td>0</td>\n",
       "      <td>0</td>\n",
       "      <td>0</td>\n",
       "      <td>0</td>\n",
       "      <td>1</td>\n",
       "      <td>0</td>\n",
       "      <td>0</td>\n",
       "      <td>0</td>\n",
       "      <td>0</td>\n",
       "      <td>0</td>\n",
       "      <td>0</td>\n",
       "      <td>0</td>\n",
       "      <td>0</td>\n",
       "      <td>0</td>\n",
       "      <td>0</td>\n",
       "      <td>0</td>\n",
       "      <td>0</td>\n",
       "      <td>0</td>\n",
       "      <td>0</td>\n",
       "      <td>0</td>\n",
       "      <td>0</td>\n",
       "      <td>0</td>\n",
       "      <td>0</td>\n",
       "      <td>0</td>\n",
       "      <td>0</td>\n",
       "      <td>0</td>\n",
       "    </tr>\n",
       "    <tr>\n",
       "      <th>4</th>\n",
       "      <td>0</td>\n",
       "      <td>0</td>\n",
       "      <td>0</td>\n",
       "      <td>0</td>\n",
       "      <td>0</td>\n",
       "      <td>0</td>\n",
       "      <td>0</td>\n",
       "      <td>0</td>\n",
       "      <td>0</td>\n",
       "      <td>0</td>\n",
       "      <td>0</td>\n",
       "      <td>0</td>\n",
       "      <td>0</td>\n",
       "      <td>0</td>\n",
       "      <td>0</td>\n",
       "      <td>0</td>\n",
       "      <td>0</td>\n",
       "      <td>0</td>\n",
       "      <td>0</td>\n",
       "      <td>0</td>\n",
       "      <td>0</td>\n",
       "      <td>0</td>\n",
       "      <td>0</td>\n",
       "      <td>0</td>\n",
       "      <td>0</td>\n",
       "      <td>0</td>\n",
       "      <td>0</td>\n",
       "      <td>1</td>\n",
       "      <td>0</td>\n",
       "      <td>0</td>\n",
       "      <td>0</td>\n",
       "      <td>0</td>\n",
       "      <td>0</td>\n",
       "      <td>0</td>\n",
       "      <td>0</td>\n",
       "      <td>0</td>\n",
       "    </tr>\n",
       "  </tbody>\n",
       "</table>\n",
       "</div>"
      ],
      "text/plain": [
       "   Afghan Restaurant  American Restaurant  Asian Restaurant  \\\n",
       "0                  0                    0                 0   \n",
       "1                  0                    0                 0   \n",
       "2                  0                    0                 0   \n",
       "3                  0                    0                 0   \n",
       "4                  0                    0                 0   \n",
       "\n",
       "   Belgian Restaurant  Caribbean Restaurant  Chinese Restaurant  \\\n",
       "0                   0                     0                   0   \n",
       "1                   0                     1                   0   \n",
       "2                   0                     0                   0   \n",
       "3                   0                     0                   0   \n",
       "4                   0                     0                   0   \n",
       "\n",
       "   Comfort Food Restaurant  Eastern European Restaurant  Ethiopian Restaurant  \\\n",
       "0                        0                            0                     0   \n",
       "1                        0                            0                     0   \n",
       "2                        0                            0                     0   \n",
       "3                        0                            0                     0   \n",
       "4                        0                            0                     0   \n",
       "\n",
       "   Falafel Restaurant  Fast Food Restaurant  Filipino Restaurant  \\\n",
       "0                   0                     0                    0   \n",
       "1                   0                     0                    0   \n",
       "2                   0                     0                    0   \n",
       "3                   0                     0                    0   \n",
       "4                   0                     0                    0   \n",
       "\n",
       "   French Restaurant  Greek Restaurant  Indian Restaurant  Italian Restaurant  \\\n",
       "0                  0                 0                  0                   0   \n",
       "1                  0                 0                  0                   0   \n",
       "2                  0                 0                  0                   1   \n",
       "3                  0                 0                  1                   0   \n",
       "4                  0                 0                  0                   0   \n",
       "\n",
       "   Japanese Restaurant  Korean Restaurant  Mediterranean Restaurant  \\\n",
       "0                    0                  0                         0   \n",
       "1                    0                  0                         0   \n",
       "2                    0                  0                         0   \n",
       "3                    0                  0                         0   \n",
       "4                    0                  0                         0   \n",
       "\n",
       "   Mexican Restaurant  Middle Eastern Restaurant  Modern European Restaurant  \\\n",
       "0                   0                          0                           0   \n",
       "1                   0                          0                           0   \n",
       "2                   0                          0                           0   \n",
       "3                   0                          0                           0   \n",
       "4                   0                          0                           0   \n",
       "\n",
       "   Molecular Gastronomy Restaurant  New American Restaurant  \\\n",
       "0                                0                        0   \n",
       "1                                0                        0   \n",
       "2                                0                        0   \n",
       "3                                0                        0   \n",
       "4                                0                        0   \n",
       "\n",
       "   Peruvian Restaurant  Portuguese Restaurant  Ramen Restaurant  Restaurant  \\\n",
       "0                    0                      0                 0           0   \n",
       "1                    0                      0                 0           0   \n",
       "2                    0                      0                 0           0   \n",
       "3                    0                      0                 0           0   \n",
       "4                    0                      0                 0           1   \n",
       "\n",
       "   Seafood Restaurant  Sushi Restaurant  Tapas Restaurant  Thai Restaurant  \\\n",
       "0                   0                 0                 0                0   \n",
       "1                   0                 0                 0                0   \n",
       "2                   0                 0                 0                0   \n",
       "3                   0                 0                 0                0   \n",
       "4                   0                 0                 0                0   \n",
       "\n",
       "   Theme Restaurant  Turkish Restaurant  Vegetarian / Vegan Restaurant  \\\n",
       "0                 0                   0                              0   \n",
       "1                 0                   0                              0   \n",
       "2                 0                   0                              0   \n",
       "3                 0                   0                              0   \n",
       "4                 0                   0                              0   \n",
       "\n",
       "   Vietnamese Restaurant  \n",
       "0                      0  \n",
       "1                      0  \n",
       "2                      0  \n",
       "3                      0  \n",
       "4                      0  "
      ]
     },
     "execution_count": 39,
     "metadata": {},
     "output_type": "execute_result"
    }
   ],
   "source": [
    "toronto_onehot = pd.get_dummies(toronto_venues[['Venue Category']], prefix=\"\", prefix_sep=\"\")\n",
    "print(toronto_onehot.shape)\n",
    "toronto_onehot.head()\n",
    "\n",
    "restaurant_cols = [col for col in toronto_onehot.columns if 'Restaurant' in col]\n",
    "print(len(restaurant_cols))\n",
    "toronto_restaurants = toronto_onehot[restaurant_cols]\n",
    "toronto_restaurants.head()"
   ]
  },
  {
   "cell_type": "markdown",
   "metadata": {},
   "source": [
    "#### And we would like to see the location of these 25 most populated locations"
   ]
  },
  {
   "cell_type": "markdown",
   "metadata": {},
   "source": [
    "#### We use geopy library to get the latitude and longitude values of City Toronto, Ontario."
   ]
  },
  {
   "cell_type": "code",
   "execution_count": 55,
   "metadata": {},
   "outputs": [
    {
     "name": "stdout",
     "output_type": "stream",
     "text": [
      "The geograpical coordinate of Toronto are 43.6781255, -79.6321235335026.\n"
     ]
    }
   ],
   "source": [
    "address = 'Toronto, ONT'\n",
    "\n",
    "geolocator = Nominatim(user_agent=\"ny_explorer\")\n",
    "location = geolocator.geocode(address)\n",
    "latitude = location.latitude\n",
    "longitude = location.longitude\n",
    "print('The geograpical coordinate of Toronto are {}, {}.'.format(latitude, longitude))"
   ]
  },
  {
   "cell_type": "markdown",
   "metadata": {},
   "source": [
    "#### Then we create a map of Toronto, Ontario with the top 25 most populated areas superimposed on top."
   ]
  },
  {
   "cell_type": "code",
   "execution_count": 56,
   "metadata": {},
   "outputs": [
    {
     "data": {
      "text/html": [
       "<div style=\"width:100%;\"><div style=\"position:relative;width:100%;height:0;padding-bottom:60%;\"><iframe src=\"data:text/html;charset=utf-8;base64,PCFET0NUWVBFIGh0bWw+CjxoZWFkPiAgICAKICAgIDxtZXRhIGh0dHAtZXF1aXY9ImNvbnRlbnQtdHlwZSIgY29udGVudD0idGV4dC9odG1sOyBjaGFyc2V0PVVURi04IiAvPgogICAgPHNjcmlwdD5MX1BSRUZFUl9DQU5WQVMgPSBmYWxzZTsgTF9OT19UT1VDSCA9IGZhbHNlOyBMX0RJU0FCTEVfM0QgPSBmYWxzZTs8L3NjcmlwdD4KICAgIDxzY3JpcHQgc3JjPSJodHRwczovL2Nkbi5qc2RlbGl2ci5uZXQvbnBtL2xlYWZsZXRAMS4yLjAvZGlzdC9sZWFmbGV0LmpzIj48L3NjcmlwdD4KICAgIDxzY3JpcHQgc3JjPSJodHRwczovL2FqYXguZ29vZ2xlYXBpcy5jb20vYWpheC9saWJzL2pxdWVyeS8xLjExLjEvanF1ZXJ5Lm1pbi5qcyI+PC9zY3JpcHQ+CiAgICA8c2NyaXB0IHNyYz0iaHR0cHM6Ly9tYXhjZG4uYm9vdHN0cmFwY2RuLmNvbS9ib290c3RyYXAvMy4yLjAvanMvYm9vdHN0cmFwLm1pbi5qcyI+PC9zY3JpcHQ+CiAgICA8c2NyaXB0IHNyYz0iaHR0cHM6Ly9jZG5qcy5jbG91ZGZsYXJlLmNvbS9hamF4L2xpYnMvTGVhZmxldC5hd2Vzb21lLW1hcmtlcnMvMi4wLjIvbGVhZmxldC5hd2Vzb21lLW1hcmtlcnMuanMiPjwvc2NyaXB0PgogICAgPGxpbmsgcmVsPSJzdHlsZXNoZWV0IiBocmVmPSJodHRwczovL2Nkbi5qc2RlbGl2ci5uZXQvbnBtL2xlYWZsZXRAMS4yLjAvZGlzdC9sZWFmbGV0LmNzcyIvPgogICAgPGxpbmsgcmVsPSJzdHlsZXNoZWV0IiBocmVmPSJodHRwczovL21heGNkbi5ib290c3RyYXBjZG4uY29tL2Jvb3RzdHJhcC8zLjIuMC9jc3MvYm9vdHN0cmFwLm1pbi5jc3MiLz4KICAgIDxsaW5rIHJlbD0ic3R5bGVzaGVldCIgaHJlZj0iaHR0cHM6Ly9tYXhjZG4uYm9vdHN0cmFwY2RuLmNvbS9ib290c3RyYXAvMy4yLjAvY3NzL2Jvb3RzdHJhcC10aGVtZS5taW4uY3NzIi8+CiAgICA8bGluayByZWw9InN0eWxlc2hlZXQiIGhyZWY9Imh0dHBzOi8vbWF4Y2RuLmJvb3RzdHJhcGNkbi5jb20vZm9udC1hd2Vzb21lLzQuNi4zL2Nzcy9mb250LWF3ZXNvbWUubWluLmNzcyIvPgogICAgPGxpbmsgcmVsPSJzdHlsZXNoZWV0IiBocmVmPSJodHRwczovL2NkbmpzLmNsb3VkZmxhcmUuY29tL2FqYXgvbGlicy9MZWFmbGV0LmF3ZXNvbWUtbWFya2Vycy8yLjAuMi9sZWFmbGV0LmF3ZXNvbWUtbWFya2Vycy5jc3MiLz4KICAgIDxsaW5rIHJlbD0ic3R5bGVzaGVldCIgaHJlZj0iaHR0cHM6Ly9yYXdnaXQuY29tL3B5dGhvbi12aXN1YWxpemF0aW9uL2ZvbGl1bS9tYXN0ZXIvZm9saXVtL3RlbXBsYXRlcy9sZWFmbGV0LmF3ZXNvbWUucm90YXRlLmNzcyIvPgogICAgPHN0eWxlPmh0bWwsIGJvZHkge3dpZHRoOiAxMDAlO2hlaWdodDogMTAwJTttYXJnaW46IDA7cGFkZGluZzogMDt9PC9zdHlsZT4KICAgIDxzdHlsZT4jbWFwIHtwb3NpdGlvbjphYnNvbHV0ZTt0b3A6MDtib3R0b206MDtyaWdodDowO2xlZnQ6MDt9PC9zdHlsZT4KICAgIAogICAgICAgICAgICA8c3R5bGU+ICNtYXBfOGNmYTIzOGUzYjUyNDk3NTljY2JiMTU0NThiMDIxY2EgewogICAgICAgICAgICAgICAgcG9zaXRpb24gOiByZWxhdGl2ZTsKICAgICAgICAgICAgICAgIHdpZHRoIDogMTAwLjAlOwogICAgICAgICAgICAgICAgaGVpZ2h0OiAxMDAuMCU7CiAgICAgICAgICAgICAgICBsZWZ0OiAwLjAlOwogICAgICAgICAgICAgICAgdG9wOiAwLjAlOwogICAgICAgICAgICAgICAgfQogICAgICAgICAgICA8L3N0eWxlPgogICAgICAgIAo8L2hlYWQ+Cjxib2R5PiAgICAKICAgIAogICAgICAgICAgICA8ZGl2IGNsYXNzPSJmb2xpdW0tbWFwIiBpZD0ibWFwXzhjZmEyMzhlM2I1MjQ5NzU5Y2NiYjE1NDU4YjAyMWNhIiA+PC9kaXY+CiAgICAgICAgCjwvYm9keT4KPHNjcmlwdD4gICAgCiAgICAKCiAgICAgICAgICAgIAogICAgICAgICAgICAgICAgdmFyIGJvdW5kcyA9IG51bGw7CiAgICAgICAgICAgIAoKICAgICAgICAgICAgdmFyIG1hcF84Y2ZhMjM4ZTNiNTI0OTc1OWNjYmIxNTQ1OGIwMjFjYSA9IEwubWFwKAogICAgICAgICAgICAgICAgICAgICAgICAgICAgICAgICAgJ21hcF84Y2ZhMjM4ZTNiNTI0OTc1OWNjYmIxNTQ1OGIwMjFjYScsCiAgICAgICAgICAgICAgICAgICAgICAgICAgICAgICAgICB7Y2VudGVyOiBbNDMuNjc4MTI1NSwtNzkuNjMyMTIzNTMzNTAyNl0sCiAgICAgICAgICAgICAgICAgICAgICAgICAgICAgICAgICB6b29tOiAxMCwKICAgICAgICAgICAgICAgICAgICAgICAgICAgICAgICAgIG1heEJvdW5kczogYm91bmRzLAogICAgICAgICAgICAgICAgICAgICAgICAgICAgICAgICAgbGF5ZXJzOiBbXSwKICAgICAgICAgICAgICAgICAgICAgICAgICAgICAgICAgIHdvcmxkQ29weUp1bXA6IGZhbHNlLAogICAgICAgICAgICAgICAgICAgICAgICAgICAgICAgICAgY3JzOiBMLkNSUy5FUFNHMzg1NwogICAgICAgICAgICAgICAgICAgICAgICAgICAgICAgICB9KTsKICAgICAgICAgICAgCiAgICAgICAgCiAgICAKICAgICAgICAgICAgdmFyIHRpbGVfbGF5ZXJfYjAzYzRjZDUxNzI4NGJhNmJjZDMwNTQyNGE1ZThhMTggPSBMLnRpbGVMYXllcigKICAgICAgICAgICAgICAgICdodHRwczovL3tzfS50aWxlLm9wZW5zdHJlZXRtYXAub3JnL3t6fS97eH0ve3l9LnBuZycsCiAgICAgICAgICAgICAgICB7CiAgImF0dHJpYnV0aW9uIjogbnVsbCwKICAiZGV0ZWN0UmV0aW5hIjogZmFsc2UsCiAgIm1heFpvb20iOiAxOCwKICAibWluWm9vbSI6IDEsCiAgIm5vV3JhcCI6IGZhbHNlLAogICJzdWJkb21haW5zIjogImFiYyIKfQogICAgICAgICAgICAgICAgKS5hZGRUbyhtYXBfOGNmYTIzOGUzYjUyNDk3NTljY2JiMTU0NThiMDIxY2EpOwogICAgICAgIAogICAgCiAgICAgICAgICAgIHZhciBjaXJjbGVfbWFya2VyXzMxMDA5NTNiMTczODQ1MmNhZTgzYjFjZWZhNDcwMzNhID0gTC5jaXJjbGVNYXJrZXIoCiAgICAgICAgICAgICAgICBbNDMuNjY4NjczOTk5OTk5OTk2LC03OS4zNzE5MDJdLAogICAgICAgICAgICAgICAgewogICJidWJibGluZ01vdXNlRXZlbnRzIjogdHJ1ZSwKICAiY29sb3IiOiAiYmx1ZSIsCiAgImRhc2hBcnJheSI6IG51bGwsCiAgImRhc2hPZmZzZXQiOiBudWxsLAogICJmaWxsIjogdHJ1ZSwKICAiZmlsbENvbG9yIjogIiMzMTg2Y2MiLAogICJmaWxsT3BhY2l0eSI6IDAuNywKICAiZmlsbFJ1bGUiOiAiZXZlbm9kZCIsCiAgImxpbmVDYXAiOiAicm91bmQiLAogICJsaW5lSm9pbiI6ICJyb3VuZCIsCiAgIm9wYWNpdHkiOiAxLjAsCiAgInJhZGl1cyI6IDUsCiAgInN0cm9rZSI6IHRydWUsCiAgIndlaWdodCI6IDMKfQogICAgICAgICAgICAgICAgKS5hZGRUbyhtYXBfOGNmYTIzOGUzYjUyNDk3NTljY2JiMTU0NThiMDIxY2EpOwogICAgICAgICAgICAKICAgIAogICAgICAgICAgICB2YXIgcG9wdXBfNjY4MDllMGEwZDM0NDI5NmI3NzY1NmU2ODQ3MDlmODYgPSBMLnBvcHVwKHttYXhXaWR0aDogJzMwMCd9KTsKCiAgICAgICAgICAgIAogICAgICAgICAgICAgICAgdmFyIGh0bWxfZjY4ZDM5NzQ1MGEwNDIwN2E3MmZiMWE5MWFiNDZmMTIgPSAkKCc8ZGl2IGlkPSJodG1sX2Y2OGQzOTc0NTBhMDQyMDdhNzJmYjFhOTFhYjQ2ZjEyIiBzdHlsZT0id2lkdGg6IDEwMC4wJTsgaGVpZ2h0OiAxMDAuMCU7Ij43MjQzLjk5OTk5OTU5OTk5OCwgMzUyMDQ1NjcwMDE8L2Rpdj4nKVswXTsKICAgICAgICAgICAgICAgIHBvcHVwXzY2ODA5ZTBhMGQzNDQyOTZiNzc2NTZlNjg0NzA5Zjg2LnNldENvbnRlbnQoaHRtbF9mNjhkMzk3NDUwYTA0MjA3YTcyZmIxYTkxYWI0NmYxMik7CiAgICAgICAgICAgIAoKICAgICAgICAgICAgY2lyY2xlX21hcmtlcl8zMTAwOTUzYjE3Mzg0NTJjYWU4M2IxY2VmYTQ3MDMzYS5iaW5kUG9wdXAocG9wdXBfNjY4MDllMGEwZDM0NDI5NmI3NzY1NmU2ODQ3MDlmODYpOwoKICAgICAgICAgICAgCiAgICAgICAgCiAgICAKICAgICAgICAgICAgdmFyIGNpcmNsZV9tYXJrZXJfOTQ1ODgyNDE3MWQyNDMwZmFiM2Y1ODcyNjgxMmY5ZTIgPSBMLmNpcmNsZU1hcmtlcigKICAgICAgICAgICAgICAgIFs0My43MDE1NTM5OTk5OTk5OTQsLTc5LjM0MTEyM10sCiAgICAgICAgICAgICAgICB7CiAgImJ1YmJsaW5nTW91c2VFdmVudHMiOiB0cnVlLAogICJjb2xvciI6ICJibHVlIiwKICAiZGFzaEFycmF5IjogbnVsbCwKICAiZGFzaE9mZnNldCI6IG51bGwsCiAgImZpbGwiOiB0cnVlLAogICJmaWxsQ29sb3IiOiAiIzMxODZjYyIsCiAgImZpbGxPcGFjaXR5IjogMC43LAogICJmaWxsUnVsZSI6ICJldmVub2RkIiwKICAibGluZUNhcCI6ICJyb3VuZCIsCiAgImxpbmVKb2luIjogInJvdW5kIiwKICAib3BhY2l0eSI6IDEuMCwKICAicmFkaXVzIjogNSwKICAic3Ryb2tlIjogdHJ1ZSwKICAid2VpZ2h0IjogMwp9CiAgICAgICAgICAgICAgICApLmFkZFRvKG1hcF84Y2ZhMjM4ZTNiNTI0OTc1OWNjYmIxNTQ1OGIwMjFjYSk7CiAgICAgICAgICAgIAogICAgCiAgICAgICAgICAgIHZhciBwb3B1cF8wNGRmZGNmNzQ4Y2Q0YWRjODk4Y2EyMjJmYmE5YjdlOSA9IEwucG9wdXAoe21heFdpZHRoOiAnMzAwJ30pOwoKICAgICAgICAgICAgCiAgICAgICAgICAgICAgICB2YXIgaHRtbF9lMjI5MWE4ZjM4MzU0NmE3YWJlMjRlYWI1MjQ3Mzc4MyA9ICQoJzxkaXYgaWQ9Imh0bWxfZTIyOTFhOGYzODM1NDZhN2FiZTI0ZWFiNTI0NzM3ODMiIHN0eWxlPSJ3aWR0aDogMTAwLjAlOyBoZWlnaHQ6IDEwMC4wJTsiPjU0OTcuOTk5OTk5Nzk5OTk5LCAzNTIwNDA3NDAwMTwvZGl2PicpWzBdOwogICAgICAgICAgICAgICAgcG9wdXBfMDRkZmRjZjc0OGNkNGFkYzg5OGNhMjIyZmJhOWI3ZTkuc2V0Q29udGVudChodG1sX2UyMjkxYThmMzgzNTQ2YTdhYmUyNGVhYjUyNDczNzgzKTsKICAgICAgICAgICAgCgogICAgICAgICAgICBjaXJjbGVfbWFya2VyXzk0NTg4MjQxNzFkMjQzMGZhYjNmNTg3MjY4MTJmOWUyLmJpbmRQb3B1cChwb3B1cF8wNGRmZGNmNzQ4Y2Q0YWRjODk4Y2EyMjJmYmE5YjdlOSk7CgogICAgICAgICAgICAKICAgICAgICAKICAgIAogICAgICAgICAgICB2YXIgY2lyY2xlX21hcmtlcl82YzY4NmMwMDdkNWY0NTRkOThkMWEwZTljYmQ0MTI0YiA9IEwuY2lyY2xlTWFya2VyKAogICAgICAgICAgICAgICAgWzQzLjY0MDQxNTk5OTk5OTk5NSwtNzkuMzk3ODYyXSwKICAgICAgICAgICAgICAgIHsKICAiYnViYmxpbmdNb3VzZUV2ZW50cyI6IHRydWUsCiAgImNvbG9yIjogImJsdWUiLAogICJkYXNoQXJyYXkiOiBudWxsLAogICJkYXNoT2Zmc2V0IjogbnVsbCwKICAiZmlsbCI6IHRydWUsCiAgImZpbGxDb2xvciI6ICIjMzE4NmNjIiwKICAiZmlsbE9wYWNpdHkiOiAwLjcsCiAgImZpbGxSdWxlIjogImV2ZW5vZGQiLAogICJsaW5lQ2FwIjogInJvdW5kIiwKICAibGluZUpvaW4iOiAicm91bmQiLAogICJvcGFjaXR5IjogMS4wLAogICJyYWRpdXMiOiA1LAogICJzdHJva2UiOiB0cnVlLAogICJ3ZWlnaHQiOiAzCn0KICAgICAgICAgICAgICAgICkuYWRkVG8obWFwXzhjZmEyMzhlM2I1MjQ5NzU5Y2NiYjE1NDU4YjAyMWNhKTsKICAgICAgICAgICAgCiAgICAKICAgICAgICAgICAgdmFyIHBvcHVwXzY1MDdhNzEwODhkMTQwYmNiOGMzMjA4ODNjMDMwOWI4ID0gTC5wb3B1cCh7bWF4V2lkdGg6ICczMDAnfSk7CgogICAgICAgICAgICAKICAgICAgICAgICAgICAgIHZhciBodG1sXzZjMjZkZDRkODMyYzQ1NDM5YzE2MTIyODNlZTM3ZjRhID0gJCgnPGRpdiBpZD0iaHRtbF82YzI2ZGQ0ZDgzMmM0NTQzOWMxNjEyMjgzZWUzN2Y0YSIgc3R5bGU9IndpZHRoOiAxMDAuMCU7IGhlaWdodDogMTAwLjAlOyI+NTQwOS45OTk5OTk5OTk5OTUsIDM1MjA0ODE5MDAyPC9kaXY+JylbMF07CiAgICAgICAgICAgICAgICBwb3B1cF82NTA3YTcxMDg4ZDE0MGJjYjhjMzIwODgzYzAzMDliOC5zZXRDb250ZW50KGh0bWxfNmMyNmRkNGQ4MzJjNDU0MzljMTYxMjI4M2VlMzdmNGEpOwogICAgICAgICAgICAKCiAgICAgICAgICAgIGNpcmNsZV9tYXJrZXJfNmM2ODZjMDA3ZDVmNDU0ZDk4ZDFhMGU5Y2JkNDEyNGIuYmluZFBvcHVwKHBvcHVwXzY1MDdhNzEwODhkMTQwYmNiOGMzMjA4ODNjMDMwOWI4KTsKCiAgICAgICAgICAgIAogICAgICAgIAogICAgCiAgICAgICAgICAgIHZhciBjaXJjbGVfbWFya2VyXzBlMDc0NDBiNGE5ZDQzMDg4YTZlZWYwNmIyNGJjZjRiID0gTC5jaXJjbGVNYXJrZXIoCiAgICAgICAgICAgICAgICBbNDMuNzMxMDM4LC03OS4zMjcyNzZdLAogICAgICAgICAgICAgICAgewogICJidWJibGluZ01vdXNlRXZlbnRzIjogdHJ1ZSwKICAiY29sb3IiOiAiYmx1ZSIsCiAgImRhc2hBcnJheSI6IG51bGwsCiAgImRhc2hPZmZzZXQiOiBudWxsLAogICJmaWxsIjogdHJ1ZSwKICAiZmlsbENvbG9yIjogIiMzMTg2Y2MiLAogICJmaWxsT3BhY2l0eSI6IDAuNywKICAiZmlsbFJ1bGUiOiAiZXZlbm9kZCIsCiAgImxpbmVDYXAiOiAicm91bmQiLAogICJsaW5lSm9pbiI6ICJyb3VuZCIsCiAgIm9wYWNpdHkiOiAxLjAsCiAgInJhZGl1cyI6IDUsCiAgInN0cm9rZSI6IHRydWUsCiAgIndlaWdodCI6IDMKfQogICAgICAgICAgICAgICAgKS5hZGRUbyhtYXBfOGNmYTIzOGUzYjUyNDk3NTljY2JiMTU0NThiMDIxY2EpOwogICAgICAgICAgICAKICAgIAogICAgICAgICAgICB2YXIgcG9wdXBfMWUwYmNkMzM4ZmExNDljNGIwNWYxZGNjODdlNzI3MjcgPSBMLnBvcHVwKHttYXhXaWR0aDogJzMwMCd9KTsKCiAgICAgICAgICAgIAogICAgICAgICAgICAgICAgdmFyIGh0bWxfMzJjZjY3Y2IxYjlmNDJhM2JhZjMyMjNkYjRlOTlkNjcgPSAkKCc8ZGl2IGlkPSJodG1sXzMyY2Y2N2NiMWI5ZjQyYTNiYWYzMjIzZGI0ZTk5ZDY3IiBzdHlsZT0id2lkdGg6IDEwMC4wJTsgaGVpZ2h0OiAxMDAuMCU7Ij41MTkwLjk5OTk5OTQ5OTk5OSwgMzUyMDQwNDkwMTQ8L2Rpdj4nKVswXTsKICAgICAgICAgICAgICAgIHBvcHVwXzFlMGJjZDMzOGZhMTQ5YzRiMDVmMWRjYzg3ZTcyNzI3LnNldENvbnRlbnQoaHRtbF8zMmNmNjdjYjFiOWY0MmEzYmFmMzIyM2RiNGU5OWQ2Nyk7CiAgICAgICAgICAgIAoKICAgICAgICAgICAgY2lyY2xlX21hcmtlcl8wZTA3NDQwYjRhOWQ0MzA4OGE2ZWVmMDZiMjRiY2Y0Yi5iaW5kUG9wdXAocG9wdXBfMWUwYmNkMzM4ZmExNDljNGIwNWYxZGNjODdlNzI3MjcpOwoKICAgICAgICAgICAgCiAgICAgICAgCiAgICAKICAgICAgICAgICAgdmFyIGNpcmNsZV9tYXJrZXJfZGU0ZjgwODUxYTQ1NDY5NmFiNDc2ZWQ5YmFlZTk3MmUgPSBMLmNpcmNsZU1hcmtlcigKICAgICAgICAgICAgICAgIFs0My43MDU5NDY5OTk5OTk5OTUsLTc5LjMzOTUwODk5OTk5OTk5XSwKICAgICAgICAgICAgICAgIHsKICAiYnViYmxpbmdNb3VzZUV2ZW50cyI6IHRydWUsCiAgImNvbG9yIjogImJsdWUiLAogICJkYXNoQXJyYXkiOiBudWxsLAogICJkYXNoT2Zmc2V0IjogbnVsbCwKICAiZmlsbCI6IHRydWUsCiAgImZpbGxDb2xvciI6ICIjMzE4NmNjIiwKICAiZmlsbE9wYWNpdHkiOiAwLjcsCiAgImZpbGxSdWxlIjogImV2ZW5vZGQiLAogICJsaW5lQ2FwIjogInJvdW5kIiwKICAibGluZUpvaW4iOiAicm91bmQiLAogICJvcGFjaXR5IjogMS4wLAogICJyYWRpdXMiOiA1LAogICJzdHJva2UiOiB0cnVlLAogICJ3ZWlnaHQiOiAzCn0KICAgICAgICAgICAgICAgICkuYWRkVG8obWFwXzhjZmEyMzhlM2I1MjQ5NzU5Y2NiYjE1NDU4YjAyMWNhKTsKICAgICAgICAgICAgCiAgICAKICAgICAgICAgICAgdmFyIHBvcHVwXzk0ZGRlYjRkNjAzNTQ2YmU5MTRjZjQ3OWUwMmExNTMwID0gTC5wb3B1cCh7bWF4V2lkdGg6ICczMDAnfSk7CgogICAgICAgICAgICAKICAgICAgICAgICAgICAgIHZhciBodG1sX2MzNTg0ZGY2MmRjNDRjOTliMTI1M2I4OWRiMzQzN2NlID0gJCgnPGRpdiBpZD0iaHRtbF9jMzU4NGRmNjJkYzQ0Yzk5YjEyNTNiODlkYjM0MzdjZSIgc3R5bGU9IndpZHRoOiAxMDAuMCU7IGhlaWdodDogMTAwLjAlOyI+NDg0OS4wMDAwMDA2LCAzNTIwNDA3MzAwNjwvZGl2PicpWzBdOwogICAgICAgICAgICAgICAgcG9wdXBfOTRkZGViNGQ2MDM1NDZiZTkxNGNmNDc5ZTAyYTE1MzAuc2V0Q29udGVudChodG1sX2MzNTg0ZGY2MmRjNDRjOTliMTI1M2I4OWRiMzQzN2NlKTsKICAgICAgICAgICAgCgogICAgICAgICAgICBjaXJjbGVfbWFya2VyX2RlNGY4MDg1MWE0NTQ2OTZhYjQ3NmVkOWJhZWU5NzJlLmJpbmRQb3B1cChwb3B1cF85NGRkZWI0ZDYwMzU0NmJlOTE0Y2Y0NzllMDJhMTUzMCk7CgogICAgICAgICAgICAKICAgICAgICAKICAgIAogICAgICAgICAgICB2YXIgY2lyY2xlX21hcmtlcl8zNjMwNjA0NTZkZDI0MDJmOWE1NzcwNjJhN2VlNjUxZCA9IEwuY2lyY2xlTWFya2VyKAogICAgICAgICAgICAgICAgWzQzLjY2MDUyOSwtNzkuMzgzODEyXSwKICAgICAgICAgICAgICAgIHsKICAiYnViYmxpbmdNb3VzZUV2ZW50cyI6IHRydWUsCiAgImNvbG9yIjogImJsdWUiLAogICJkYXNoQXJyYXkiOiBudWxsLAogICJkYXNoT2Zmc2V0IjogbnVsbCwKICAiZmlsbCI6IHRydWUsCiAgImZpbGxDb2xvciI6ICIjMzE4NmNjIiwKICAiZmlsbE9wYWNpdHkiOiAwLjcsCiAgImZpbGxSdWxlIjogImV2ZW5vZGQiLAogICJsaW5lQ2FwIjogInJvdW5kIiwKICAibGluZUpvaW4iOiAicm91bmQiLAogICJvcGFjaXR5IjogMS4wLAogICJyYWRpdXMiOiA1LAogICJzdHJva2UiOiB0cnVlLAogICJ3ZWlnaHQiOiAzCn0KICAgICAgICAgICAgICAgICkuYWRkVG8obWFwXzhjZmEyMzhlM2I1MjQ5NzU5Y2NiYjE1NDU4YjAyMWNhKTsKICAgICAgICAgICAgCiAgICAKICAgICAgICAgICAgdmFyIHBvcHVwX2RlZDU1MDkxYzg2MzQ2M2ViNTk5ZDg5ZDNjNmNjNzdkID0gTC5wb3B1cCh7bWF4V2lkdGg6ICczMDAnfSk7CgogICAgICAgICAgICAKICAgICAgICAgICAgICAgIHZhciBodG1sXzQwZWFkNjAzNWMwMTQ1YTg4OTg0MTc5OWRhNGU2MmI4ID0gJCgnPGRpdiBpZD0iaHRtbF80MGVhZDYwMzVjMDE0NWE4ODk4NDE3OTlkYTRlNjJiOCIgc3R5bGU9IndpZHRoOiAxMDAuMCU7IGhlaWdodDogMTAwLjAlOyI+NDE0MS4wMDAwMDA4LCAzNTIwNDYwNjAwMjwvZGl2PicpWzBdOwogICAgICAgICAgICAgICAgcG9wdXBfZGVkNTUwOTFjODYzNDYzZWI1OTlkODlkM2M2Y2M3N2Quc2V0Q29udGVudChodG1sXzQwZWFkNjAzNWMwMTQ1YTg4OTg0MTc5OWRhNGU2MmI4KTsKICAgICAgICAgICAgCgogICAgICAgICAgICBjaXJjbGVfbWFya2VyXzM2MzA2MDQ1NmRkMjQwMmY5YTU3NzA2MmE3ZWU2NTFkLmJpbmRQb3B1cChwb3B1cF9kZWQ1NTA5MWM4NjM0NjNlYjU5OWQ4OWQzYzZjYzc3ZCk7CgogICAgICAgICAgICAKICAgICAgICAKICAgIAogICAgICAgICAgICB2YXIgY2lyY2xlX21hcmtlcl9jNzkyOThiNmQ2OGY0ZmYyYTA3NTlkNTM5ODE2NzVkYyA9IEwuY2lyY2xlTWFya2VyKAogICAgICAgICAgICAgICAgWzQzLjY5NTM0NSwtNzkuMjkxNDI2XSwKICAgICAgICAgICAgICAgIHsKICAiYnViYmxpbmdNb3VzZUV2ZW50cyI6IHRydWUsCiAgImNvbG9yIjogImJsdWUiLAogICJkYXNoQXJyYXkiOiBudWxsLAogICJkYXNoT2Zmc2V0IjogbnVsbCwKICAiZmlsbCI6IHRydWUsCiAgImZpbGxDb2xvciI6ICIjMzE4NmNjIiwKICAiZmlsbE9wYWNpdHkiOiAwLjcsCiAgImZpbGxSdWxlIjogImV2ZW5vZGQiLAogICJsaW5lQ2FwIjogInJvdW5kIiwKICAibGluZUpvaW4iOiAicm91bmQiLAogICJvcGFjaXR5IjogMS4wLAogICJyYWRpdXMiOiA1LAogICJzdHJva2UiOiB0cnVlLAogICJ3ZWlnaHQiOiAzCn0KICAgICAgICAgICAgICAgICkuYWRkVG8obWFwXzhjZmEyMzhlM2I1MjQ5NzU5Y2NiYjE1NDU4YjAyMWNhKTsKICAgICAgICAgICAgCiAgICAKICAgICAgICAgICAgdmFyIHBvcHVwXzg3MWE4NGU1NTg3MjRjODc4MDk1ZDNlYTIyNjlmMzcyID0gTC5wb3B1cCh7bWF4V2lkdGg6ICczMDAnfSk7CgogICAgICAgICAgICAKICAgICAgICAgICAgICAgIHZhciBodG1sXzE2ODYzMmIxMzMwZDRjZGViNDQ3NDVkMGJkNDZmYjIwID0gJCgnPGRpdiBpZD0iaHRtbF8xNjg2MzJiMTMzMGQ0Y2RlYjQ0NzQ1ZDBiZDQ2ZmIyMCIgc3R5bGU9IndpZHRoOiAxMDAuMCU7IGhlaWdodDogMTAwLjAlOyI+MzY4OC4wLCAzNTIwNDM3MTAwMTwvZGl2PicpWzBdOwogICAgICAgICAgICAgICAgcG9wdXBfODcxYTg0ZTU1ODcyNGM4NzgwOTVkM2VhMjI2OWYzNzIuc2V0Q29udGVudChodG1sXzE2ODYzMmIxMzMwZDRjZGViNDQ3NDVkMGJkNDZmYjIwKTsKICAgICAgICAgICAgCgogICAgICAgICAgICBjaXJjbGVfbWFya2VyX2M3OTI5OGI2ZDY4ZjRmZjJhMDc1OWQ1Mzk4MTY3NWRjLmJpbmRQb3B1cChwb3B1cF84NzFhODRlNTU4NzI0Yzg3ODA5NWQzZWEyMjY5ZjM3Mik7CgogICAgICAgICAgICAKICAgICAgICAKICAgIAogICAgICAgICAgICB2YXIgY2lyY2xlX21hcmtlcl8zM2FiZmExZTYzZDQ0MWM5YTllMDI2NDIzOTY1OTMyYiA9IEwuY2lyY2xlTWFya2VyKAogICAgICAgICAgICAgICAgWzQzLjYyNTc1NiwtNzkuNDc4MjkxXSwKICAgICAgICAgICAgICAgIHsKICAiYnViYmxpbmdNb3VzZUV2ZW50cyI6IHRydWUsCiAgImNvbG9yIjogImJsdWUiLAogICJkYXNoQXJyYXkiOiBudWxsLAogICJkYXNoT2Zmc2V0IjogbnVsbCwKICAiZmlsbCI6IHRydWUsCiAgImZpbGxDb2xvciI6ICIjMzE4NmNjIiwKICAiZmlsbE9wYWNpdHkiOiAwLjcsCiAgImZpbGxSdWxlIjogImV2ZW5vZGQiLAogICJsaW5lQ2FwIjogInJvdW5kIiwKICAibGluZUpvaW4iOiAicm91bmQiLAogICJvcGFjaXR5IjogMS4wLAogICJyYWRpdXMiOiA1LAogICJzdHJva2UiOiB0cnVlLAogICJ3ZWlnaHQiOiAzCn0KICAgICAgICAgICAgICAgICkuYWRkVG8obWFwXzhjZmEyMzhlM2I1MjQ5NzU5Y2NiYjE1NDU4YjAyMWNhKTsKICAgICAgICAgICAgCiAgICAKICAgICAgICAgICAgdmFyIHBvcHVwX2ZjNWRmMDY0NmE4NjQyZDU4MjZiMjUwY2JhNTVjNzNiID0gTC5wb3B1cCh7bWF4V2lkdGg6ICczMDAnfSk7CgogICAgICAgICAgICAKICAgICAgICAgICAgICAgIHZhciBodG1sXzI0ZjRlZWQ3Mjk3NjRiZGY5NmQwNjYxNzdjNGNiNWYwID0gJCgnPGRpdiBpZD0iaHRtbF8yNGY0ZWVkNzI5NzY0YmRmOTZkMDY2MTc3YzRjYjVmMCIgc3R5bGU9IndpZHRoOiAxMDAuMCU7IGhlaWdodDogMTAwLjAlOyI+MzY0Ny45OTk5OTk5OTk5OTc3LCAzNTIwNDY3NjAwMjwvZGl2PicpWzBdOwogICAgICAgICAgICAgICAgcG9wdXBfZmM1ZGYwNjQ2YTg2NDJkNTgyNmIyNTBjYmE1NWM3M2Iuc2V0Q29udGVudChodG1sXzI0ZjRlZWQ3Mjk3NjRiZGY5NmQwNjYxNzdjNGNiNWYwKTsKICAgICAgICAgICAgCgogICAgICAgICAgICBjaXJjbGVfbWFya2VyXzMzYWJmYTFlNjNkNDQxYzlhOWUwMjY0MjM5NjU5MzJiLmJpbmRQb3B1cChwb3B1cF9mYzVkZjA2NDZhODY0MmQ1ODI2YjI1MGNiYTU1YzczYik7CgogICAgICAgICAgICAKICAgICAgICAKICAgIAogICAgICAgICAgICB2YXIgY2lyY2xlX21hcmtlcl81MTZjZmRlYmU2NmE0MGRiOTZhOGZmYWE2Mzc4ZWZmOSA9IEwuY2lyY2xlTWFya2VyKAogICAgICAgICAgICAgICAgWzQzLjYzNzMyNywtNzkuNDE4ODY2MDAwMDAwMDFdLAogICAgICAgICAgICAgICAgewogICJidWJibGluZ01vdXNlRXZlbnRzIjogdHJ1ZSwKICAiY29sb3IiOiAiYmx1ZSIsCiAgImRhc2hBcnJheSI6IG51bGwsCiAgImRhc2hPZmZzZXQiOiBudWxsLAogICJmaWxsIjogdHJ1ZSwKICAiZmlsbENvbG9yIjogIiMzMTg2Y2MiLAogICJmaWxsT3BhY2l0eSI6IDAuNywKICAiZmlsbFJ1bGUiOiAiZXZlbm9kZCIsCiAgImxpbmVDYXAiOiAicm91bmQiLAogICJsaW5lSm9pbiI6ICJyb3VuZCIsCiAgIm9wYWNpdHkiOiAxLjAsCiAgInJhZGl1cyI6IDUsCiAgInN0cm9rZSI6IHRydWUsCiAgIndlaWdodCI6IDMKfQogICAgICAgICAgICAgICAgKS5hZGRUbyhtYXBfOGNmYTIzOGUzYjUyNDk3NTljY2JiMTU0NThiMDIxY2EpOwogICAgICAgICAgICAKICAgIAogICAgICAgICAgICB2YXIgcG9wdXBfNzE0NzU2NmE4ZGZjNGEzN2JlYjMwZDVjYjYzOWMwODQgPSBMLnBvcHVwKHttYXhXaWR0aDogJzMwMCd9KTsKCiAgICAgICAgICAgIAogICAgICAgICAgICAgICAgdmFyIGh0bWxfNzM0ZDM5YWRkYjM3NDU0M2I1ZjBhZDBiOTNjODY2M2EgPSAkKCc8ZGl2IGlkPSJodG1sXzczNGQzOWFkZGIzNzQ1NDNiNWYwYWQwYjkzYzg2NjNhIiBzdHlsZT0id2lkdGg6IDEwMC4wJTsgaGVpZ2h0OiAxMDAuMCU7Ij4zNjIyLjk5OTk5ODgwMDAwMSwgMzUyMDQ4NzIwMDE8L2Rpdj4nKVswXTsKICAgICAgICAgICAgICAgIHBvcHVwXzcxNDc1NjZhOGRmYzRhMzdiZWIzMGQ1Y2I2MzljMDg0LnNldENvbnRlbnQoaHRtbF83MzRkMzlhZGRiMzc0NTQzYjVmMGFkMGI5M2M4NjYzYSk7CiAgICAgICAgICAgIAoKICAgICAgICAgICAgY2lyY2xlX21hcmtlcl81MTZjZmRlYmU2NmE0MGRiOTZhOGZmYWE2Mzc4ZWZmOS5iaW5kUG9wdXAocG9wdXBfNzE0NzU2NmE4ZGZjNGEzN2JlYjMwZDVjYjYzOWMwODQpOwoKICAgICAgICAgICAgCiAgICAgICAgCiAgICAKICAgICAgICAgICAgdmFyIGNpcmNsZV9tYXJrZXJfNzI2YzYyMGRjOGJmNDdjMjgwZjJkNWM5NzcxMjM4MDUgPSBMLmNpcmNsZU1hcmtlcigKICAgICAgICAgICAgICAgIFs0My42NjQ0ODYsLTc5LjM3NjEwM10sCiAgICAgICAgICAgICAgICB7CiAgImJ1YmJsaW5nTW91c2VFdmVudHMiOiB0cnVlLAogICJjb2xvciI6ICJibHVlIiwKICAiZGFzaEFycmF5IjogbnVsbCwKICAiZGFzaE9mZnNldCI6IG51bGwsCiAgImZpbGwiOiB0cnVlLAogICJmaWxsQ29sb3IiOiAiIzMxODZjYyIsCiAgImZpbGxPcGFjaXR5IjogMC43LAogICJmaWxsUnVsZSI6ICJldmVub2RkIiwKICAibGluZUNhcCI6ICJyb3VuZCIsCiAgImxpbmVKb2luIjogInJvdW5kIiwKICAib3BhY2l0eSI6IDEuMCwKICAicmFkaXVzIjogNSwKICAic3Ryb2tlIjogdHJ1ZSwKICAid2VpZ2h0IjogMwp9CiAgICAgICAgICAgICAgICApLmFkZFRvKG1hcF84Y2ZhMjM4ZTNiNTI0OTc1OWNjYmIxNTQ1OGIwMjFjYSk7CiAgICAgICAgICAgIAogICAgCiAgICAgICAgICAgIHZhciBwb3B1cF8wNTQwYTQxYmJmYjg0NzBmYWYwYzAyNTEwZjA2MzBlOCA9IEwucG9wdXAoe21heFdpZHRoOiAnMzAwJ30pOwoKICAgICAgICAgICAgCiAgICAgICAgICAgICAgICB2YXIgaHRtbF9hNjc3NjE2ZGE5N2I0ZWE4YmZjNmViMmE2ZGRiY2FlMSA9ICQoJzxkaXYgaWQ9Imh0bWxfYTY3NzYxNmRhOTdiNGVhOGJmYzZlYjJhNmRkYmNhZTEiIHN0eWxlPSJ3aWR0aDogMTAwLjAlOyBoZWlnaHQ6IDEwMC4wJTsiPjMyOTEuMDAwMDAwNTk5OTk4NywgMzUyMDQwMDQwMDI8L2Rpdj4nKVswXTsKICAgICAgICAgICAgICAgIHBvcHVwXzA1NDBhNDFiYmZiODQ3MGZhZjBjMDI1MTBmMDYzMGU4LnNldENvbnRlbnQoaHRtbF9hNjc3NjE2ZGE5N2I0ZWE4YmZjNmViMmE2ZGRiY2FlMSk7CiAgICAgICAgICAgIAoKICAgICAgICAgICAgY2lyY2xlX21hcmtlcl83MjZjNjIwZGM4YmY0N2MyODBmMmQ1Yzk3NzEyMzgwNS5iaW5kUG9wdXAocG9wdXBfMDU0MGE0MWJiZmI4NDcwZmFmMGMwMjUxMGYwNjMwZTgpOwoKICAgICAgICAgICAgCiAgICAgICAgCiAgICAKICAgICAgICAgICAgdmFyIGNpcmNsZV9tYXJrZXJfMTBjNzI0YTZjOTYxNDc3YmFjNTU3OTRmZDhhNjBjYTMgPSBMLmNpcmNsZU1hcmtlcigKICAgICAgICAgICAgICAgIFs0My42ODg3MSwtNzkuMjkzOTIyOTk5OTk5OTldLAogICAgICAgICAgICAgICAgewogICJidWJibGluZ01vdXNlRXZlbnRzIjogdHJ1ZSwKICAiY29sb3IiOiAiYmx1ZSIsCiAgImRhc2hBcnJheSI6IG51bGwsCiAgImRhc2hPZmZzZXQiOiBudWxsLAogICJmaWxsIjogdHJ1ZSwKICAiZmlsbENvbG9yIjogIiMzMTg2Y2MiLAogICJmaWxsT3BhY2l0eSI6IDAuNywKICAiZmlsbFJ1bGUiOiAiZXZlbm9kZCIsCiAgImxpbmVDYXAiOiAicm91bmQiLAogICJsaW5lSm9pbiI6ICJyb3VuZCIsCiAgIm9wYWNpdHkiOiAxLjAsCiAgInJhZGl1cyI6IDUsCiAgInN0cm9rZSI6IHRydWUsCiAgIndlaWdodCI6IDMKfQogICAgICAgICAgICAgICAgKS5hZGRUbyhtYXBfOGNmYTIzOGUzYjUyNDk3NTljY2JiMTU0NThiMDIxY2EpOwogICAgICAgICAgICAKICAgIAogICAgICAgICAgICB2YXIgcG9wdXBfMWY5N2JkMzhlOGYzNGI4NjkxYTBhZTUyYWYwNjY3ZmYgPSBMLnBvcHVwKHttYXhXaWR0aDogJzMwMCd9KTsKCiAgICAgICAgICAgIAogICAgICAgICAgICAgICAgdmFyIGh0bWxfN2U3ZDhiZWQ3Zjg2NDIyNDk0NmVkNDBiMjBkNjNhOGUgPSAkKCc8ZGl2IGlkPSJodG1sXzdlN2Q4YmVkN2Y4NjQyMjQ5NDZlZDQwYjIwZDYzYThlIiBzdHlsZT0id2lkdGg6IDEwMC4wJTsgaGVpZ2h0OiAxMDAuMCU7Ij4zMTEzLjAwMDAwMDEyMDAwMzMsIDM1MjA0NDY0MDAxPC9kaXY+JylbMF07CiAgICAgICAgICAgICAgICBwb3B1cF8xZjk3YmQzOGU4ZjM0Yjg2OTFhMGFlNTJhZjA2NjdmZi5zZXRDb250ZW50KGh0bWxfN2U3ZDhiZWQ3Zjg2NDIyNDk0NmVkNDBiMjBkNjNhOGUpOwogICAgICAgICAgICAKCiAgICAgICAgICAgIGNpcmNsZV9tYXJrZXJfMTBjNzI0YTZjOTYxNDc3YmFjNTU3OTRmZDhhNjBjYTMuYmluZFBvcHVwKHBvcHVwXzFmOTdiZDM4ZThmMzRiODY5MWEwYWU1MmFmMDY2N2ZmKTsKCiAgICAgICAgICAgIAogICAgICAgIAogICAgCiAgICAgICAgICAgIHZhciBjaXJjbGVfbWFya2VyXzkwMjIxZTViOTM4NDQ5YjU5MmVjYzU5NDM2NDFjZDU1ID0gTC5jaXJjbGVNYXJrZXIoCiAgICAgICAgICAgICAgICBbNDMuNjcwMTU5OTk5OTk5OTk2LC03OS4zNzQxMTFdLAogICAgICAgICAgICAgICAgewogICJidWJibGluZ01vdXNlRXZlbnRzIjogdHJ1ZSwKICAiY29sb3IiOiAiYmx1ZSIsCiAgImRhc2hBcnJheSI6IG51bGwsCiAgImRhc2hPZmZzZXQiOiBudWxsLAogICJmaWxsIjogdHJ1ZSwKICAiZmlsbENvbG9yIjogIiMzMTg2Y2MiLAogICJmaWxsT3BhY2l0eSI6IDAuNywKICAiZmlsbFJ1bGUiOiAiZXZlbm9kZCIsCiAgImxpbmVDYXAiOiAicm91bmQiLAogICJsaW5lSm9pbiI6ICJyb3VuZCIsCiAgIm9wYWNpdHkiOiAxLjAsCiAgInJhZGl1cyI6IDUsCiAgInN0cm9rZSI6IHRydWUsCiAgIndlaWdodCI6IDMKfQogICAgICAgICAgICAgICAgKS5hZGRUbyhtYXBfOGNmYTIzOGUzYjUyNDk3NTljY2JiMTU0NThiMDIxY2EpOwogICAgICAgICAgICAKICAgIAogICAgICAgICAgICB2YXIgcG9wdXBfYWUwZTRmOWE1NTZlNDhmY2JlOTRhM2JjYjBkZjgxNWIgPSBMLnBvcHVwKHttYXhXaWR0aDogJzMwMCd9KTsKCiAgICAgICAgICAgIAogICAgICAgICAgICAgICAgdmFyIGh0bWxfMzc1ZGFmYTQ1NDFjNDcyM2E3ODVkODg5YTRlZGYwYmMgPSAkKCc8ZGl2IGlkPSJodG1sXzM3NWRhZmE0NTQxYzQ3MjNhNzg1ZDg4OWE0ZWRmMGJjIiBzdHlsZT0id2lkdGg6IDEwMC4wJTsgaGVpZ2h0OiAxMDAuMCU7Ij4zMDQ0LjAwMDAwMDQsIDM1MjA0NTY0MDAxPC9kaXY+JylbMF07CiAgICAgICAgICAgICAgICBwb3B1cF9hZTBlNGY5YTU1NmU0OGZjYmU5NGEzYmNiMGRmODE1Yi5zZXRDb250ZW50KGh0bWxfMzc1ZGFmYTQ1NDFjNDcyM2E3ODVkODg5YTRlZGYwYmMpOwogICAgICAgICAgICAKCiAgICAgICAgICAgIGNpcmNsZV9tYXJrZXJfOTAyMjFlNWI5Mzg0NDliNTkyZWNjNTk0MzY0MWNkNTUuYmluZFBvcHVwKHBvcHVwX2FlMGU0ZjlhNTU2ZTQ4ZmNiZTk0YTNiY2IwZGY4MTViKTsKCiAgICAgICAgICAgIAogICAgICAgIAogICAgCiAgICAgICAgICAgIHZhciBjaXJjbGVfbWFya2VyXzE2ZjQwYTA4YzA3YjRjYTlhZDViMWFkNThlOTA5NDVjID0gTC5jaXJjbGVNYXJrZXIoCiAgICAgICAgICAgICAgICBbNDMuNjU5NzUzLC03OS4zODEwNDFdLAogICAgICAgICAgICAgICAgewogICJidWJibGluZ01vdXNlRXZlbnRzIjogdHJ1ZSwKICAiY29sb3IiOiAiYmx1ZSIsCiAgImRhc2hBcnJheSI6IG51bGwsCiAgImRhc2hPZmZzZXQiOiBudWxsLAogICJmaWxsIjogdHJ1ZSwKICAiZmlsbENvbG9yIjogIiMzMTg2Y2MiLAogICJmaWxsT3BhY2l0eSI6IDAuNywKICAiZmlsbFJ1bGUiOiAiZXZlbm9kZCIsCiAgImxpbmVDYXAiOiAicm91bmQiLAogICJsaW5lSm9pbiI6ICJyb3VuZCIsCiAgIm9wYWNpdHkiOiAxLjAsCiAgInJhZGl1cyI6IDUsCiAgInN0cm9rZSI6IHRydWUsCiAgIndlaWdodCI6IDMKfQogICAgICAgICAgICAgICAgKS5hZGRUbyhtYXBfOGNmYTIzOGUzYjUyNDk3NTljY2JiMTU0NThiMDIxY2EpOwogICAgICAgICAgICAKICAgIAogICAgICAgICAgICB2YXIgcG9wdXBfOTU0YWIyMDc0NzNiNGRmNjhmMzMxMjEyNWEwYmM1ZWMgPSBMLnBvcHVwKHttYXhXaWR0aDogJzMwMCd9KTsKCiAgICAgICAgICAgIAogICAgICAgICAgICAgICAgdmFyIGh0bWxfODQ1NzM3NDBkZWM0NDAzZmI4YTY3ZTVkNjc2MzRiMjggPSAkKCc8ZGl2IGlkPSJodG1sXzg0NTczNzQwZGVjNDQwM2ZiOGE2N2U1ZDY3NjM0YjI4IiBzdHlsZT0id2lkdGg6IDEwMC4wJTsgaGVpZ2h0OiAxMDAuMCU7Ij4zMDM5Ljk5OTk5OTAwMDAwMSwgMzUyMDQ1ODgwMDE8L2Rpdj4nKVswXTsKICAgICAgICAgICAgICAgIHBvcHVwXzk1NGFiMjA3NDczYjRkZjY4ZjMzMTIxMjVhMGJjNWVjLnNldENvbnRlbnQoaHRtbF84NDU3Mzc0MGRlYzQ0MDNmYjhhNjdlNWQ2NzYzNGIyOCk7CiAgICAgICAgICAgIAoKICAgICAgICAgICAgY2lyY2xlX21hcmtlcl8xNmY0MGEwOGMwN2I0Y2E5YWQ1YjFhZDU4ZTkwOTQ1Yy5iaW5kUG9wdXAocG9wdXBfOTU0YWIyMDc0NzNiNGRmNjhmMzMxMjEyNWEwYmM1ZWMpOwoKICAgICAgICAgICAgCiAgICAgICAgCiAgICAKICAgICAgICAgICAgdmFyIGNpcmNsZV9tYXJrZXJfYTZlMDQ4ZTg4MGVmNGU3ODhiZTkxNjA4MzNhOTc1NDkgPSBMLmNpcmNsZU1hcmtlcigKICAgICAgICAgICAgICAgIFs0My42NDMwOTQsLTc5LjM3NjQ0Ml0sCiAgICAgICAgICAgICAgICB7CiAgImJ1YmJsaW5nTW91c2VFdmVudHMiOiB0cnVlLAogICJjb2xvciI6ICJibHVlIiwKICAiZGFzaEFycmF5IjogbnVsbCwKICAiZGFzaE9mZnNldCI6IG51bGwsCiAgImZpbGwiOiB0cnVlLAogICJmaWxsQ29sb3IiOiAiIzMxODZjYyIsCiAgImZpbGxPcGFjaXR5IjogMC43LAogICJmaWxsUnVsZSI6ICJldmVub2RkIiwKICAibGluZUNhcCI6ICJyb3VuZCIsCiAgImxpbmVKb2luIjogInJvdW5kIiwKICAib3BhY2l0eSI6IDEuMCwKICAicmFkaXVzIjogNSwKICAic3Ryb2tlIjogdHJ1ZSwKICAid2VpZ2h0IjogMwp9CiAgICAgICAgICAgICAgICApLmFkZFRvKG1hcF84Y2ZhMjM4ZTNiNTI0OTc1OWNjYmIxNTQ1OGIwMjFjYSk7CiAgICAgICAgICAgIAogICAgCiAgICAgICAgICAgIHZhciBwb3B1cF8yYjIyYzJjMjdlNjg0ZmI2YTM4MTUxOGViZGRhNGEzNSA9IEwucG9wdXAoe21heFdpZHRoOiAnMzAwJ30pOwoKICAgICAgICAgICAgCiAgICAgICAgICAgICAgICB2YXIgaHRtbF8xN2Y5N2EwMTFiMjM0Y2M0OTcwMGI2OTJlNzc3ZTJhYiA9ICQoJzxkaXYgaWQ9Imh0bWxfMTdmOTdhMDExYjIzNGNjNDk3MDBiNjkyZTc3N2UyYWIiIHN0eWxlPSJ3aWR0aDogMTAwLjAlOyBoZWlnaHQ6IDEwMC4wJTsiPjMwMjMuMDAwMDAwMDAwMDAxLCAzNTIwNDkwMDAwOTwvZGl2PicpWzBdOwogICAgICAgICAgICAgICAgcG9wdXBfMmIyMmMyYzI3ZTY4NGZiNmEzODE1MThlYmRkYTRhMzUuc2V0Q29udGVudChodG1sXzE3Zjk3YTAxMWIyMzRjYzQ5NzAwYjY5MmU3NzdlMmFiKTsKICAgICAgICAgICAgCgogICAgICAgICAgICBjaXJjbGVfbWFya2VyX2E2ZTA0OGU4ODBlZjRlNzg4YmU5MTYwODMzYTk3NTQ5LmJpbmRQb3B1cChwb3B1cF8yYjIyYzJjMjdlNjg0ZmI2YTM4MTUxOGViZGRhNGEzNSk7CgogICAgICAgICAgICAKICAgICAgICAKICAgIAogICAgICAgICAgICB2YXIgY2lyY2xlX21hcmtlcl80ZDg1YmQ5NjJlODg0MDk5ODY2NzllYTBiMWQ3YzYyZiA9IEwuY2lyY2xlTWFya2VyKAogICAgICAgICAgICAgICAgWzQzLjY0MDIwOTAwMDAwMDAwNiwtNzkuMzc4MTA3XSwKICAgICAgICAgICAgICAgIHsKICAiYnViYmxpbmdNb3VzZUV2ZW50cyI6IHRydWUsCiAgImNvbG9yIjogImJsdWUiLAogICJkYXNoQXJyYXkiOiBudWxsLAogICJkYXNoT2Zmc2V0IjogbnVsbCwKICAiZmlsbCI6IHRydWUsCiAgImZpbGxDb2xvciI6ICIjMzE4NmNjIiwKICAiZmlsbE9wYWNpdHkiOiAwLjcsCiAgImZpbGxSdWxlIjogImV2ZW5vZGQiLAogICJsaW5lQ2FwIjogInJvdW5kIiwKICAibGluZUpvaW4iOiAicm91bmQiLAogICJvcGFjaXR5IjogMS4wLAogICJyYWRpdXMiOiA1LAogICJzdHJva2UiOiB0cnVlLAogICJ3ZWlnaHQiOiAzCn0KICAgICAgICAgICAgICAgICkuYWRkVG8obWFwXzhjZmEyMzhlM2I1MjQ5NzU5Y2NiYjE1NDU4YjAyMWNhKTsKICAgICAgICAgICAgCiAgICAKICAgICAgICAgICAgdmFyIHBvcHVwXzMzY2U2Y2EyNTU2YzQ0Mjk4ZTczMzJmNjk5YTJkMTA3ID0gTC5wb3B1cCh7bWF4V2lkdGg6ICczMDAnfSk7CgogICAgICAgICAgICAKICAgICAgICAgICAgICAgIHZhciBodG1sXzg2ZGUyNDYxMzc5YTQzNzA5ZWJjZTY2M2RjMjcwNzliID0gJCgnPGRpdiBpZD0iaHRtbF84NmRlMjQ2MTM3OWE0MzcwOWViY2U2NjNkYzI3MDc5YiIgc3R5bGU9IndpZHRoOiAxMDAuMCU7IGhlaWdodDogMTAwLjAlOyI+MzAyMy4wMDAwMDAwMDAwMDA1LCAzNTIwNDY1MzAwOTwvZGl2PicpWzBdOwogICAgICAgICAgICAgICAgcG9wdXBfMzNjZTZjYTI1NTZjNDQyOThlNzMzMmY2OTlhMmQxMDcuc2V0Q29udGVudChodG1sXzg2ZGUyNDYxMzc5YTQzNzA5ZWJjZTY2M2RjMjcwNzliKTsKICAgICAgICAgICAgCgogICAgICAgICAgICBjaXJjbGVfbWFya2VyXzRkODViZDk2MmU4ODQwOTk4NjY3OWVhMGIxZDdjNjJmLmJpbmRQb3B1cChwb3B1cF8zM2NlNmNhMjU1NmM0NDI5OGU3MzMyZjY5OWEyZDEwNyk7CgogICAgICAgICAgICAKICAgICAgICAKICAgIAogICAgICAgICAgICB2YXIgY2lyY2xlX21hcmtlcl83ODE5MmU3ODcxNzE0NTJkODk1ZTViOWIyNWRlNzc1ZiA9IEwuY2lyY2xlTWFya2VyKAogICAgICAgICAgICAgICAgWzQzLjY5NjM4NSwtNzkuMjg4NDk4XSwKICAgICAgICAgICAgICAgIHsKICAiYnViYmxpbmdNb3VzZUV2ZW50cyI6IHRydWUsCiAgImNvbG9yIjogImJsdWUiLAogICJkYXNoQXJyYXkiOiBudWxsLAogICJkYXNoT2Zmc2V0IjogbnVsbCwKICAiZmlsbCI6IHRydWUsCiAgImZpbGxDb2xvciI6ICIjMzE4NmNjIiwKICAiZmlsbE9wYWNpdHkiOiAwLjcsCiAgImZpbGxSdWxlIjogImV2ZW5vZGQiLAogICJsaW5lQ2FwIjogInJvdW5kIiwKICAibGluZUpvaW4iOiAicm91bmQiLAogICJvcGFjaXR5IjogMS4wLAogICJyYWRpdXMiOiA1LAogICJzdHJva2UiOiB0cnVlLAogICJ3ZWlnaHQiOiAzCn0KICAgICAgICAgICAgICAgICkuYWRkVG8obWFwXzhjZmEyMzhlM2I1MjQ5NzU5Y2NiYjE1NDU4YjAyMWNhKTsKICAgICAgICAgICAgCiAgICAKICAgICAgICAgICAgdmFyIHBvcHVwXzY5NWZhYTAyZjE4ODRkYjA4OGE3MjY0YTYzNDVmZDkzID0gTC5wb3B1cCh7bWF4V2lkdGg6ICczMDAnfSk7CgogICAgICAgICAgICAKICAgICAgICAgICAgICAgIHZhciBodG1sXzM2NzVkMDI2YmVjNzRjMjJiMTliMzkzMWU5ZjY1NDQ5ID0gJCgnPGRpdiBpZD0iaHRtbF8zNjc1ZDAyNmJlYzc0YzIyYjE5YjM5MzFlOWY2NTQ0OSIgc3R5bGU9IndpZHRoOiAxMDAuMCU7IGhlaWdodDogMTAwLjAlOyI+Mjk1NC4wMDAwMDAwMDAwMDA1LCAzNTIwNDM2NzAwMTwvZGl2PicpWzBdOwogICAgICAgICAgICAgICAgcG9wdXBfNjk1ZmFhMDJmMTg4NGRiMDg4YTcyNjRhNjM0NWZkOTMuc2V0Q29udGVudChodG1sXzM2NzVkMDI2YmVjNzRjMjJiMTliMzkzMWU5ZjY1NDQ5KTsKICAgICAgICAgICAgCgogICAgICAgICAgICBjaXJjbGVfbWFya2VyXzc4MTkyZTc4NzE3MTQ1MmQ4OTVlNWI5YjI1ZGU3NzVmLmJpbmRQb3B1cChwb3B1cF82OTVmYWEwMmYxODg0ZGIwODhhNzI2NGE2MzQ1ZmQ5Myk7CgogICAgICAgICAgICAKICAgICAgICAKICAgIAogICAgICAgICAgICB2YXIgY2lyY2xlX21hcmtlcl83ZDk2ZTI2ODkzMTM0YjhjYmRjYjkzYjNjZTNmZTNmNyA9IEwuY2lyY2xlTWFya2VyKAogICAgICAgICAgICAgICAgWzQzLjYzNzAwOCwtNzkuNDI5MjIxXSwKICAgICAgICAgICAgICAgIHsKICAiYnViYmxpbmdNb3VzZUV2ZW50cyI6IHRydWUsCiAgImNvbG9yIjogImJsdWUiLAogICJkYXNoQXJyYXkiOiBudWxsLAogICJkYXNoT2Zmc2V0IjogbnVsbCwKICAiZmlsbCI6IHRydWUsCiAgImZpbGxDb2xvciI6ICIjMzE4NmNjIiwKICAiZmlsbE9wYWNpdHkiOiAwLjcsCiAgImZpbGxSdWxlIjogImV2ZW5vZGQiLAogICJsaW5lQ2FwIjogInJvdW5kIiwKICAibGluZUpvaW4iOiAicm91bmQiLAogICJvcGFjaXR5IjogMS4wLAogICJyYWRpdXMiOiA1LAogICJzdHJva2UiOiB0cnVlLAogICJ3ZWlnaHQiOiAzCn0KICAgICAgICAgICAgICAgICkuYWRkVG8obWFwXzhjZmEyMzhlM2I1MjQ5NzU5Y2NiYjE1NDU4YjAyMWNhKTsKICAgICAgICAgICAgCiAgICAKICAgICAgICAgICAgdmFyIHBvcHVwX2IzYjFkMmViMzU3NDQxOWM4YmMxYmMyNDQwMTM1ZjEzID0gTC5wb3B1cCh7bWF4V2lkdGg6ICczMDAnfSk7CgogICAgICAgICAgICAKICAgICAgICAgICAgICAgIHZhciBodG1sXzhhYzMwZDM1NjY4NTRiODVhMWQ0OWNiMDY3ZmRiZmNmID0gJCgnPGRpdiBpZD0iaHRtbF84YWMzMGQzNTY2ODU0Yjg1YTFkNDljYjA2N2ZkYmZjZiIgc3R5bGU9IndpZHRoOiAxMDAuMCU7IGhlaWdodDogMTAwLjAlOyI+Mjk1Mi4wMDAwMDAwMDAwMDA1LCAzNTIwNDAyNDAwMTwvZGl2PicpWzBdOwogICAgICAgICAgICAgICAgcG9wdXBfYjNiMWQyZWIzNTc0NDE5YzhiYzFiYzI0NDAxMzVmMTMuc2V0Q29udGVudChodG1sXzhhYzMwZDM1NjY4NTRiODVhMWQ0OWNiMDY3ZmRiZmNmKTsKICAgICAgICAgICAgCgogICAgICAgICAgICBjaXJjbGVfbWFya2VyXzdkOTZlMjY4OTMxMzRiOGNiZGNiOTNiM2NlM2ZlM2Y3LmJpbmRQb3B1cChwb3B1cF9iM2IxZDJlYjM1NzQ0MTljOGJjMWJjMjQ0MDEzNWYxMyk7CgogICAgICAgICAgICAKICAgICAgICAKICAgIAogICAgICAgICAgICB2YXIgY2lyY2xlX21hcmtlcl9hNzFhNTRjODBkMTE0NDZhOTY0ZDYzNmJiNmI5NzFhOCA9IEwuY2lyY2xlTWFya2VyKAogICAgICAgICAgICAgICAgWzQzLjcwMzk5MiwtNzkuMzQ1MTkxXSwKICAgICAgICAgICAgICAgIHsKICAiYnViYmxpbmdNb3VzZUV2ZW50cyI6IHRydWUsCiAgImNvbG9yIjogImJsdWUiLAogICJkYXNoQXJyYXkiOiBudWxsLAogICJkYXNoT2Zmc2V0IjogbnVsbCwKICAiZmlsbCI6IHRydWUsCiAgImZpbGxDb2xvciI6ICIjMzE4NmNjIiwKICAiZmlsbE9wYWNpdHkiOiAwLjcsCiAgImZpbGxSdWxlIjogImV2ZW5vZGQiLAogICJsaW5lQ2FwIjogInJvdW5kIiwKICAibGluZUpvaW4iOiAicm91bmQiLAogICJvcGFjaXR5IjogMS4wLAogICJyYWRpdXMiOiA1LAogICJzdHJva2UiOiB0cnVlLAogICJ3ZWlnaHQiOiAzCn0KICAgICAgICAgICAgICAgICkuYWRkVG8obWFwXzhjZmEyMzhlM2I1MjQ5NzU5Y2NiYjE1NDU4YjAyMWNhKTsKICAgICAgICAgICAgCiAgICAKICAgICAgICAgICAgdmFyIHBvcHVwXzA4MWI3YmVhNzlmODQ3OTBiMTU5N2Y0ODE1MjZkODk5ID0gTC5wb3B1cCh7bWF4V2lkdGg6ICczMDAnfSk7CgogICAgICAgICAgICAKICAgICAgICAgICAgICAgIHZhciBodG1sXzE2NDQ3MzkzMTg1ZTRhYzlhODZlZGE4Y2Q0M2JhZWNjID0gJCgnPGRpdiBpZD0iaHRtbF8xNjQ0NzM5MzE4NWU0YWM5YTg2ZWRhOGNkNDNiYWVjYyIgc3R5bGU9IndpZHRoOiAxMDAuMCU7IGhlaWdodDogMTAwLjAlOyI+MjkzMi45OTk5OTk5ODk5OTksIDM1MjA0MDcyMDA2PC9kaXY+JylbMF07CiAgICAgICAgICAgICAgICBwb3B1cF8wODFiN2JlYTc5Zjg0NzkwYjE1OTdmNDgxNTI2ZDg5OS5zZXRDb250ZW50KGh0bWxfMTY0NDczOTMxODVlNGFjOWE4NmVkYThjZDQzYmFlY2MpOwogICAgICAgICAgICAKCiAgICAgICAgICAgIGNpcmNsZV9tYXJrZXJfYTcxYTU0YzgwZDExNDQ2YTk2NGQ2MzZiYjZiOTcxYTguYmluZFBvcHVwKHBvcHVwXzA4MWI3YmVhNzlmODQ3OTBiMTU5N2Y0ODE1MjZkODk5KTsKCiAgICAgICAgICAgIAogICAgICAgIAogICAgCiAgICAgICAgICAgIHZhciBjaXJjbGVfbWFya2VyXzUxMmM2NDdiZmQ2YTQ2OGRhZWQ1OTcwZDI3MjMwZGJiID0gTC5jaXJjbGVNYXJrZXIoCiAgICAgICAgICAgICAgICBbNDMuNzAyMjc3LC03OS4zNDQ5OThdLAogICAgICAgICAgICAgICAgewogICJidWJibGluZ01vdXNlRXZlbnRzIjogdHJ1ZSwKICAiY29sb3IiOiAiYmx1ZSIsCiAgImRhc2hBcnJheSI6IG51bGwsCiAgImRhc2hPZmZzZXQiOiBudWxsLAogICJmaWxsIjogdHJ1ZSwKICAiZmlsbENvbG9yIjogIiMzMTg2Y2MiLAogICJmaWxsT3BhY2l0eSI6IDAuNywKICAiZmlsbFJ1bGUiOiAiZXZlbm9kZCIsCiAgImxpbmVDYXAiOiAicm91bmQiLAogICJsaW5lSm9pbiI6ICJyb3VuZCIsCiAgIm9wYWNpdHkiOiAxLjAsCiAgInJhZGl1cyI6IDUsCiAgInN0cm9rZSI6IHRydWUsCiAgIndlaWdodCI6IDMKfQogICAgICAgICAgICAgICAgKS5hZGRUbyhtYXBfOGNmYTIzOGUzYjUyNDk3NTljY2JiMTU0NThiMDIxY2EpOwogICAgICAgICAgICAKICAgIAogICAgICAgICAgICB2YXIgcG9wdXBfY2Q4ZmE1YjI5YTdkNDg0ZTk0ZjMxNjY2MzE4YWEzNmUgPSBMLnBvcHVwKHttYXhXaWR0aDogJzMwMCd9KTsKCiAgICAgICAgICAgIAogICAgICAgICAgICAgICAgdmFyIGh0bWxfODA1OTE3MDAxY2EyNDhmZTkzOWEyODg4NTM1YWU3YjQgPSAkKCc8ZGl2IGlkPSJodG1sXzgwNTkxNzAwMWNhMjQ4ZmU5MzlhMjg4ODUzNWFlN2I0IiBzdHlsZT0id2lkdGg6IDEwMC4wJTsgaGVpZ2h0OiAxMDAuMCU7Ij4yODMxLjAsIDM1MjA0Nzk2MDAxPC9kaXY+JylbMF07CiAgICAgICAgICAgICAgICBwb3B1cF9jZDhmYTViMjlhN2Q0ODRlOTRmMzE2NjYzMThhYTM2ZS5zZXRDb250ZW50KGh0bWxfODA1OTE3MDAxY2EyNDhmZTkzOWEyODg4NTM1YWU3YjQpOwogICAgICAgICAgICAKCiAgICAgICAgICAgIGNpcmNsZV9tYXJrZXJfNTEyYzY0N2JmZDZhNDY4ZGFlZDU5NzBkMjcyMzBkYmIuYmluZFBvcHVwKHBvcHVwX2NkOGZhNWIyOWE3ZDQ4NGU5NGYzMTY2NjMxOGFhMzZlKTsKCiAgICAgICAgICAgIAogICAgICAgIAogICAgCiAgICAgICAgICAgIHZhciBjaXJjbGVfbWFya2VyX2Y1NGFhNzc3YmFlMzRhMmY4MWRhMTAzOTEwYjNhODU5ID0gTC5jaXJjbGVNYXJrZXIoCiAgICAgICAgICAgICAgICBbNDMuNjQyMDk5LC03OS4zODE2NzI5OTk5OTk5OV0sCiAgICAgICAgICAgICAgICB7CiAgImJ1YmJsaW5nTW91c2VFdmVudHMiOiB0cnVlLAogICJjb2xvciI6ICJibHVlIiwKICAiZGFzaEFycmF5IjogbnVsbCwKICAiZGFzaE9mZnNldCI6IG51bGwsCiAgImZpbGwiOiB0cnVlLAogICJmaWxsQ29sb3IiOiAiIzMxODZjYyIsCiAgImZpbGxPcGFjaXR5IjogMC43LAogICJmaWxsUnVsZSI6ICJldmVub2RkIiwKICAibGluZUNhcCI6ICJyb3VuZCIsCiAgImxpbmVKb2luIjogInJvdW5kIiwKICAib3BhY2l0eSI6IDEuMCwKICAicmFkaXVzIjogNSwKICAic3Ryb2tlIjogdHJ1ZSwKICAid2VpZ2h0IjogMwp9CiAgICAgICAgICAgICAgICApLmFkZFRvKG1hcF84Y2ZhMjM4ZTNiNTI0OTc1OWNjYmIxNTQ1OGIwMjFjYSk7CiAgICAgICAgICAgIAogICAgCiAgICAgICAgICAgIHZhciBwb3B1cF8xMmNmYzJkN2NiZTA0NzY5OWI3OTAxOTg2NzdmMWJkZiA9IEwucG9wdXAoe21heFdpZHRoOiAnMzAwJ30pOwoKICAgICAgICAgICAgCiAgICAgICAgICAgICAgICB2YXIgaHRtbF84ODNiZTVkN2FlY2E0N2U2OWZmYWFlOWY2ZDg2YzllMiA9ICQoJzxkaXYgaWQ9Imh0bWxfODgzYmU1ZDdhZWNhNDdlNjlmZmFhZTlmNmQ4NmM5ZTIiIHN0eWxlPSJ3aWR0aDogMTAwLjAlOyBoZWlnaHQ6IDEwMC4wJTsiPjI2MjIuOTk5OTk5Mzk5OTk5NSwgMzUyMDQ4MjYwMDQ8L2Rpdj4nKVswXTsKICAgICAgICAgICAgICAgIHBvcHVwXzEyY2ZjMmQ3Y2JlMDQ3Njk5Yjc5MDE5ODY3N2YxYmRmLnNldENvbnRlbnQoaHRtbF84ODNiZTVkN2FlY2E0N2U2OWZmYWFlOWY2ZDg2YzllMik7CiAgICAgICAgICAgIAoKICAgICAgICAgICAgY2lyY2xlX21hcmtlcl9mNTRhYTc3N2JhZTM0YTJmODFkYTEwMzkxMGIzYTg1OS5iaW5kUG9wdXAocG9wdXBfMTJjZmMyZDdjYmUwNDc2OTliNzkwMTk4Njc3ZjFiZGYpOwoKICAgICAgICAgICAgCiAgICAgICAgCiAgICAKICAgICAgICAgICAgdmFyIGNpcmNsZV9tYXJrZXJfMDk3ZWQ5MDc3NDVhNGM4OWJmYjEwYWZkOWQ4MTZmMGIgPSBMLmNpcmNsZU1hcmtlcigKICAgICAgICAgICAgICAgIFs0My43MTI0LC03OS4zOTYyNTYwMDAwMDAwMV0sCiAgICAgICAgICAgICAgICB7CiAgImJ1YmJsaW5nTW91c2VFdmVudHMiOiB0cnVlLAogICJjb2xvciI6ICJibHVlIiwKICAiZGFzaEFycmF5IjogbnVsbCwKICAiZGFzaE9mZnNldCI6IG51bGwsCiAgImZpbGwiOiB0cnVlLAogICJmaWxsQ29sb3IiOiAiIzMxODZjYyIsCiAgImZpbGxPcGFjaXR5IjogMC43LAogICJmaWxsUnVsZSI6ICJldmVub2RkIiwKICAibGluZUNhcCI6ICJyb3VuZCIsCiAgImxpbmVKb2luIjogInJvdW5kIiwKICAib3BhY2l0eSI6IDEuMCwKICAicmFkaXVzIjogNSwKICAic3Ryb2tlIjogdHJ1ZSwKICAid2VpZ2h0IjogMwp9CiAgICAgICAgICAgICAgICApLmFkZFRvKG1hcF84Y2ZhMjM4ZTNiNTI0OTc1OWNjYmIxNTQ1OGIwMjFjYSk7CiAgICAgICAgICAgIAogICAgCiAgICAgICAgICAgIHZhciBwb3B1cF9kYWMzMDEwYjRlNWM0ZDFmOTFkOTFkODMyNTllM2JiNiA9IEwucG9wdXAoe21heFdpZHRoOiAnMzAwJ30pOwoKICAgICAgICAgICAgCiAgICAgICAgICAgICAgICB2YXIgaHRtbF9jZmQ5ODc0ODNlYzU0NDg4YWE4NjI5NTg0ZjBkMDFiMyA9ICQoJzxkaXYgaWQ9Imh0bWxfY2ZkOTg3NDgzZWM1NDQ4OGFhODYyOTU4NGYwZDAxYjMiIHN0eWxlPSJ3aWR0aDogMTAwLjAlOyBoZWlnaHQ6IDEwMC4wJTsiPjI2MjIuMCwgMzUyMDQzODAwMDE8L2Rpdj4nKVswXTsKICAgICAgICAgICAgICAgIHBvcHVwX2RhYzMwMTBiNGU1YzRkMWY5MWQ5MWQ4MzI1OWUzYmI2LnNldENvbnRlbnQoaHRtbF9jZmQ5ODc0ODNlYzU0NDg4YWE4NjI5NTg0ZjBkMDFiMyk7CiAgICAgICAgICAgIAoKICAgICAgICAgICAgY2lyY2xlX21hcmtlcl8wOTdlZDkwNzc0NWE0Yzg5YmZiMTBhZmQ5ZDgxNmYwYi5iaW5kUG9wdXAocG9wdXBfZGFjMzAxMGI0ZTVjNGQxZjkxZDkxZDgzMjU5ZTNiYjYpOwoKICAgICAgICAgICAgCiAgICAgICAgCiAgICAKICAgICAgICAgICAgdmFyIGNpcmNsZV9tYXJrZXJfODRiYTJlNWE4ZWE0NGQ5OWFhYjUxOWI0ZDU2NmFjOTMgPSBMLmNpcmNsZU1hcmtlcigKICAgICAgICAgICAgICAgIFs0My42NDAxNDEsLTc5LjQyNTc0MzAwMDAwMDAxXSwKICAgICAgICAgICAgICAgIHsKICAiYnViYmxpbmdNb3VzZUV2ZW50cyI6IHRydWUsCiAgImNvbG9yIjogImJsdWUiLAogICJkYXNoQXJyYXkiOiBudWxsLAogICJkYXNoT2Zmc2V0IjogbnVsbCwKICAiZmlsbCI6IHRydWUsCiAgImZpbGxDb2xvciI6ICIjMzE4NmNjIiwKICAiZmlsbE9wYWNpdHkiOiAwLjcsCiAgImZpbGxSdWxlIjogImV2ZW5vZGQiLAogICJsaW5lQ2FwIjogInJvdW5kIiwKICAibGluZUpvaW4iOiAicm91bmQiLAogICJvcGFjaXR5IjogMS4wLAogICJyYWRpdXMiOiA1LAogICJzdHJva2UiOiB0cnVlLAogICJ3ZWlnaHQiOiAzCn0KICAgICAgICAgICAgICAgICkuYWRkVG8obWFwXzhjZmEyMzhlM2I1MjQ5NzU5Y2NiYjE1NDU4YjAyMWNhKTsKICAgICAgICAgICAgCiAgICAKICAgICAgICAgICAgdmFyIHBvcHVwXzA1MDRlN2VmMjQ3MDRiNjg4YzYxMjE2NmNlNmE0NmEzID0gTC5wb3B1cCh7bWF4V2lkdGg6ICczMDAnfSk7CgogICAgICAgICAgICAKICAgICAgICAgICAgICAgIHZhciBodG1sXzk3ZTk5NzRkY2QzYTQyMDliNDEwZTNkNDA5YjJhMWY0ID0gJCgnPGRpdiBpZD0iaHRtbF85N2U5OTc0ZGNkM2E0MjA5YjQxMGUzZDQwOWIyYTFmNCIgc3R5bGU9IndpZHRoOiAxMDAuMCU7IGhlaWdodDogMTAwLjAlOyI+MjYwNS45OTk5OTk1LCAzNTIwNDY2NjAwMzwvZGl2PicpWzBdOwogICAgICAgICAgICAgICAgcG9wdXBfMDUwNGU3ZWYyNDcwNGI2ODhjNjEyMTY2Y2U2YTQ2YTMuc2V0Q29udGVudChodG1sXzk3ZTk5NzRkY2QzYTQyMDliNDEwZTNkNDA5YjJhMWY0KTsKICAgICAgICAgICAgCgogICAgICAgICAgICBjaXJjbGVfbWFya2VyXzg0YmEyZTVhOGVhNDRkOTlhYWI1MTliNGQ1NjZhYzkzLmJpbmRQb3B1cChwb3B1cF8wNTA0ZTdlZjI0NzA0YjY4OGM2MTIxNjZjZTZhNDZhMyk7CgogICAgICAgICAgICAKICAgICAgICAKICAgIAogICAgICAgICAgICB2YXIgY2lyY2xlX21hcmtlcl9kZDQzNzk2Y2M2ZTg0NWUyYTRiMDNlNGRkNjc2NTdkZCA9IEwuY2lyY2xlTWFya2VyKAogICAgICAgICAgICAgICAgWzQzLjY0NjE3NSwtNzkuMzczMDgzXSwKICAgICAgICAgICAgICAgIHsKICAiYnViYmxpbmdNb3VzZUV2ZW50cyI6IHRydWUsCiAgImNvbG9yIjogImJsdWUiLAogICJkYXNoQXJyYXkiOiBudWxsLAogICJkYXNoT2Zmc2V0IjogbnVsbCwKICAiZmlsbCI6IHRydWUsCiAgImZpbGxDb2xvciI6ICIjMzE4NmNjIiwKICAiZmlsbE9wYWNpdHkiOiAwLjcsCiAgImZpbGxSdWxlIjogImV2ZW5vZGQiLAogICJsaW5lQ2FwIjogInJvdW5kIiwKICAibGluZUpvaW4iOiAicm91bmQiLAogICJvcGFjaXR5IjogMS4wLAogICJyYWRpdXMiOiA1LAogICJzdHJva2UiOiB0cnVlLAogICJ3ZWlnaHQiOiAzCn0KICAgICAgICAgICAgICAgICkuYWRkVG8obWFwXzhjZmEyMzhlM2I1MjQ5NzU5Y2NiYjE1NDU4YjAyMWNhKTsKICAgICAgICAgICAgCiAgICAKICAgICAgICAgICAgdmFyIHBvcHVwXzIzOGVlYTIxYmIzMjRmY2U4ODUxZGRhMDUzZmQ1YWFjID0gTC5wb3B1cCh7bWF4V2lkdGg6ICczMDAnfSk7CgogICAgICAgICAgICAKICAgICAgICAgICAgICAgIHZhciBodG1sX2JiZmVhMTQyYTY2NjQxNTBhOGY3MWViYzYyMDU2MWRjID0gJCgnPGRpdiBpZD0iaHRtbF9iYmZlYTE0MmE2NjY0MTUwYThmNzFlYmM2MjA1NjFkYyIgc3R5bGU9IndpZHRoOiAxMDAuMCU7IGhlaWdodDogMTAwLjAlOyI+MjU1MS45OTk5OTk4NTAwMDE2LCAzNTIwNDY1MDAwNjwvZGl2PicpWzBdOwogICAgICAgICAgICAgICAgcG9wdXBfMjM4ZWVhMjFiYjMyNGZjZTg4NTFkZGEwNTNmZDVhYWMuc2V0Q29udGVudChodG1sX2JiZmVhMTQyYTY2NjQxNTBhOGY3MWViYzYyMDU2MWRjKTsKICAgICAgICAgICAgCgogICAgICAgICAgICBjaXJjbGVfbWFya2VyX2RkNDM3OTZjYzZlODQ1ZTJhNGIwM2U0ZGQ2NzY1N2RkLmJpbmRQb3B1cChwb3B1cF8yMzhlZWEyMWJiMzI0ZmNlODg1MWRkYTA1M2ZkNWFhYyk7CgogICAgICAgICAgICAKICAgICAgICAKICAgIAogICAgICAgICAgICB2YXIgY2lyY2xlX21hcmtlcl8yNGQ4ZDE3YTRkZjY0ODg5YWYyYjg3NmIxNTM4MDA4OCA9IEwuY2lyY2xlTWFya2VyKAogICAgICAgICAgICAgICAgWzQzLjcwMTg1MSwtNzkuMjg0Mjg4XSwKICAgICAgICAgICAgICAgIHsKICAiYnViYmxpbmdNb3VzZUV2ZW50cyI6IHRydWUsCiAgImNvbG9yIjogImJsdWUiLAogICJkYXNoQXJyYXkiOiBudWxsLAogICJkYXNoT2Zmc2V0IjogbnVsbCwKICAiZmlsbCI6IHRydWUsCiAgImZpbGxDb2xvciI6ICIjMzE4NmNjIiwKICAiZmlsbE9wYWNpdHkiOiAwLjcsCiAgImZpbGxSdWxlIjogImV2ZW5vZGQiLAogICJsaW5lQ2FwIjogInJvdW5kIiwKICAibGluZUpvaW4iOiAicm91bmQiLAogICJvcGFjaXR5IjogMS4wLAogICJyYWRpdXMiOiA1LAogICJzdHJva2UiOiB0cnVlLAogICJ3ZWlnaHQiOiAzCn0KICAgICAgICAgICAgICAgICkuYWRkVG8obWFwXzhjZmEyMzhlM2I1MjQ5NzU5Y2NiYjE1NDU4YjAyMWNhKTsKICAgICAgICAgICAgCiAgICAKICAgICAgICAgICAgdmFyIHBvcHVwX2JhYmFlNDk0MzEwZjQ0ODg5MTU1NWEyNzM4NTJlYzVmID0gTC5wb3B1cCh7bWF4V2lkdGg6ICczMDAnfSk7CgogICAgICAgICAgICAKICAgICAgICAgICAgICAgIHZhciBodG1sXzY3MzM1YmQxNTA0OTQ0NDc5ZDkxODAwYzY3ZGEyZGIxID0gJCgnPGRpdiBpZD0iaHRtbF82NzMzNWJkMTUwNDk0NDQ3OWQ5MTgwMGM2N2RhMmRiMSIgc3R5bGU9IndpZHRoOiAxMDAuMCU7IGhlaWdodDogMTAwLjAlOyI+MjU0NS4wMDAwMDA0MDAwMDAzLCAzNTIwMzUyMDAwNTwvZGl2PicpWzBdOwogICAgICAgICAgICAgICAgcG9wdXBfYmFiYWU0OTQzMTBmNDQ4ODkxNTU1YTI3Mzg1MmVjNWYuc2V0Q29udGVudChodG1sXzY3MzM1YmQxNTA0OTQ0NDc5ZDkxODAwYzY3ZGEyZGIxKTsKICAgICAgICAgICAgCgogICAgICAgICAgICBjaXJjbGVfbWFya2VyXzI0ZDhkMTdhNGRmNjQ4ODlhZjJiODc2YjE1MzgwMDg4LmJpbmRQb3B1cChwb3B1cF9iYWJhZTQ5NDMxMGY0NDg4OTE1NTVhMjczODUyZWM1Zik7CgogICAgICAgICAgICAKICAgICAgICAKICAgIAogICAgICAgICAgICB2YXIgY2lyY2xlX21hcmtlcl8zOTJlOTIyN2RjNTY0MDZjYWFjZTc2YjFhNWIwOTM0MCA9IEwuY2lyY2xlTWFya2VyKAogICAgICAgICAgICAgICAgWzQzLjY3MDQyOTk5OTk5OTk5NiwtNzkuMzgxNzQ1OTk5OTk5OTldLAogICAgICAgICAgICAgICAgewogICJidWJibGluZ01vdXNlRXZlbnRzIjogdHJ1ZSwKICAiY29sb3IiOiAiYmx1ZSIsCiAgImRhc2hBcnJheSI6IG51bGwsCiAgImRhc2hPZmZzZXQiOiBudWxsLAogICJmaWxsIjogdHJ1ZSwKICAiZmlsbENvbG9yIjogIiMzMTg2Y2MiLAogICJmaWxsT3BhY2l0eSI6IDAuNywKICAiZmlsbFJ1bGUiOiAiZXZlbm9kZCIsCiAgImxpbmVDYXAiOiAicm91bmQiLAogICJsaW5lSm9pbiI6ICJyb3VuZCIsCiAgIm9wYWNpdHkiOiAxLjAsCiAgInJhZGl1cyI6IDUsCiAgInN0cm9rZSI6IHRydWUsCiAgIndlaWdodCI6IDMKfQogICAgICAgICAgICAgICAgKS5hZGRUbyhtYXBfOGNmYTIzOGUzYjUyNDk3NTljY2JiMTU0NThiMDIxY2EpOwogICAgICAgICAgICAKICAgIAogICAgICAgICAgICB2YXIgcG9wdXBfNTM1NTFiMTJmYjkzNGZmN2FlMTcxYzI2YmIzMDY5OTQgPSBMLnBvcHVwKHttYXhXaWR0aDogJzMwMCd9KTsKCiAgICAgICAgICAgIAogICAgICAgICAgICAgICAgdmFyIGh0bWxfMTJhNmI3ZDIwZGFiNGM1YWI5ZmFmZTk3MjFkODBmYmEgPSAkKCc8ZGl2IGlkPSJodG1sXzEyYTZiN2QyMGRhYjRjNWFiOWZhZmU5NzIxZDgwZmJhIiBzdHlsZT0id2lkdGg6IDEwMC4wJTsgaGVpZ2h0OiAxMDAuMCU7Ij4yNTI3LjAwMDAwMDE5OTk5OTcsIDM1MjA0NTc4MDAxPC9kaXY+JylbMF07CiAgICAgICAgICAgICAgICBwb3B1cF81MzU1MWIxMmZiOTM0ZmY3YWUxNzFjMjZiYjMwNjk5NC5zZXRDb250ZW50KGh0bWxfMTJhNmI3ZDIwZGFiNGM1YWI5ZmFmZTk3MjFkODBmYmEpOwogICAgICAgICAgICAKCiAgICAgICAgICAgIGNpcmNsZV9tYXJrZXJfMzkyZTkyMjdkYzU2NDA2Y2FhY2U3NmIxYTViMDkzNDAuYmluZFBvcHVwKHBvcHVwXzUzNTUxYjEyZmI5MzRmZjdhZTE3MWMyNmJiMzA2OTk0KTsKCiAgICAgICAgICAgIAogICAgICAgIAo8L3NjcmlwdD4=\" style=\"position:absolute;width:100%;height:100%;left:0;top:0;border:none !important;\" allowfullscreen webkitallowfullscreen mozallowfullscreen></iframe></div></div>"
      ],
      "text/plain": [
       "<folium.folium.Map at 0x282b77d8400>"
      ]
     },
     "execution_count": 56,
     "metadata": {},
     "output_type": "execute_result"
    }
   ],
   "source": [
    "# create map of New York using latitude and longitude values\n",
    "map_toronto = folium.Map(location=[latitude, longitude], zoom_start=10)\n",
    "\n",
    "# add markers to map\n",
    "for lat, lng, census_blk, population_sum in zip(df_census_blks_GT25['Latitude'], df_census_blks_GT25['Longitude'], df_census_blks_GT25['census_blk'], df_census_blks_GT25['population_sum']):\n",
    "    label = '{}, {}'.format(population_sum, census_blk)\n",
    "    label = folium.Popup(label, parse_html=True)\n",
    "    folium.CircleMarker(\n",
    "        [lat, lng],\n",
    "        radius=5,\n",
    "        popup=label,\n",
    "        color='blue',\n",
    "        fill=True,\n",
    "        fill_color='#3186cc',\n",
    "        fill_opacity=0.7,\n",
    "        parse_html=False).add_to(map_toronto)  \n",
    "    \n",
    "map_toronto"
   ]
  },
  {
   "cell_type": "markdown",
   "metadata": {},
   "source": [
    "#### Now we have done some initial analysis, data preparation and visualization of the 25 new restaurant location candidates.  \n",
    "#### We would do further analysis and modeling in next week's Battle of the Neighborhood assignment."
   ]
  }
 ],
 "metadata": {
  "kernelspec": {
   "display_name": "Python 3",
   "language": "python",
   "name": "python3"
  },
  "language_info": {
   "codemirror_mode": {
    "name": "ipython",
    "version": 3
   },
   "file_extension": ".py",
   "mimetype": "text/x-python",
   "name": "python",
   "nbconvert_exporter": "python",
   "pygments_lexer": "ipython3",
   "version": "3.7.3"
  }
 },
 "nbformat": 4,
 "nbformat_minor": 2
}
