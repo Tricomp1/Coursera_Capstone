{
 "cells": [
  {
   "cell_type": "markdown",
   "metadata": {},
   "source": [
    "# Capstone Project - The Battle of Neighborhoods (Week 1)"
   ]
  },
  {
   "cell_type": "markdown",
   "metadata": {},
   "source": [
    "## **Introduction**"
   ]
  },
  {
   "cell_type": "markdown",
   "metadata": {},
   "source": [
    "### **Discussion of the background and Description of the problem  (i.e. Business Understanding and Analytic Approach):**"
   ]
  },
  {
   "cell_type": "markdown",
   "metadata": {},
   "source": [
    "Toronto, the capital of the province of Ontario, is the largest city of Canada with population over 2,826,498, and it is one of the most multicultural cities in the world, with immigrants bringing in their traditions, languages and especially their food culture into the city. **[1]**\n",
    "\n",
    "Therefore, food service industry is one of the very important and yet competitive industries in Toronto to serve this highly populated and diversified city.  And finding of the best places for opening up new restaurants in Toronto are particularly important for restaurant investors to minimize their risk when entering into the restaurant food service sector.\n",
    "\n",
    "However, due to Toronto’s historical immigration reasons and multicultural nature, different ethnic groups would have established their own ethnic community areas and preferred activity neighborhoods; this might affect new restaurants’ success and might add risks for the investors if restaurant location to their target restaurant clients are not matching properly.\n",
    "\n",
    "So, we would like to use the tools of Data Science to find the best possible successful location for a new restaurant for particular ethic style restaurant (in this case location for a new Chinese restaurant).   We would like to use data analysis to consider the proposed restaurant locations’ population, ease of commute and locations’ existing ethic food preference in recommendation of new restaurant locations.\n",
    "\n"
   ]
  },
  {
   "cell_type": "markdown",
   "metadata": {},
   "source": [
    " "
   ]
  },
  {
   "cell_type": "markdown",
   "metadata": {},
   "source": [
    "### **Description of the data and how it will be used to solve the problem:**\n"
   ]
  },
  {
   "cell_type": "markdown",
   "metadata": {},
   "source": [
    "#### **A) Data Analysis (i.e. Data Requirement and Data Collection):**"
   ]
  },
  {
   "cell_type": "markdown",
   "metadata": {},
   "source": [
    "Data from the Government of Canadian Census 2016 data for Toronto, the venue exploration data from the Foursquare API, as well as Geometric data would be utilized for this new restaurant location search."
   ]
  },
  {
   "cell_type": "markdown",
   "metadata": {},
   "source": [
    "**1)**  **Pseudo-Household Demogarphic Distribution data from the Government of Canada Open Government site** (i.e. https://open.canada.ca/data/en/dataset/b3a1d603-19ca-466c-ae95-b5185e56addf ) would be used as population information source for the proposed location data.  **__[2]__**\n",
    "\n",
    "The Pseudo-Household Demographic Distribution is a geospatial representative distribution of demographic data (population and households) derived from the Canadian Census from Statistics Canada.  \n",
    "\n",
    "Pseudo-household demographics are currently used to calculate broadband Internet service availability, but are equally applicable to other disciplines requiring a spatial distribution of households or population.   And in our case, we would utilize this population data in help to search for new best restaurant location candidates.\n",
    "\n",
    "We would use _Python Pandas_ package’s read_csv function to read in specific Pseudo-Household Demographic Distribution data .csv format file.   \n",
    "\n",
    "Due to the large size of the original Government Canada Pseudo-Household Demographic Distribution .csv file for the whole Ontario, we would first remove extra unnecessary data outside of Toronto and would focus analysis on Toronto related data.\n"
   ]
  },
  {
   "cell_type": "markdown",
   "metadata": {},
   "source": [
    "**2)**  **FourSquare API data** would be used to get public transit commute information and existing restaurant ethnic style information from Foursquare database for various restaurant location candidates in Toronto. **__[3]__**"
   ]
  },
  {
   "cell_type": "markdown",
   "metadata": {},
   "source": [
    "**3)** Python geopy geocoder classes for the **OpenStreetMap Nominatim database** would be used to handle geometric data lookup on getting the actual physical proposed restaurant locations from the final location candidates. **[4]**"
   ]
  },
  {
   "cell_type": "markdown",
   "metadata": {},
   "source": [
    "  "
   ]
  },
  {
   "cell_type": "markdown",
   "metadata": {},
   "source": [
    "#### **B) Methology on Data Understanding and Data Preparation:**"
   ]
  },
  {
   "cell_type": "markdown",
   "metadata": {},
   "source": [
    "##### **1. Descriptive statistics:**"
   ]
  },
  {
   "cell_type": "markdown",
   "metadata": {},
   "source": [
    "In order to better understand the above data sources on population and location venues if there were any relationship to restaurant location and to access their data quality, we would use _Python Pandas, Numpy and Matplotlib libraries_ to perform descriptive statistics such as **Univariate statistics** (i.e. mean, minimum, maximum and standard deviation) and **Histogram** to see how variables are distributed and what sorts of data preparation may be needed to make variables more useful in model.\n"
   ]
  },
  {
   "cell_type": "markdown",
   "metadata": {},
   "source": [
    "##### **2. Feature Engineering:**"
   ]
  },
  {
   "cell_type": "markdown",
   "metadata": {},
   "source": [
    "We would use our domain knowledge of restaurant operation and understanding of data sources form above descriptive statistics analysis to perform Feature Engineering and to create features that make the machine learning algorithms work. \n"
   ]
  },
  {
   "cell_type": "markdown",
   "metadata": {},
   "source": [
    "##### **3. Model Evaluation:**"
   ]
  },
  {
   "cell_type": "markdown",
   "metadata": {},
   "source": [
    "Since we are trying to find possible location grouping for restaurant, we would use the _Python SKLearn package_ to model **Unsupervised Learning method K-Means**.  And we would perform **Statistical Significance Testing** to tune and optimize the K-Means model.\n"
   ]
  },
  {
   "cell_type": "markdown",
   "metadata": {},
   "source": [
    "##### **4. Data Visualization:**"
   ]
  },
  {
   "cell_type": "markdown",
   "metadata": {},
   "source": [
    "We would use _Python Folium library_ for map visualization of the final proposed restaurant locations in a Toronto map.  And we would use _Python geopy geocoder classes for the OpenStreetMap Nominatim_ to get their actual physical location addresses.\n"
   ]
  },
  {
   "cell_type": "markdown",
   "metadata": {},
   "source": [
    " "
   ]
  },
  {
   "cell_type": "markdown",
   "metadata": {},
   "source": [
    "## **References:**"
   ]
  },
  {
   "cell_type": "markdown",
   "metadata": {},
   "source": [
    "* **[1]** Toronto - Wikipedia\n",
    "* **[2]** Government of Canada, Open Government, Pseudo-Household Demographic Distribution  (https://open.canada.ca/data/en/dataset/b3a1d603-19ca-466c-ae95-b5185e56addf)\n",
    "Publisher : Current Organization Name: Innovation, Science and Economic Development Canada\n",
    "Licence: Open Government Licence - Canada (https://open.canada.ca/en/open-government-licence-canada)\n",
    "* **[3]**  www.foursquare.com\n",
    "Base URI:  api.foursquare.com/v2\n",
    "* **[4]** geopy geocoder classes for the OpenStreetMap Nominatim\n",
    "(http://nominatim.org/)\n",
    "\n",
    "\n"
   ]
  }
 ],
 "metadata": {
  "kernelspec": {
   "display_name": "Python 3",
   "language": "python",
   "name": "python3"
  },
  "language_info": {
   "codemirror_mode": {
    "name": "ipython",
    "version": 3
   },
   "file_extension": ".py",
   "mimetype": "text/x-python",
   "name": "python",
   "nbconvert_exporter": "python",
   "pygments_lexer": "ipython3",
   "version": "3.7.3"
  }
 },
 "nbformat": 4,
 "nbformat_minor": 2
}
